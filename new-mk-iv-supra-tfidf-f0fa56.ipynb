{
 "cells": [
  {
   "cell_type": "code",
   "execution_count": 1,
   "id": "0c335365",
   "metadata": {
    "execution": {
     "iopub.execute_input": "2022-04-06T23:48:59.462238Z",
     "iopub.status.busy": "2022-04-06T23:48:59.460666Z",
     "iopub.status.idle": "2022-04-06T23:48:59.492682Z",
     "shell.execute_reply": "2022-04-06T23:48:59.493576Z",
     "shell.execute_reply.started": "2022-04-06T23:20:01.292427Z"
    },
    "papermill": {
     "duration": 0.090696,
     "end_time": "2022-04-06T23:48:59.493854",
     "exception": false,
     "start_time": "2022-04-06T23:48:59.403158",
     "status": "completed"
    },
    "tags": []
   },
   "outputs": [
    {
     "name": "stdout",
     "output_type": "stream",
     "text": [
      "/kaggle/input/finaldataset/final_dataset.csv\n",
      "/kaggle/input/all-covid19-vaccines-tweets/vaccination_all_tweets.csv\n",
      "/kaggle/input/setdata/new5_data (2).csv\n",
      "Setup Complete.\n"
     ]
    }
   ],
   "source": [
    "# This Python 3 environment comes with many helpful analytics libraries installed\n",
    "# It is defined by the kaggle/python Docker image: https://github.com/kaggle/docker-python\n",
    "# For example, here's several helpful packages to load\n",
    "\n",
    "import numpy as np # linear algebra\n",
    "import pandas as pd # data processing, CSV file I/O (e.g. pd.read_csv)\n",
    "\n",
    "# Input data files are available in the read-only \"../input/\" directory\n",
    "# For example, running this (by clicking run or pressing Shift+Enter) will list all files under the input directory\n",
    "\n",
    "import os\n",
    "for dirname, _, filenames in os.walk('/kaggle/input'):\n",
    "    for filename in filenames:\n",
    "        print(os.path.join(dirname, filename))\n",
    "print(\"Setup Complete.\")"
   ]
  },
  {
   "cell_type": "code",
   "execution_count": 2,
   "id": "837c628c",
   "metadata": {
    "execution": {
     "iopub.execute_input": "2022-04-06T23:48:59.562712Z",
     "iopub.status.busy": "2022-04-06T23:48:59.562011Z",
     "iopub.status.idle": "2022-04-06T23:49:03.739082Z",
     "shell.execute_reply": "2022-04-06T23:49:03.738638Z",
     "shell.execute_reply.started": "2022-04-06T23:20:01.325874Z"
    },
    "papermill": {
     "duration": 4.213441,
     "end_time": "2022-04-06T23:49:03.739211",
     "exception": false,
     "start_time": "2022-04-06T23:48:59.525770",
     "status": "completed"
    },
    "tags": []
   },
   "outputs": [
    {
     "name": "stdout",
     "output_type": "stream",
     "text": [
      "[nltk_data] Downloading package vader_lexicon to\n",
      "[nltk_data]     /usr/share/nltk_data...\n",
      "[nltk_data]   Package vader_lexicon is already up-to-date!\n",
      "Library Setup Complete.\n"
     ]
    },
    {
     "name": "stderr",
     "output_type": "stream",
     "text": [
      "/opt/conda/lib/python3.7/site-packages/nltk/twitter/__init__.py:20: UserWarning: The twython library has not been installed. Some functionality from the twitter package will not be available.\n",
      "  warnings.warn(\"The twython library has not been installed. \"\n"
     ]
    }
   ],
   "source": [
    "import re\n",
    "import string\n",
    "import nltk\n",
    "import matplotlib.pyplot as plt\n",
    "plt.rc('figure',figsize=(17,13))\n",
    "import seaborn as sns\n",
    "sns.set_style('darkgrid')\n",
    "import plotly.express as ex\n",
    "from plotly.subplots import make_subplots\n",
    "nltk.download('vader_lexicon')\n",
    "from nltk.sentiment.vader import SentimentIntensityAnalyzer as SIA\n",
    "from wordcloud import WordCloud,STOPWORDS, ImageColorGenerator\n",
    "from nltk.corpus import stopwords\n",
    "from nltk.stem import WordNetLemmatizer\n",
    "import datetime\n",
    "import warnings\n",
    "warnings.filterwarnings(\"ignore\")\n",
    "print(\"Library Setup Complete.\")"
   ]
  },
  {
   "cell_type": "code",
   "execution_count": 3,
   "id": "38935ef5",
   "metadata": {
    "execution": {
     "iopub.execute_input": "2022-04-06T23:49:03.806824Z",
     "iopub.status.busy": "2022-04-06T23:49:03.806313Z",
     "iopub.status.idle": "2022-04-06T23:49:06.484411Z",
     "shell.execute_reply": "2022-04-06T23:49:06.484814Z",
     "shell.execute_reply.started": "2022-04-06T23:20:05.496594Z"
    },
    "papermill": {
     "duration": 2.713338,
     "end_time": "2022-04-06T23:49:06.484968",
     "exception": false,
     "start_time": "2022-04-06T23:49:03.771630",
     "status": "completed"
    },
    "tags": []
   },
   "outputs": [
    {
     "name": "stdout",
     "output_type": "stream",
     "text": [
      "Read Complete.\n"
     ]
    }
   ],
   "source": [
    "# Reading Data\n",
    "vaccine_filepath = '../input/all-covid19-vaccines-tweets/vaccination_all_tweets.csv'\n",
    "vaccine_data = pd.read_csv(vaccine_filepath)\n",
    "print(\"Read Complete.\")"
   ]
  },
  {
   "cell_type": "code",
   "execution_count": 4,
   "id": "7468055f",
   "metadata": {
    "execution": {
     "iopub.execute_input": "2022-04-06T23:49:06.559767Z",
     "iopub.status.busy": "2022-04-06T23:49:06.559137Z",
     "iopub.status.idle": "2022-04-06T23:49:06.583444Z",
     "shell.execute_reply": "2022-04-06T23:49:06.582969Z",
     "shell.execute_reply.started": "2022-04-06T23:20:08.532501Z"
    },
    "papermill": {
     "duration": 0.065908,
     "end_time": "2022-04-06T23:49:06.583560",
     "exception": false,
     "start_time": "2022-04-06T23:49:06.517652",
     "status": "completed"
    },
    "tags": []
   },
   "outputs": [
    {
     "data": {
      "text/html": [
       "<div>\n",
       "<style scoped>\n",
       "    .dataframe tbody tr th:only-of-type {\n",
       "        vertical-align: middle;\n",
       "    }\n",
       "\n",
       "    .dataframe tbody tr th {\n",
       "        vertical-align: top;\n",
       "    }\n",
       "\n",
       "    .dataframe thead th {\n",
       "        text-align: right;\n",
       "    }\n",
       "</style>\n",
       "<table border=\"1\" class=\"dataframe\">\n",
       "  <thead>\n",
       "    <tr style=\"text-align: right;\">\n",
       "      <th></th>\n",
       "      <th>id</th>\n",
       "      <th>user_name</th>\n",
       "      <th>user_location</th>\n",
       "      <th>user_description</th>\n",
       "      <th>user_created</th>\n",
       "      <th>user_followers</th>\n",
       "      <th>user_friends</th>\n",
       "      <th>user_favourites</th>\n",
       "      <th>user_verified</th>\n",
       "      <th>date</th>\n",
       "      <th>text</th>\n",
       "      <th>hashtags</th>\n",
       "      <th>source</th>\n",
       "      <th>retweets</th>\n",
       "      <th>favorites</th>\n",
       "      <th>is_retweet</th>\n",
       "    </tr>\n",
       "  </thead>\n",
       "  <tbody>\n",
       "    <tr>\n",
       "      <th>0</th>\n",
       "      <td>1340539111971516416</td>\n",
       "      <td>Rachel Roh</td>\n",
       "      <td>La Crescenta-Montrose, CA</td>\n",
       "      <td>Aggregator of Asian American news; scanning di...</td>\n",
       "      <td>2009-04-08 17:52:46</td>\n",
       "      <td>405</td>\n",
       "      <td>1692</td>\n",
       "      <td>3247</td>\n",
       "      <td>False</td>\n",
       "      <td>2020-12-20 06:06:44</td>\n",
       "      <td>Same folks said daikon paste could treat a cyt...</td>\n",
       "      <td>['PfizerBioNTech']</td>\n",
       "      <td>Twitter for Android</td>\n",
       "      <td>0</td>\n",
       "      <td>0</td>\n",
       "      <td>False</td>\n",
       "    </tr>\n",
       "    <tr>\n",
       "      <th>1</th>\n",
       "      <td>1338158543359250433</td>\n",
       "      <td>Albert Fong</td>\n",
       "      <td>San Francisco, CA</td>\n",
       "      <td>Marketing dude, tech geek, heavy metal &amp; '80s ...</td>\n",
       "      <td>2009-09-21 15:27:30</td>\n",
       "      <td>834</td>\n",
       "      <td>666</td>\n",
       "      <td>178</td>\n",
       "      <td>False</td>\n",
       "      <td>2020-12-13 16:27:13</td>\n",
       "      <td>While the world has been on the wrong side of ...</td>\n",
       "      <td>NaN</td>\n",
       "      <td>Twitter Web App</td>\n",
       "      <td>1</td>\n",
       "      <td>1</td>\n",
       "      <td>False</td>\n",
       "    </tr>\n",
       "    <tr>\n",
       "      <th>2</th>\n",
       "      <td>1337858199140118533</td>\n",
       "      <td>eli🇱🇹🇪🇺👌</td>\n",
       "      <td>Your Bed</td>\n",
       "      <td>heil, hydra 🖐☺</td>\n",
       "      <td>2020-06-25 23:30:28</td>\n",
       "      <td>10</td>\n",
       "      <td>88</td>\n",
       "      <td>155</td>\n",
       "      <td>False</td>\n",
       "      <td>2020-12-12 20:33:45</td>\n",
       "      <td>#coronavirus #SputnikV #AstraZeneca #PfizerBio...</td>\n",
       "      <td>['coronavirus', 'SputnikV', 'AstraZeneca', 'Pf...</td>\n",
       "      <td>Twitter for Android</td>\n",
       "      <td>0</td>\n",
       "      <td>0</td>\n",
       "      <td>False</td>\n",
       "    </tr>\n",
       "    <tr>\n",
       "      <th>3</th>\n",
       "      <td>1337855739918835717</td>\n",
       "      <td>Charles Adler</td>\n",
       "      <td>Vancouver, BC - Canada</td>\n",
       "      <td>Hosting \"CharlesAdlerTonight\" Global News Radi...</td>\n",
       "      <td>2008-09-10 11:28:53</td>\n",
       "      <td>49165</td>\n",
       "      <td>3933</td>\n",
       "      <td>21853</td>\n",
       "      <td>True</td>\n",
       "      <td>2020-12-12 20:23:59</td>\n",
       "      <td>Facts are immutable, Senator, even when you're...</td>\n",
       "      <td>NaN</td>\n",
       "      <td>Twitter Web App</td>\n",
       "      <td>446</td>\n",
       "      <td>2129</td>\n",
       "      <td>False</td>\n",
       "    </tr>\n",
       "    <tr>\n",
       "      <th>4</th>\n",
       "      <td>1337854064604966912</td>\n",
       "      <td>Citizen News Channel</td>\n",
       "      <td>NaN</td>\n",
       "      <td>Citizen News Channel bringing you an alternati...</td>\n",
       "      <td>2020-04-23 17:58:42</td>\n",
       "      <td>152</td>\n",
       "      <td>580</td>\n",
       "      <td>1473</td>\n",
       "      <td>False</td>\n",
       "      <td>2020-12-12 20:17:19</td>\n",
       "      <td>Explain to me again why we need a vaccine @Bor...</td>\n",
       "      <td>['whereareallthesickpeople', 'PfizerBioNTech']</td>\n",
       "      <td>Twitter for iPhone</td>\n",
       "      <td>0</td>\n",
       "      <td>0</td>\n",
       "      <td>False</td>\n",
       "    </tr>\n",
       "  </tbody>\n",
       "</table>\n",
       "</div>"
      ],
      "text/plain": [
       "                    id             user_name              user_location  \\\n",
       "0  1340539111971516416            Rachel Roh  La Crescenta-Montrose, CA   \n",
       "1  1338158543359250433           Albert Fong          San Francisco, CA   \n",
       "2  1337858199140118533              eli🇱🇹🇪🇺👌                   Your Bed   \n",
       "3  1337855739918835717         Charles Adler     Vancouver, BC - Canada   \n",
       "4  1337854064604966912  Citizen News Channel                        NaN   \n",
       "\n",
       "                                    user_description         user_created  \\\n",
       "0  Aggregator of Asian American news; scanning di...  2009-04-08 17:52:46   \n",
       "1  Marketing dude, tech geek, heavy metal & '80s ...  2009-09-21 15:27:30   \n",
       "2                                     heil, hydra 🖐☺  2020-06-25 23:30:28   \n",
       "3  Hosting \"CharlesAdlerTonight\" Global News Radi...  2008-09-10 11:28:53   \n",
       "4  Citizen News Channel bringing you an alternati...  2020-04-23 17:58:42   \n",
       "\n",
       "   user_followers  user_friends  user_favourites  user_verified  \\\n",
       "0             405          1692             3247          False   \n",
       "1             834           666              178          False   \n",
       "2              10            88              155          False   \n",
       "3           49165          3933            21853           True   \n",
       "4             152           580             1473          False   \n",
       "\n",
       "                  date                                               text  \\\n",
       "0  2020-12-20 06:06:44  Same folks said daikon paste could treat a cyt...   \n",
       "1  2020-12-13 16:27:13  While the world has been on the wrong side of ...   \n",
       "2  2020-12-12 20:33:45  #coronavirus #SputnikV #AstraZeneca #PfizerBio...   \n",
       "3  2020-12-12 20:23:59  Facts are immutable, Senator, even when you're...   \n",
       "4  2020-12-12 20:17:19  Explain to me again why we need a vaccine @Bor...   \n",
       "\n",
       "                                            hashtags               source  \\\n",
       "0                                 ['PfizerBioNTech']  Twitter for Android   \n",
       "1                                                NaN      Twitter Web App   \n",
       "2  ['coronavirus', 'SputnikV', 'AstraZeneca', 'Pf...  Twitter for Android   \n",
       "3                                                NaN      Twitter Web App   \n",
       "4     ['whereareallthesickpeople', 'PfizerBioNTech']   Twitter for iPhone   \n",
       "\n",
       "   retweets  favorites  is_retweet  \n",
       "0         0          0       False  \n",
       "1         1          1       False  \n",
       "2         0          0       False  \n",
       "3       446       2129       False  \n",
       "4         0          0       False  "
      ]
     },
     "execution_count": 4,
     "metadata": {},
     "output_type": "execute_result"
    }
   ],
   "source": [
    "# Examining Data\n",
    "vaccine_data.head()"
   ]
  },
  {
   "cell_type": "code",
   "execution_count": 5,
   "id": "ef0b5ceb",
   "metadata": {
    "execution": {
     "iopub.execute_input": "2022-04-06T23:49:06.664676Z",
     "iopub.status.busy": "2022-04-06T23:49:06.664135Z",
     "iopub.status.idle": "2022-04-06T23:49:06.670510Z",
     "shell.execute_reply": "2022-04-06T23:49:06.670000Z",
     "shell.execute_reply.started": "2022-04-06T23:20:08.566995Z"
    },
    "papermill": {
     "duration": 0.054854,
     "end_time": "2022-04-06T23:49:06.670625",
     "exception": false,
     "start_time": "2022-04-06T23:49:06.615771",
     "status": "completed"
    },
    "tags": []
   },
   "outputs": [
    {
     "data": {
      "text/html": [
       "<div>\n",
       "<style scoped>\n",
       "    .dataframe tbody tr th:only-of-type {\n",
       "        vertical-align: middle;\n",
       "    }\n",
       "\n",
       "    .dataframe tbody tr th {\n",
       "        vertical-align: top;\n",
       "    }\n",
       "\n",
       "    .dataframe thead th {\n",
       "        text-align: right;\n",
       "    }\n",
       "</style>\n",
       "<table border=\"1\" class=\"dataframe\">\n",
       "  <thead>\n",
       "    <tr style=\"text-align: right;\">\n",
       "      <th></th>\n",
       "      <th>id</th>\n",
       "      <th>user_name</th>\n",
       "      <th>user_location</th>\n",
       "      <th>user_description</th>\n",
       "      <th>user_created</th>\n",
       "      <th>user_followers</th>\n",
       "      <th>user_friends</th>\n",
       "      <th>user_favourites</th>\n",
       "      <th>user_verified</th>\n",
       "      <th>date</th>\n",
       "      <th>text</th>\n",
       "      <th>hashtags</th>\n",
       "      <th>source</th>\n",
       "      <th>retweets</th>\n",
       "      <th>favorites</th>\n",
       "      <th>is_retweet</th>\n",
       "    </tr>\n",
       "  </thead>\n",
       "  <tbody>\n",
       "    <tr>\n",
       "      <th>228202</th>\n",
       "      <td>1460170772299665408</td>\n",
       "      <td>VaxBLR</td>\n",
       "      <td>Bengaluru, India</td>\n",
       "      <td>Hourly updates on FREE and PAID 18+ and 45+ va...</td>\n",
       "      <td>2021-06-21 08:44:34</td>\n",
       "      <td>31</td>\n",
       "      <td>0</td>\n",
       "      <td>0</td>\n",
       "      <td>False</td>\n",
       "      <td>2021-11-15 09:00:15</td>\n",
       "      <td>45+ #URBAN #Bengaluru #CovidVaccine Availabili...</td>\n",
       "      <td>['URBAN', 'Bengaluru', 'CovidVaccine', 'COVISH...</td>\n",
       "      <td>VaxBlr</td>\n",
       "      <td>0</td>\n",
       "      <td>0</td>\n",
       "      <td>False</td>\n",
       "    </tr>\n",
       "    <tr>\n",
       "      <th>228203</th>\n",
       "      <td>1460163268262051841</td>\n",
       "      <td>VaxBLR</td>\n",
       "      <td>Bengaluru, India</td>\n",
       "      <td>Hourly updates on FREE and PAID 18+ and 45+ va...</td>\n",
       "      <td>2021-06-21 08:44:34</td>\n",
       "      <td>31</td>\n",
       "      <td>0</td>\n",
       "      <td>0</td>\n",
       "      <td>False</td>\n",
       "      <td>2021-11-15 08:30:26</td>\n",
       "      <td>18-44 #BBMP #Bengaluru #CovidVaccine Availabil...</td>\n",
       "      <td>['BBMP', 'Bengaluru', 'CovidVaccine', 'COVISHI...</td>\n",
       "      <td>VaxBlr</td>\n",
       "      <td>0</td>\n",
       "      <td>1</td>\n",
       "      <td>False</td>\n",
       "    </tr>\n",
       "    <tr>\n",
       "      <th>228204</th>\n",
       "      <td>1460163224221851655</td>\n",
       "      <td>VaxBLR</td>\n",
       "      <td>Bengaluru, India</td>\n",
       "      <td>Hourly updates on FREE and PAID 18+ and 45+ va...</td>\n",
       "      <td>2021-06-21 08:44:34</td>\n",
       "      <td>31</td>\n",
       "      <td>0</td>\n",
       "      <td>0</td>\n",
       "      <td>False</td>\n",
       "      <td>2021-11-15 08:30:15</td>\n",
       "      <td>18-44 #URBAN #Bengaluru #CovidVaccine Availabi...</td>\n",
       "      <td>['URBAN', 'Bengaluru', 'CovidVaccine', 'COVISH...</td>\n",
       "      <td>VaxBlr</td>\n",
       "      <td>0</td>\n",
       "      <td>0</td>\n",
       "      <td>False</td>\n",
       "    </tr>\n",
       "    <tr>\n",
       "      <th>228205</th>\n",
       "      <td>1460156376995573765</td>\n",
       "      <td>Gatti Valentino🐾</td>\n",
       "      <td>Southern  Africa</td>\n",
       "      <td>Entrepreneur, self taught cook🍲🌮 @Chelsea @Fer...</td>\n",
       "      <td>2019-08-28 10:31:43</td>\n",
       "      <td>8103</td>\n",
       "      <td>3113</td>\n",
       "      <td>45726</td>\n",
       "      <td>False</td>\n",
       "      <td>2021-11-15 08:03:03</td>\n",
       "      <td>They promote their Vaccines leaving out the st...</td>\n",
       "      <td>['SputnikV']</td>\n",
       "      <td>Twitter for Android</td>\n",
       "      <td>0</td>\n",
       "      <td>0</td>\n",
       "      <td>False</td>\n",
       "    </tr>\n",
       "    <tr>\n",
       "      <th>228206</th>\n",
       "      <td>1460155671140134912</td>\n",
       "      <td>VaxBLR</td>\n",
       "      <td>Bengaluru, India</td>\n",
       "      <td>Hourly updates on FREE and PAID 18+ and 45+ va...</td>\n",
       "      <td>2021-06-21 08:44:34</td>\n",
       "      <td>31</td>\n",
       "      <td>0</td>\n",
       "      <td>0</td>\n",
       "      <td>False</td>\n",
       "      <td>2021-11-15 08:00:15</td>\n",
       "      <td>45+ #URBAN #Bengaluru #CovidVaccine Availabili...</td>\n",
       "      <td>['URBAN', 'Bengaluru', 'CovidVaccine', 'COVISH...</td>\n",
       "      <td>VaxBlr</td>\n",
       "      <td>0</td>\n",
       "      <td>0</td>\n",
       "      <td>False</td>\n",
       "    </tr>\n",
       "  </tbody>\n",
       "</table>\n",
       "</div>"
      ],
      "text/plain": [
       "                         id         user_name      user_location  \\\n",
       "228202  1460170772299665408            VaxBLR   Bengaluru, India   \n",
       "228203  1460163268262051841            VaxBLR   Bengaluru, India   \n",
       "228204  1460163224221851655            VaxBLR   Bengaluru, India   \n",
       "228205  1460156376995573765  Gatti Valentino🐾  Southern  Africa    \n",
       "228206  1460155671140134912            VaxBLR   Bengaluru, India   \n",
       "\n",
       "                                         user_description  \\\n",
       "228202  Hourly updates on FREE and PAID 18+ and 45+ va...   \n",
       "228203  Hourly updates on FREE and PAID 18+ and 45+ va...   \n",
       "228204  Hourly updates on FREE and PAID 18+ and 45+ va...   \n",
       "228205  Entrepreneur, self taught cook🍲🌮 @Chelsea @Fer...   \n",
       "228206  Hourly updates on FREE and PAID 18+ and 45+ va...   \n",
       "\n",
       "               user_created  user_followers  user_friends  user_favourites  \\\n",
       "228202  2021-06-21 08:44:34              31             0                0   \n",
       "228203  2021-06-21 08:44:34              31             0                0   \n",
       "228204  2021-06-21 08:44:34              31             0                0   \n",
       "228205  2019-08-28 10:31:43            8103          3113            45726   \n",
       "228206  2021-06-21 08:44:34              31             0                0   \n",
       "\n",
       "        user_verified                 date  \\\n",
       "228202          False  2021-11-15 09:00:15   \n",
       "228203          False  2021-11-15 08:30:26   \n",
       "228204          False  2021-11-15 08:30:15   \n",
       "228205          False  2021-11-15 08:03:03   \n",
       "228206          False  2021-11-15 08:00:15   \n",
       "\n",
       "                                                     text  \\\n",
       "228202  45+ #URBAN #Bengaluru #CovidVaccine Availabili...   \n",
       "228203  18-44 #BBMP #Bengaluru #CovidVaccine Availabil...   \n",
       "228204  18-44 #URBAN #Bengaluru #CovidVaccine Availabi...   \n",
       "228205  They promote their Vaccines leaving out the st...   \n",
       "228206  45+ #URBAN #Bengaluru #CovidVaccine Availabili...   \n",
       "\n",
       "                                                 hashtags  \\\n",
       "228202  ['URBAN', 'Bengaluru', 'CovidVaccine', 'COVISH...   \n",
       "228203  ['BBMP', 'Bengaluru', 'CovidVaccine', 'COVISHI...   \n",
       "228204  ['URBAN', 'Bengaluru', 'CovidVaccine', 'COVISH...   \n",
       "228205                                       ['SputnikV']   \n",
       "228206  ['URBAN', 'Bengaluru', 'CovidVaccine', 'COVISH...   \n",
       "\n",
       "                     source  retweets  favorites  is_retweet  \n",
       "228202               VaxBlr         0          0       False  \n",
       "228203               VaxBlr         0          1       False  \n",
       "228204               VaxBlr         0          0       False  \n",
       "228205  Twitter for Android         0          0       False  \n",
       "228206               VaxBlr         0          0       False  "
      ]
     },
     "execution_count": 5,
     "metadata": {},
     "output_type": "execute_result"
    }
   ],
   "source": [
    "# Examining Data\n",
    "vaccine_data.tail()"
   ]
  },
  {
   "cell_type": "code",
   "execution_count": 6,
   "id": "a17531a2",
   "metadata": {
    "execution": {
     "iopub.execute_input": "2022-04-06T23:49:06.741723Z",
     "iopub.status.busy": "2022-04-06T23:49:06.740794Z",
     "iopub.status.idle": "2022-04-06T23:49:06.743852Z",
     "shell.execute_reply": "2022-04-06T23:49:06.744272Z",
     "shell.execute_reply.started": "2022-04-06T23:20:08.590167Z"
    },
    "papermill": {
     "duration": 0.040673,
     "end_time": "2022-04-06T23:49:06.744402",
     "exception": false,
     "start_time": "2022-04-06T23:49:06.703729",
     "status": "completed"
    },
    "tags": []
   },
   "outputs": [
    {
     "data": {
      "text/plain": [
       "(228207, 16)"
      ]
     },
     "execution_count": 6,
     "metadata": {},
     "output_type": "execute_result"
    }
   ],
   "source": [
    "# Determining size\n",
    "vaccine_data.shape"
   ]
  },
  {
   "cell_type": "code",
   "execution_count": 7,
   "id": "89afd033",
   "metadata": {
    "execution": {
     "iopub.execute_input": "2022-04-06T23:49:06.820822Z",
     "iopub.status.busy": "2022-04-06T23:49:06.819941Z",
     "iopub.status.idle": "2022-04-06T23:49:06.877668Z",
     "shell.execute_reply": "2022-04-06T23:49:06.878136Z",
     "shell.execute_reply.started": "2022-04-06T23:20:08.599051Z"
    },
    "papermill": {
     "duration": 0.101446,
     "end_time": "2022-04-06T23:49:06.878291",
     "exception": false,
     "start_time": "2022-04-06T23:49:06.776845",
     "status": "completed"
    },
    "tags": []
   },
   "outputs": [
    {
     "data": {
      "text/html": [
       "<div>\n",
       "<style scoped>\n",
       "    .dataframe tbody tr th:only-of-type {\n",
       "        vertical-align: middle;\n",
       "    }\n",
       "\n",
       "    .dataframe tbody tr th {\n",
       "        vertical-align: top;\n",
       "    }\n",
       "\n",
       "    .dataframe thead th {\n",
       "        text-align: right;\n",
       "    }\n",
       "</style>\n",
       "<table border=\"1\" class=\"dataframe\">\n",
       "  <thead>\n",
       "    <tr style=\"text-align: right;\">\n",
       "      <th></th>\n",
       "      <th>id</th>\n",
       "      <th>user_followers</th>\n",
       "      <th>user_friends</th>\n",
       "      <th>user_favourites</th>\n",
       "      <th>retweets</th>\n",
       "      <th>favorites</th>\n",
       "    </tr>\n",
       "  </thead>\n",
       "  <tbody>\n",
       "    <tr>\n",
       "      <th>count</th>\n",
       "      <td>2.282070e+05</td>\n",
       "      <td>2.282070e+05</td>\n",
       "      <td>228207.000000</td>\n",
       "      <td>2.282070e+05</td>\n",
       "      <td>228207.000000</td>\n",
       "      <td>228207.000000</td>\n",
       "    </tr>\n",
       "    <tr>\n",
       "      <th>mean</th>\n",
       "      <td>1.407541e+18</td>\n",
       "      <td>9.605393e+04</td>\n",
       "      <td>986.736204</td>\n",
       "      <td>1.210417e+04</td>\n",
       "      <td>2.489284</td>\n",
       "      <td>10.819020</td>\n",
       "    </tr>\n",
       "    <tr>\n",
       "      <th>std</th>\n",
       "      <td>2.908485e+16</td>\n",
       "      <td>8.389053e+05</td>\n",
       "      <td>5293.500468</td>\n",
       "      <td>3.908233e+04</td>\n",
       "      <td>51.079821</td>\n",
       "      <td>199.527693</td>\n",
       "    </tr>\n",
       "    <tr>\n",
       "      <th>min</th>\n",
       "      <td>1.337728e+18</td>\n",
       "      <td>0.000000e+00</td>\n",
       "      <td>0.000000</td>\n",
       "      <td>0.000000e+00</td>\n",
       "      <td>0.000000</td>\n",
       "      <td>0.000000</td>\n",
       "    </tr>\n",
       "    <tr>\n",
       "      <th>25%</th>\n",
       "      <td>1.381940e+18</td>\n",
       "      <td>5.500000e+01</td>\n",
       "      <td>27.000000</td>\n",
       "      <td>5.700000e+01</td>\n",
       "      <td>0.000000</td>\n",
       "      <td>0.000000</td>\n",
       "    </tr>\n",
       "    <tr>\n",
       "      <th>50%</th>\n",
       "      <td>1.408133e+18</td>\n",
       "      <td>3.280000e+02</td>\n",
       "      <td>229.000000</td>\n",
       "      <td>9.960000e+02</td>\n",
       "      <td>0.000000</td>\n",
       "      <td>0.000000</td>\n",
       "    </tr>\n",
       "    <tr>\n",
       "      <th>75%</th>\n",
       "      <td>1.428688e+18</td>\n",
       "      <td>1.521000e+03</td>\n",
       "      <td>794.000000</td>\n",
       "      <td>7.300000e+03</td>\n",
       "      <td>1.000000</td>\n",
       "      <td>2.000000</td>\n",
       "    </tr>\n",
       "    <tr>\n",
       "      <th>max</th>\n",
       "      <td>1.463251e+18</td>\n",
       "      <td>1.635305e+07</td>\n",
       "      <td>582461.000000</td>\n",
       "      <td>1.299600e+06</td>\n",
       "      <td>12294.000000</td>\n",
       "      <td>54017.000000</td>\n",
       "    </tr>\n",
       "  </tbody>\n",
       "</table>\n",
       "</div>"
      ],
      "text/plain": [
       "                 id  user_followers   user_friends  user_favourites  \\\n",
       "count  2.282070e+05    2.282070e+05  228207.000000     2.282070e+05   \n",
       "mean   1.407541e+18    9.605393e+04     986.736204     1.210417e+04   \n",
       "std    2.908485e+16    8.389053e+05    5293.500468     3.908233e+04   \n",
       "min    1.337728e+18    0.000000e+00       0.000000     0.000000e+00   \n",
       "25%    1.381940e+18    5.500000e+01      27.000000     5.700000e+01   \n",
       "50%    1.408133e+18    3.280000e+02     229.000000     9.960000e+02   \n",
       "75%    1.428688e+18    1.521000e+03     794.000000     7.300000e+03   \n",
       "max    1.463251e+18    1.635305e+07  582461.000000     1.299600e+06   \n",
       "\n",
       "            retweets      favorites  \n",
       "count  228207.000000  228207.000000  \n",
       "mean        2.489284      10.819020  \n",
       "std        51.079821     199.527693  \n",
       "min         0.000000       0.000000  \n",
       "25%         0.000000       0.000000  \n",
       "50%         0.000000       0.000000  \n",
       "75%         1.000000       2.000000  \n",
       "max     12294.000000   54017.000000  "
      ]
     },
     "execution_count": 7,
     "metadata": {},
     "output_type": "execute_result"
    }
   ],
   "source": [
    "# Examining statistics\n",
    "vaccine_data.describe()"
   ]
  },
  {
   "cell_type": "code",
   "execution_count": 8,
   "id": "82c72d96",
   "metadata": {
    "execution": {
     "iopub.execute_input": "2022-04-06T23:49:06.953092Z",
     "iopub.status.busy": "2022-04-06T23:49:06.952103Z",
     "iopub.status.idle": "2022-04-06T23:49:06.956614Z",
     "shell.execute_reply": "2022-04-06T23:49:06.956171Z",
     "shell.execute_reply.started": "2022-04-06T23:20:08.681554Z"
    },
    "papermill": {
     "duration": 0.043516,
     "end_time": "2022-04-06T23:49:06.956725",
     "exception": false,
     "start_time": "2022-04-06T23:49:06.913209",
     "status": "completed"
    },
    "tags": []
   },
   "outputs": [
    {
     "data": {
      "text/plain": [
       "id                   int64\n",
       "user_name           object\n",
       "user_location       object\n",
       "user_description    object\n",
       "user_created        object\n",
       "user_followers       int64\n",
       "user_friends         int64\n",
       "user_favourites      int64\n",
       "user_verified         bool\n",
       "date                object\n",
       "text                object\n",
       "hashtags            object\n",
       "source              object\n",
       "retweets             int64\n",
       "favorites            int64\n",
       "is_retweet            bool\n",
       "dtype: object"
      ]
     },
     "execution_count": 8,
     "metadata": {},
     "output_type": "execute_result"
    }
   ],
   "source": [
    "# Determining data types\n",
    "vaccine_data.dtypes"
   ]
  },
  {
   "cell_type": "code",
   "execution_count": 9,
   "id": "23f3f700",
   "metadata": {
    "execution": {
     "iopub.execute_input": "2022-04-06T23:49:07.181047Z",
     "iopub.status.busy": "2022-04-06T23:49:07.027829Z",
     "iopub.status.idle": "2022-04-06T23:49:07.191435Z",
     "shell.execute_reply": "2022-04-06T23:49:07.190959Z",
     "shell.execute_reply.started": "2022-04-06T23:20:08.695045Z"
    },
    "papermill": {
     "duration": 0.201053,
     "end_time": "2022-04-06T23:49:07.191560",
     "exception": false,
     "start_time": "2022-04-06T23:49:06.990507",
     "status": "completed"
    },
    "tags": []
   },
   "outputs": [
    {
     "data": {
      "text/plain": [
       "id                      0\n",
       "user_name               2\n",
       "user_location       66911\n",
       "user_description    17018\n",
       "user_created            0\n",
       "user_followers          0\n",
       "user_friends            0\n",
       "user_favourites         0\n",
       "user_verified           0\n",
       "date                    0\n",
       "text                    0\n",
       "hashtags            49703\n",
       "source                119\n",
       "retweets                0\n",
       "favorites               0\n",
       "is_retweet              0\n",
       "dtype: int64"
      ]
     },
     "execution_count": 9,
     "metadata": {},
     "output_type": "execute_result"
    }
   ],
   "source": [
    "# Looking for unfilled values\n",
    "vaccine_data.isnull().sum()"
   ]
  },
  {
   "cell_type": "code",
   "execution_count": 10,
   "id": "a1ddc4e3",
   "metadata": {
    "execution": {
     "iopub.execute_input": "2022-04-06T23:49:07.288532Z",
     "iopub.status.busy": "2022-04-06T23:49:07.287741Z",
     "iopub.status.idle": "2022-04-06T23:49:07.547498Z",
     "shell.execute_reply": "2022-04-06T23:49:07.547905Z",
     "shell.execute_reply.started": "2022-04-06T23:20:08.881536Z"
    },
    "papermill": {
     "duration": 0.322108,
     "end_time": "2022-04-06T23:49:07.548074",
     "exception": false,
     "start_time": "2022-04-06T23:49:07.225966",
     "status": "completed"
    },
    "tags": []
   },
   "outputs": [
    {
     "data": {
      "text/plain": [
       "0         same folks said daikon paste could treat a cyt...\n",
       "1         while the world has been on the wrong side of ...\n",
       "2         #coronavirus #sputnikv #astrazeneca #pfizerbio...\n",
       "3         facts are immutable, senator, even when you're...\n",
       "4         explain to me again why we need a vaccine @bor...\n",
       "                                ...                        \n",
       "228202    45+ #urban #bengaluru #covidvaccine availabili...\n",
       "228203    18-44 #bbmp #bengaluru #covidvaccine availabil...\n",
       "228204    18-44 #urban #bengaluru #covidvaccine availabi...\n",
       "228205    they promote their vaccines leaving out the st...\n",
       "228206    45+ #urban #bengaluru #covidvaccine availabili...\n",
       "Name: text, Length: 228207, dtype: object"
      ]
     },
     "execution_count": 10,
     "metadata": {},
     "output_type": "execute_result"
    }
   ],
   "source": [
    "# Lowercase\n",
    "vaccine_data['text'] = vaccine_data['text'].str.lower()\n",
    "vaccine_data['text']"
   ]
  },
  {
   "cell_type": "code",
   "execution_count": 11,
   "id": "1d98a192",
   "metadata": {
    "execution": {
     "iopub.execute_input": "2022-04-06T23:49:07.621565Z",
     "iopub.status.busy": "2022-04-06T23:49:07.620716Z",
     "iopub.status.idle": "2022-04-06T23:49:08.114012Z",
     "shell.execute_reply": "2022-04-06T23:49:08.114465Z",
     "shell.execute_reply.started": "2022-04-06T23:20:09.201087Z"
    },
    "papermill": {
     "duration": 0.532203,
     "end_time": "2022-04-06T23:49:08.114612",
     "exception": false,
     "start_time": "2022-04-06T23:49:07.582409",
     "status": "completed"
    },
    "tags": []
   },
   "outputs": [
    {
     "data": {
      "text/plain": [
       "0         same folks said daikon paste could treat a cyt...\n",
       "1         while the world has been on the wrong side of ...\n",
       "2         #coronavirus #sputnikv #astrazeneca #pfizerbio...\n",
       "3         facts are immutable, senator, even when you're...\n",
       "4         explain to me again why we need a vaccine @bor...\n",
       "                                ...                        \n",
       "228202    45+ #urban #bengaluru #covidvaccine availabili...\n",
       "228203    18-44 #bbmp #bengaluru #covidvaccine availabil...\n",
       "228204    18-44 #urban #bengaluru #covidvaccine availabi...\n",
       "228205    they promote their vaccines leaving out the st...\n",
       "228206    45+ #urban #bengaluru #covidvaccine availabili...\n",
       "Name: text, Length: 228207, dtype: object"
      ]
     },
     "execution_count": 11,
     "metadata": {},
     "output_type": "execute_result"
    }
   ],
   "source": [
    "# URL Removal\n",
    "vaccine_data['text'] = vaccine_data['text'].apply(lambda x:re.sub(r\"http\\S+\", \"\", x))\n",
    "vaccine_data[\"text\"]"
   ]
  },
  {
   "cell_type": "code",
   "execution_count": 12,
   "id": "d836d218",
   "metadata": {
    "execution": {
     "iopub.execute_input": "2022-04-06T23:49:08.192860Z",
     "iopub.status.busy": "2022-04-06T23:49:08.189156Z",
     "iopub.status.idle": "2022-04-06T23:49:10.394385Z",
     "shell.execute_reply": "2022-04-06T23:49:10.393874Z",
     "shell.execute_reply.started": "2022-04-06T23:20:09.722832Z"
    },
    "papermill": {
     "duration": 2.244817,
     "end_time": "2022-04-06T23:49:10.394510",
     "exception": false,
     "start_time": "2022-04-06T23:49:08.149693",
     "status": "completed"
    },
    "tags": []
   },
   "outputs": [
    {
     "data": {
      "text/plain": [
       "0         same folks said daikon paste could treat a cyt...\n",
       "1         while the world has been on the wrong side of ...\n",
       "2         coronavirus sputnikv astrazeneca pfizerbiontec...\n",
       "3         facts are immutable senator even when youre no...\n",
       "4         explain to me again why we need a vaccine bori...\n",
       "                                ...                        \n",
       "228202    45 urban bengaluru covidvaccine availability f...\n",
       "228203    1844 bbmp bengaluru covidvaccine availability ...\n",
       "228204    1844 urban bengaluru covidvaccine availability...\n",
       "228205    they promote their vaccines leaving out the st...\n",
       "228206    45 urban bengaluru covidvaccine availability f...\n",
       "Name: text, Length: 228207, dtype: object"
      ]
     },
     "execution_count": 12,
     "metadata": {},
     "output_type": "execute_result"
    }
   ],
   "source": [
    "# Punctuation Removal\n",
    "punctuation_removal = string.punctuation\n",
    "def remove_punctuation(text):\n",
    "    \"\"\"custom function to remove the punctuation\"\"\"\n",
    "    return text.translate(str.maketrans('', '', punctuation_removal))\n",
    "vaccine_data[\"text\"] = vaccine_data[\"text\"].apply(lambda text: remove_punctuation(text))\n",
    "vaccine_data[\"text\"]"
   ]
  },
  {
   "cell_type": "code",
   "execution_count": 13,
   "id": "7e444d17",
   "metadata": {
    "execution": {
     "iopub.execute_input": "2022-04-06T23:49:10.469586Z",
     "iopub.status.busy": "2022-04-06T23:49:10.468803Z",
     "iopub.status.idle": "2022-04-06T23:49:14.493177Z",
     "shell.execute_reply": "2022-04-06T23:49:14.492625Z",
     "shell.execute_reply.started": "2022-04-06T23:20:12.065442Z"
    },
    "papermill": {
     "duration": 4.06366,
     "end_time": "2022-04-06T23:49:14.493326",
     "exception": false,
     "start_time": "2022-04-06T23:49:10.429666",
     "status": "completed"
    },
    "tags": []
   },
   "outputs": [
    {
     "data": {
      "text/plain": [
       "0         same folks said daikon paste could treatcytoki...\n",
       "1         while the world has been on the wrong side of ...\n",
       "2         coronavirus sputnikv astrazeneca pfizerbiontec...\n",
       "3         facts are immutable senator even when youre no...\n",
       "4         explain to me again why we needvaccine borisjo...\n",
       "                                ...                        \n",
       "228202    45 urban bengaluru covidvaccine availability f...\n",
       "228203    1844 bbmp bengaluru covidvaccine availability ...\n",
       "228204    1844 urban bengaluru covidvaccine availability...\n",
       "228205    they promote their vaccines leaving out the st...\n",
       "228206    45 urban bengaluru covidvaccine availability f...\n",
       "Name: text, Length: 228207, dtype: object"
      ]
     },
     "execution_count": 13,
     "metadata": {},
     "output_type": "execute_result"
    }
   ],
   "source": [
    "# Single character and double space removal\n",
    "vaccine_data[\"text\"] = vaccine_data[\"text\"].apply(lambda x:re.sub(r'\\s+[a-zA-Z]\\s+', '', x))\n",
    "vaccine_data[\"text\"] = vaccine_data[\"text\"].apply(lambda x:re.sub(r'\\s+', ' ', x, flags=re.I))\n",
    "vaccine_data[\"text\"]"
   ]
  },
  {
   "cell_type": "code",
   "execution_count": 14,
   "id": "c8bd36c6",
   "metadata": {
    "execution": {
     "iopub.execute_input": "2022-04-06T23:49:14.578117Z",
     "iopub.status.busy": "2022-04-06T23:49:14.577463Z",
     "iopub.status.idle": "2022-04-06T23:49:15.532127Z",
     "shell.execute_reply": "2022-04-06T23:49:15.531656Z",
     "shell.execute_reply.started": "2022-04-06T23:20:16.047070Z"
    },
    "papermill": {
     "duration": 1.000044,
     "end_time": "2022-04-06T23:49:15.532258",
     "exception": false,
     "start_time": "2022-04-06T23:49:14.532214",
     "status": "completed"
    },
    "tags": []
   },
   "outputs": [
    {
     "data": {
      "text/plain": [
       "0         folks said daikon paste could treatcytokine st...\n",
       "1         world wrong side history year hopefully bigges...\n",
       "2         coronavirus sputnikv astrazeneca pfizerbiontec...\n",
       "3         facts immutable senator even youre ethically s...\n",
       "4         explain needvaccine borisjohnson matthancock w...\n",
       "                                ...                        \n",
       "228202    45 urban bengaluru covidvaccine availability 1...\n",
       "228203    1844 bbmp bengaluru covidvaccine availability ...\n",
       "228204    1844 urban bengaluru covidvaccine availability...\n",
       "228205    promote vaccines leaving stronger russia vacci...\n",
       "228206    45 urban bengaluru covidvaccine availability 1...\n",
       "Name: text, Length: 228207, dtype: object"
      ]
     },
     "execution_count": 14,
     "metadata": {},
     "output_type": "execute_result"
    }
   ],
   "source": [
    "# Stopword Removal\n",
    "\", \".join(stopwords.words('english'))\n",
    "STOPWORDS = set(stopwords.words('english'))\n",
    "def remove_stopwords(text):\n",
    "    \"\"\"custom function to remove the stopwords\"\"\"\n",
    "    return \" \".join([word for word in str(text).split() if word not in STOPWORDS])\n",
    "\n",
    "vaccine_data[\"text\"] = vaccine_data[\"text\"].apply(lambda text: remove_stopwords(text))\n",
    "vaccine_data[\"text\"]"
   ]
  },
  {
   "cell_type": "code",
   "execution_count": 15,
   "id": "81be4fb5",
   "metadata": {
    "execution": {
     "iopub.execute_input": "2022-04-06T23:49:15.609400Z",
     "iopub.status.busy": "2022-04-06T23:49:15.608579Z",
     "iopub.status.idle": "2022-04-06T23:49:17.449379Z",
     "shell.execute_reply": "2022-04-06T23:49:17.448936Z",
     "shell.execute_reply.started": "2022-04-06T23:20:17.282961Z"
    },
    "papermill": {
     "duration": 1.881739,
     "end_time": "2022-04-06T23:49:17.449502",
     "exception": false,
     "start_time": "2022-04-06T23:49:15.567763",
     "status": "completed"
    },
    "tags": []
   },
   "outputs": [
    {
     "data": {
      "text/plain": [
       "0         folks said daikon paste could treatcytokine st...\n",
       "1         world wrong side history year hopefully bigges...\n",
       "2         coronavirus sputnikv astrazeneca pfizerbiontec...\n",
       "3         facts immutable senator even youre ethically s...\n",
       "4         explain needvaccine borisjohnson matthancock w...\n",
       "                                ...                        \n",
       "228202    45 urban bengaluru covidvaccine availability 1...\n",
       "228203    1844 bbmp bengaluru covidvaccine availability ...\n",
       "228204    1844 urban bengaluru covidvaccine availability...\n",
       "228205    promote vaccines leaving stronger russia vacci...\n",
       "228206    45 urban bengaluru covidvaccine availability 1...\n",
       "Name: text, Length: 228207, dtype: object"
      ]
     },
     "execution_count": 15,
     "metadata": {},
     "output_type": "execute_result"
    }
   ],
   "source": [
    "# Emoji Removal\n",
    "def remove_emoji(string):\n",
    "    emoji_pattern = re.compile(\"[\"\n",
    "                               u\"\\U0001F600-\\U0001F64F\"  # emoticons\n",
    "                               u\"\\U0001F300-\\U0001F5FF\"  # symbols & pictographs\n",
    "                               u\"\\U0001F680-\\U0001F6FF\"  # transport & map symbols\n",
    "                               u\"\\U0001F1E0-\\U0001F1FF\"  # flags (iOS)\n",
    "                               u\"\\U00002500-\\U00002BEF\"  # chinese char\n",
    "                               u\"\\U00002702-\\U000027B0\"\n",
    "                               u\"\\U00002702-\\U000027B0\"\n",
    "                               u\"\\U000024C2-\\U0001F251\"\n",
    "                               u\"\\U0001f926-\\U0001f937\"\n",
    "                               u\"\\U00010000-\\U0010ffff\"\n",
    "                               u\"\\u2640-\\u2642\"\n",
    "                               u\"\\u2600-\\u2B55\"\n",
    "                               u\"\\u200d\"\n",
    "                               u\"\\u23cf\"\n",
    "                               u\"\\u23e9\"\n",
    "                               u\"\\u231a\"\n",
    "                               u\"\\ufe0f\"  # dingbats\n",
    "                               u\"\\u3030\"\n",
    "                               \"]+\", flags=re.UNICODE)\n",
    "    return emoji_pattern.sub(r'', string)\n",
    "vaccine_data[\"text\"] = vaccine_data[\"text\"].apply(str)\n",
    "vaccine_data[\"text\"] = vaccine_data[\"text\"].apply(remove_emoji)\n",
    "vaccine_data[\"text\"]"
   ]
  },
  {
   "cell_type": "code",
   "execution_count": 16,
   "id": "bb75faed",
   "metadata": {
    "execution": {
     "iopub.execute_input": "2022-04-06T23:49:17.531012Z",
     "iopub.status.busy": "2022-04-06T23:49:17.527215Z",
     "iopub.status.idle": "2022-04-06T23:49:20.400407Z",
     "shell.execute_reply": "2022-04-06T23:49:20.399927Z",
     "shell.execute_reply.started": "2022-04-06T23:20:19.289449Z"
    },
    "papermill": {
     "duration": 2.914444,
     "end_time": "2022-04-06T23:49:20.400535",
     "exception": false,
     "start_time": "2022-04-06T23:49:17.486091",
     "status": "completed"
    },
    "tags": []
   },
   "outputs": [
    {
     "data": {
      "text/plain": [
       "0         folks said daikon paste could treatcytokine st...\n",
       "1         world wrong side history year hopefully bigges...\n",
       "2         coronavirus sputnikv astrazeneca pfizerbiontec...\n",
       "3         facts immutable senator even youre ethically s...\n",
       "4         explain needvaccine borisjohnson matthancock w...\n",
       "                                ...                        \n",
       "228202    45 urban bengaluru covidvaccine availability 1...\n",
       "228203    1844 bbmp bengaluru covidvaccine availability ...\n",
       "228204    1844 urban bengaluru covidvaccine availability...\n",
       "228205    promote vaccines leaving stronger russia vacci...\n",
       "228206    45 urban bengaluru covidvaccine availability 1...\n",
       "Name: text, Length: 228207, dtype: object"
      ]
     },
     "execution_count": 16,
     "metadata": {},
     "output_type": "execute_result"
    }
   ],
   "source": [
    "# Single character and double space removal\n",
    "vaccine_data[\"text\"] = vaccine_data[\"text\"].apply(lambda x:re.sub(r'\\s+[a-zA-Z]\\s+', '', x))\n",
    "vaccine_data[\"text\"] = vaccine_data[\"text\"].apply(lambda x:re.sub(r'\\s+', ' ', x, flags=re.I))\n",
    "vaccine_data[\"text\"]"
   ]
  },
  {
   "cell_type": "code",
   "execution_count": 17,
   "id": "59966dee",
   "metadata": {
    "execution": {
     "iopub.execute_input": "2022-04-06T23:49:20.496132Z",
     "iopub.status.busy": "2022-04-06T23:49:20.480766Z",
     "iopub.status.idle": "2022-04-06T23:49:21.576692Z",
     "shell.execute_reply": "2022-04-06T23:49:21.576003Z",
     "shell.execute_reply.started": "2022-04-06T23:20:22.429386Z"
    },
    "papermill": {
     "duration": 1.13995,
     "end_time": "2022-04-06T23:49:21.576815",
     "exception": false,
     "start_time": "2022-04-06T23:49:20.436865",
     "status": "completed"
    },
    "tags": []
   },
   "outputs": [
    {
     "data": {
      "text/plain": [
       "[('covaxin', 73556),\n",
       " ('vaccine', 51471),\n",
       " ('moderna', 47038),\n",
       " ('slots', 35471),\n",
       " ('dose', 30641),\n",
       " ('covid19', 29782),\n",
       " ('age', 25404),\n",
       " ('18', 21765),\n",
       " ('pfizer', 14366),\n",
       " ('bbmp', 14206)]"
      ]
     },
     "execution_count": 17,
     "metadata": {},
     "output_type": "execute_result"
    }
   ],
   "source": [
    "# Most common words\n",
    "from collections import Counter\n",
    "cnt = Counter()\n",
    "for text in vaccine_data[\"text\"].values:\n",
    "    for word in text.split():\n",
    "        cnt[word] += 1\n",
    "        \n",
    "cnt.most_common(10)"
   ]
  },
  {
   "cell_type": "code",
   "execution_count": 18,
   "id": "90798834",
   "metadata": {
    "execution": {
     "iopub.execute_input": "2022-04-06T23:49:21.676425Z",
     "iopub.status.busy": "2022-04-06T23:49:21.675705Z",
     "iopub.status.idle": "2022-04-06T23:50:00.832641Z",
     "shell.execute_reply": "2022-04-06T23:50:00.833072Z",
     "shell.execute_reply.started": "2022-04-06T23:20:23.688260Z"
    },
    "papermill": {
     "duration": 39.219876,
     "end_time": "2022-04-06T23:50:00.833225",
     "exception": false,
     "start_time": "2022-04-06T23:49:21.613349",
     "status": "completed"
    },
    "tags": []
   },
   "outputs": [
    {
     "data": {
      "text/html": [
       "<div>\n",
       "<style scoped>\n",
       "    .dataframe tbody tr th:only-of-type {\n",
       "        vertical-align: middle;\n",
       "    }\n",
       "\n",
       "    .dataframe tbody tr th {\n",
       "        vertical-align: top;\n",
       "    }\n",
       "\n",
       "    .dataframe thead th {\n",
       "        text-align: right;\n",
       "    }\n",
       "</style>\n",
       "<table border=\"1\" class=\"dataframe\">\n",
       "  <thead>\n",
       "    <tr style=\"text-align: right;\">\n",
       "      <th></th>\n",
       "      <th>id</th>\n",
       "      <th>user_name</th>\n",
       "      <th>user_location</th>\n",
       "      <th>user_description</th>\n",
       "      <th>user_created</th>\n",
       "      <th>user_followers</th>\n",
       "      <th>user_friends</th>\n",
       "      <th>user_favourites</th>\n",
       "      <th>user_verified</th>\n",
       "      <th>date</th>\n",
       "      <th>text</th>\n",
       "      <th>hashtags</th>\n",
       "      <th>source</th>\n",
       "      <th>retweets</th>\n",
       "      <th>favorites</th>\n",
       "      <th>is_retweet</th>\n",
       "      <th>sentiments</th>\n",
       "      <th>Positive Sentiment</th>\n",
       "      <th>Neutral Sentiment</th>\n",
       "      <th>Negative Sentiment</th>\n",
       "    </tr>\n",
       "  </thead>\n",
       "  <tbody>\n",
       "    <tr>\n",
       "      <th>0</th>\n",
       "      <td>1340539111971516416</td>\n",
       "      <td>Rachel Roh</td>\n",
       "      <td>La Crescenta-Montrose, CA</td>\n",
       "      <td>Aggregator of Asian American news; scanning di...</td>\n",
       "      <td>2009-04-08 17:52:46</td>\n",
       "      <td>405</td>\n",
       "      <td>1692</td>\n",
       "      <td>3247</td>\n",
       "      <td>False</td>\n",
       "      <td>2020-12-20 06:06:44</td>\n",
       "      <td>folks said daikon paste could treatcytokine st...</td>\n",
       "      <td>['PfizerBioNTech']</td>\n",
       "      <td>Twitter for Android</td>\n",
       "      <td>0</td>\n",
       "      <td>0</td>\n",
       "      <td>False</td>\n",
       "      <td>{'neg': 0.0, 'neu': 1.0, 'pos': 0.0, 'compound...</td>\n",
       "      <td>0.000001</td>\n",
       "      <td>1.000001</td>\n",
       "      <td>0.000001</td>\n",
       "    </tr>\n",
       "    <tr>\n",
       "      <th>1</th>\n",
       "      <td>1338158543359250433</td>\n",
       "      <td>Albert Fong</td>\n",
       "      <td>San Francisco, CA</td>\n",
       "      <td>Marketing dude, tech geek, heavy metal &amp; '80s ...</td>\n",
       "      <td>2009-09-21 15:27:30</td>\n",
       "      <td>834</td>\n",
       "      <td>666</td>\n",
       "      <td>178</td>\n",
       "      <td>False</td>\n",
       "      <td>2020-12-13 16:27:13</td>\n",
       "      <td>world wrong side history year hopefully bigges...</td>\n",
       "      <td>NaN</td>\n",
       "      <td>Twitter Web App</td>\n",
       "      <td>1</td>\n",
       "      <td>1</td>\n",
       "      <td>False</td>\n",
       "      <td>{'neg': 0.209, 'neu': 0.608, 'pos': 0.182, 'co...</td>\n",
       "      <td>0.182001</td>\n",
       "      <td>0.608001</td>\n",
       "      <td>0.209001</td>\n",
       "    </tr>\n",
       "    <tr>\n",
       "      <th>2</th>\n",
       "      <td>1337858199140118533</td>\n",
       "      <td>eli🇱🇹🇪🇺👌</td>\n",
       "      <td>Your Bed</td>\n",
       "      <td>heil, hydra 🖐☺</td>\n",
       "      <td>2020-06-25 23:30:28</td>\n",
       "      <td>10</td>\n",
       "      <td>88</td>\n",
       "      <td>155</td>\n",
       "      <td>False</td>\n",
       "      <td>2020-12-12 20:33:45</td>\n",
       "      <td>coronavirus sputnikv astrazeneca pfizerbiontec...</td>\n",
       "      <td>['coronavirus', 'SputnikV', 'AstraZeneca', 'Pf...</td>\n",
       "      <td>Twitter for Android</td>\n",
       "      <td>0</td>\n",
       "      <td>0</td>\n",
       "      <td>False</td>\n",
       "      <td>{'neg': 0.0, 'neu': 0.846, 'pos': 0.154, 'comp...</td>\n",
       "      <td>0.154001</td>\n",
       "      <td>0.846001</td>\n",
       "      <td>0.000001</td>\n",
       "    </tr>\n",
       "    <tr>\n",
       "      <th>3</th>\n",
       "      <td>1337855739918835717</td>\n",
       "      <td>Charles Adler</td>\n",
       "      <td>Vancouver, BC - Canada</td>\n",
       "      <td>Hosting \"CharlesAdlerTonight\" Global News Radi...</td>\n",
       "      <td>2008-09-10 11:28:53</td>\n",
       "      <td>49165</td>\n",
       "      <td>3933</td>\n",
       "      <td>21853</td>\n",
       "      <td>True</td>\n",
       "      <td>2020-12-12 20:23:59</td>\n",
       "      <td>facts immutable senator even youre ethically s...</td>\n",
       "      <td>NaN</td>\n",
       "      <td>Twitter Web App</td>\n",
       "      <td>446</td>\n",
       "      <td>2129</td>\n",
       "      <td>False</td>\n",
       "      <td>{'neg': 0.0, 'neu': 1.0, 'pos': 0.0, 'compound...</td>\n",
       "      <td>0.000001</td>\n",
       "      <td>1.000001</td>\n",
       "      <td>0.000001</td>\n",
       "    </tr>\n",
       "    <tr>\n",
       "      <th>4</th>\n",
       "      <td>1337854064604966912</td>\n",
       "      <td>Citizen News Channel</td>\n",
       "      <td>NaN</td>\n",
       "      <td>Citizen News Channel bringing you an alternati...</td>\n",
       "      <td>2020-04-23 17:58:42</td>\n",
       "      <td>152</td>\n",
       "      <td>580</td>\n",
       "      <td>1473</td>\n",
       "      <td>False</td>\n",
       "      <td>2020-12-12 20:17:19</td>\n",
       "      <td>explain needvaccine borisjohnson matthancock w...</td>\n",
       "      <td>['whereareallthesickpeople', 'PfizerBioNTech']</td>\n",
       "      <td>Twitter for iPhone</td>\n",
       "      <td>0</td>\n",
       "      <td>0</td>\n",
       "      <td>False</td>\n",
       "      <td>{'neg': 0.0, 'neu': 1.0, 'pos': 0.0, 'compound...</td>\n",
       "      <td>0.000001</td>\n",
       "      <td>1.000001</td>\n",
       "      <td>0.000001</td>\n",
       "    </tr>\n",
       "  </tbody>\n",
       "</table>\n",
       "</div>"
      ],
      "text/plain": [
       "                    id             user_name              user_location  \\\n",
       "0  1340539111971516416            Rachel Roh  La Crescenta-Montrose, CA   \n",
       "1  1338158543359250433           Albert Fong          San Francisco, CA   \n",
       "2  1337858199140118533              eli🇱🇹🇪🇺👌                   Your Bed   \n",
       "3  1337855739918835717         Charles Adler     Vancouver, BC - Canada   \n",
       "4  1337854064604966912  Citizen News Channel                        NaN   \n",
       "\n",
       "                                    user_description         user_created  \\\n",
       "0  Aggregator of Asian American news; scanning di...  2009-04-08 17:52:46   \n",
       "1  Marketing dude, tech geek, heavy metal & '80s ...  2009-09-21 15:27:30   \n",
       "2                                     heil, hydra 🖐☺  2020-06-25 23:30:28   \n",
       "3  Hosting \"CharlesAdlerTonight\" Global News Radi...  2008-09-10 11:28:53   \n",
       "4  Citizen News Channel bringing you an alternati...  2020-04-23 17:58:42   \n",
       "\n",
       "   user_followers  user_friends  user_favourites  user_verified  \\\n",
       "0             405          1692             3247          False   \n",
       "1             834           666              178          False   \n",
       "2              10            88              155          False   \n",
       "3           49165          3933            21853           True   \n",
       "4             152           580             1473          False   \n",
       "\n",
       "                  date                                               text  \\\n",
       "0  2020-12-20 06:06:44  folks said daikon paste could treatcytokine st...   \n",
       "1  2020-12-13 16:27:13  world wrong side history year hopefully bigges...   \n",
       "2  2020-12-12 20:33:45  coronavirus sputnikv astrazeneca pfizerbiontec...   \n",
       "3  2020-12-12 20:23:59  facts immutable senator even youre ethically s...   \n",
       "4  2020-12-12 20:17:19  explain needvaccine borisjohnson matthancock w...   \n",
       "\n",
       "                                            hashtags               source  \\\n",
       "0                                 ['PfizerBioNTech']  Twitter for Android   \n",
       "1                                                NaN      Twitter Web App   \n",
       "2  ['coronavirus', 'SputnikV', 'AstraZeneca', 'Pf...  Twitter for Android   \n",
       "3                                                NaN      Twitter Web App   \n",
       "4     ['whereareallthesickpeople', 'PfizerBioNTech']   Twitter for iPhone   \n",
       "\n",
       "   retweets  favorites  is_retweet  \\\n",
       "0         0          0       False   \n",
       "1         1          1       False   \n",
       "2         0          0       False   \n",
       "3       446       2129       False   \n",
       "4         0          0       False   \n",
       "\n",
       "                                          sentiments  Positive Sentiment  \\\n",
       "0  {'neg': 0.0, 'neu': 1.0, 'pos': 0.0, 'compound...            0.000001   \n",
       "1  {'neg': 0.209, 'neu': 0.608, 'pos': 0.182, 'co...            0.182001   \n",
       "2  {'neg': 0.0, 'neu': 0.846, 'pos': 0.154, 'comp...            0.154001   \n",
       "3  {'neg': 0.0, 'neu': 1.0, 'pos': 0.0, 'compound...            0.000001   \n",
       "4  {'neg': 0.0, 'neu': 1.0, 'pos': 0.0, 'compound...            0.000001   \n",
       "\n",
       "   Neutral Sentiment  Negative Sentiment  \n",
       "0           1.000001            0.000001  \n",
       "1           0.608001            0.209001  \n",
       "2           0.846001            0.000001  \n",
       "3           1.000001            0.000001  \n",
       "4           1.000001            0.000001  "
      ]
     },
     "execution_count": 18,
     "metadata": {},
     "output_type": "execute_result"
    }
   ],
   "source": [
    "# Sentiment analysis\n",
    "sid = SIA()\n",
    "vaccine_data['sentiments'] = vaccine_data[\"text\"].apply(lambda x: sid.polarity_scores(' '.join(re.findall(r'\\w+',str(x).lower()))))\n",
    "vaccine_data['Positive Sentiment'] = vaccine_data['sentiments'].apply(lambda x: x['pos']+1*(10**-6)) \n",
    "vaccine_data['Neutral Sentiment'] = vaccine_data['sentiments'].apply(lambda x: x['neu']+1*(10**-6))\n",
    "vaccine_data['Negative Sentiment'] = vaccine_data['sentiments'].apply(lambda x: x['neg']+1*(10**-6))\n",
    "vaccine_data.head()"
   ]
  },
  {
   "cell_type": "code",
   "execution_count": 19,
   "id": "cf28183e",
   "metadata": {
    "execution": {
     "iopub.execute_input": "2022-04-06T23:50:00.912828Z",
     "iopub.status.busy": "2022-04-06T23:50:00.912303Z",
     "iopub.status.idle": "2022-04-06T23:50:07.998103Z",
     "shell.execute_reply": "2022-04-06T23:50:07.998673Z",
     "shell.execute_reply.started": "2022-04-06T23:21:06.264864Z"
    },
    "papermill": {
     "duration": 7.127874,
     "end_time": "2022-04-06T23:50:07.998853",
     "exception": false,
     "start_time": "2022-04-06T23:50:00.870979",
     "status": "completed"
    },
    "tags": []
   },
   "outputs": [
    {
     "data": {
      "text/html": [
       "<div>\n",
       "<style scoped>\n",
       "    .dataframe tbody tr th:only-of-type {\n",
       "        vertical-align: middle;\n",
       "    }\n",
       "\n",
       "    .dataframe tbody tr th {\n",
       "        vertical-align: top;\n",
       "    }\n",
       "\n",
       "    .dataframe thead th {\n",
       "        text-align: right;\n",
       "    }\n",
       "</style>\n",
       "<table border=\"1\" class=\"dataframe\">\n",
       "  <thead>\n",
       "    <tr style=\"text-align: right;\">\n",
       "      <th></th>\n",
       "      <th>id</th>\n",
       "      <th>user_name</th>\n",
       "      <th>user_location</th>\n",
       "      <th>user_description</th>\n",
       "      <th>user_created</th>\n",
       "      <th>user_followers</th>\n",
       "      <th>user_friends</th>\n",
       "      <th>user_favourites</th>\n",
       "      <th>user_verified</th>\n",
       "      <th>date</th>\n",
       "      <th>...</th>\n",
       "      <th>source</th>\n",
       "      <th>retweets</th>\n",
       "      <th>favorites</th>\n",
       "      <th>is_retweet</th>\n",
       "      <th>sentiments</th>\n",
       "      <th>Positive Sentiment</th>\n",
       "      <th>Neutral Sentiment</th>\n",
       "      <th>Negative Sentiment</th>\n",
       "      <th>Number_Of_Words</th>\n",
       "      <th>Mean_Word_Length</th>\n",
       "    </tr>\n",
       "  </thead>\n",
       "  <tbody>\n",
       "    <tr>\n",
       "      <th>0</th>\n",
       "      <td>1340539111971516416</td>\n",
       "      <td>Rachel Roh</td>\n",
       "      <td>La Crescenta-Montrose, CA</td>\n",
       "      <td>Aggregator of Asian American news; scanning di...</td>\n",
       "      <td>2009-04-08 17:52:46</td>\n",
       "      <td>405</td>\n",
       "      <td>1692</td>\n",
       "      <td>3247</td>\n",
       "      <td>False</td>\n",
       "      <td>2020-12-20 06:06:44</td>\n",
       "      <td>...</td>\n",
       "      <td>Twitter for Android</td>\n",
       "      <td>0</td>\n",
       "      <td>0</td>\n",
       "      <td>False</td>\n",
       "      <td>{'neg': 0.0, 'neu': 1.0, 'pos': 0.0, 'compound...</td>\n",
       "      <td>0.000001</td>\n",
       "      <td>1.000001</td>\n",
       "      <td>0.000001</td>\n",
       "      <td>8</td>\n",
       "      <td>7.12</td>\n",
       "    </tr>\n",
       "    <tr>\n",
       "      <th>1</th>\n",
       "      <td>1338158543359250433</td>\n",
       "      <td>Albert Fong</td>\n",
       "      <td>San Francisco, CA</td>\n",
       "      <td>Marketing dude, tech geek, heavy metal &amp; '80s ...</td>\n",
       "      <td>2009-09-21 15:27:30</td>\n",
       "      <td>834</td>\n",
       "      <td>666</td>\n",
       "      <td>178</td>\n",
       "      <td>False</td>\n",
       "      <td>2020-12-13 16:27:13</td>\n",
       "      <td>...</td>\n",
       "      <td>Twitter Web App</td>\n",
       "      <td>1</td>\n",
       "      <td>1</td>\n",
       "      <td>False</td>\n",
       "      <td>{'neg': 0.209, 'neu': 0.608, 'pos': 0.182, 'co...</td>\n",
       "      <td>0.182001</td>\n",
       "      <td>0.608001</td>\n",
       "      <td>0.209001</td>\n",
       "      <td>11</td>\n",
       "      <td>5.91</td>\n",
       "    </tr>\n",
       "    <tr>\n",
       "      <th>2</th>\n",
       "      <td>1337858199140118533</td>\n",
       "      <td>eli🇱🇹🇪🇺👌</td>\n",
       "      <td>Your Bed</td>\n",
       "      <td>heil, hydra 🖐☺</td>\n",
       "      <td>2020-06-25 23:30:28</td>\n",
       "      <td>10</td>\n",
       "      <td>88</td>\n",
       "      <td>155</td>\n",
       "      <td>False</td>\n",
       "      <td>2020-12-12 20:33:45</td>\n",
       "      <td>...</td>\n",
       "      <td>Twitter for Android</td>\n",
       "      <td>0</td>\n",
       "      <td>0</td>\n",
       "      <td>False</td>\n",
       "      <td>{'neg': 0.0, 'neu': 0.846, 'pos': 0.154, 'comp...</td>\n",
       "      <td>0.154001</td>\n",
       "      <td>0.846001</td>\n",
       "      <td>0.000001</td>\n",
       "      <td>12</td>\n",
       "      <td>7.58</td>\n",
       "    </tr>\n",
       "    <tr>\n",
       "      <th>3</th>\n",
       "      <td>1337855739918835717</td>\n",
       "      <td>Charles Adler</td>\n",
       "      <td>Vancouver, BC - Canada</td>\n",
       "      <td>Hosting \"CharlesAdlerTonight\" Global News Radi...</td>\n",
       "      <td>2008-09-10 11:28:53</td>\n",
       "      <td>49165</td>\n",
       "      <td>3933</td>\n",
       "      <td>21853</td>\n",
       "      <td>True</td>\n",
       "      <td>2020-12-12 20:23:59</td>\n",
       "      <td>...</td>\n",
       "      <td>Twitter Web App</td>\n",
       "      <td>446</td>\n",
       "      <td>2129</td>\n",
       "      <td>False</td>\n",
       "      <td>{'neg': 0.0, 'neu': 1.0, 'pos': 0.0, 'compound...</td>\n",
       "      <td>0.000001</td>\n",
       "      <td>1.000001</td>\n",
       "      <td>0.000001</td>\n",
       "      <td>12</td>\n",
       "      <td>5.75</td>\n",
       "    </tr>\n",
       "    <tr>\n",
       "      <th>4</th>\n",
       "      <td>1337854064604966912</td>\n",
       "      <td>Citizen News Channel</td>\n",
       "      <td>NaN</td>\n",
       "      <td>Citizen News Channel bringing you an alternati...</td>\n",
       "      <td>2020-04-23 17:58:42</td>\n",
       "      <td>152</td>\n",
       "      <td>580</td>\n",
       "      <td>1473</td>\n",
       "      <td>False</td>\n",
       "      <td>2020-12-12 20:17:19</td>\n",
       "      <td>...</td>\n",
       "      <td>Twitter for iPhone</td>\n",
       "      <td>0</td>\n",
       "      <td>0</td>\n",
       "      <td>False</td>\n",
       "      <td>{'neg': 0.0, 'neu': 1.0, 'pos': 0.0, 'compound...</td>\n",
       "      <td>0.000001</td>\n",
       "      <td>1.000001</td>\n",
       "      <td>0.000001</td>\n",
       "      <td>6</td>\n",
       "      <td>13.33</td>\n",
       "    </tr>\n",
       "  </tbody>\n",
       "</table>\n",
       "<p>5 rows × 22 columns</p>\n",
       "</div>"
      ],
      "text/plain": [
       "                    id             user_name              user_location  \\\n",
       "0  1340539111971516416            Rachel Roh  La Crescenta-Montrose, CA   \n",
       "1  1338158543359250433           Albert Fong          San Francisco, CA   \n",
       "2  1337858199140118533              eli🇱🇹🇪🇺👌                   Your Bed   \n",
       "3  1337855739918835717         Charles Adler     Vancouver, BC - Canada   \n",
       "4  1337854064604966912  Citizen News Channel                        NaN   \n",
       "\n",
       "                                    user_description         user_created  \\\n",
       "0  Aggregator of Asian American news; scanning di...  2009-04-08 17:52:46   \n",
       "1  Marketing dude, tech geek, heavy metal & '80s ...  2009-09-21 15:27:30   \n",
       "2                                     heil, hydra 🖐☺  2020-06-25 23:30:28   \n",
       "3  Hosting \"CharlesAdlerTonight\" Global News Radi...  2008-09-10 11:28:53   \n",
       "4  Citizen News Channel bringing you an alternati...  2020-04-23 17:58:42   \n",
       "\n",
       "   user_followers  user_friends  user_favourites  user_verified  \\\n",
       "0             405          1692             3247          False   \n",
       "1             834           666              178          False   \n",
       "2              10            88              155          False   \n",
       "3           49165          3933            21853           True   \n",
       "4             152           580             1473          False   \n",
       "\n",
       "                  date  ...               source retweets favorites  \\\n",
       "0  2020-12-20 06:06:44  ...  Twitter for Android        0         0   \n",
       "1  2020-12-13 16:27:13  ...      Twitter Web App        1         1   \n",
       "2  2020-12-12 20:33:45  ...  Twitter for Android        0         0   \n",
       "3  2020-12-12 20:23:59  ...      Twitter Web App      446      2129   \n",
       "4  2020-12-12 20:17:19  ...   Twitter for iPhone        0         0   \n",
       "\n",
       "   is_retweet                                         sentiments  \\\n",
       "0       False  {'neg': 0.0, 'neu': 1.0, 'pos': 0.0, 'compound...   \n",
       "1       False  {'neg': 0.209, 'neu': 0.608, 'pos': 0.182, 'co...   \n",
       "2       False  {'neg': 0.0, 'neu': 0.846, 'pos': 0.154, 'comp...   \n",
       "3       False  {'neg': 0.0, 'neu': 1.0, 'pos': 0.0, 'compound...   \n",
       "4       False  {'neg': 0.0, 'neu': 1.0, 'pos': 0.0, 'compound...   \n",
       "\n",
       "   Positive Sentiment Neutral Sentiment  Negative Sentiment  Number_Of_Words  \\\n",
       "0            0.000001          1.000001            0.000001                8   \n",
       "1            0.182001          0.608001            0.209001               11   \n",
       "2            0.154001          0.846001            0.000001               12   \n",
       "3            0.000001          1.000001            0.000001               12   \n",
       "4            0.000001          1.000001            0.000001                6   \n",
       "\n",
       "   Mean_Word_Length  \n",
       "0              7.12  \n",
       "1              5.91  \n",
       "2              7.58  \n",
       "3              5.75  \n",
       "4             13.33  \n",
       "\n",
       "[5 rows x 22 columns]"
      ]
     },
     "execution_count": 19,
     "metadata": {},
     "output_type": "execute_result"
    }
   ],
   "source": [
    "#Number of Words\n",
    "vaccine_data['Number_Of_Words'] = vaccine_data['text'].apply(lambda x:len(x.split(' ')))\n",
    "#Average Word Length\n",
    "vaccine_data['Mean_Word_Length'] = vaccine_data['text'].apply(lambda x:np.round(np.mean([len(w) for w in x.split(' ')]),2) )\n",
    "vaccine_data.head()"
   ]
  },
  {
   "cell_type": "code",
   "execution_count": 20,
   "id": "e4d8cf8c",
   "metadata": {
    "execution": {
     "iopub.execute_input": "2022-04-06T23:50:08.084274Z",
     "iopub.status.busy": "2022-04-06T23:50:08.080653Z",
     "iopub.status.idle": "2022-04-06T23:50:24.249539Z",
     "shell.execute_reply": "2022-04-06T23:50:24.248922Z",
     "shell.execute_reply.started": "2022-04-06T23:21:14.135420Z"
    },
    "papermill": {
     "duration": 16.212161,
     "end_time": "2022-04-06T23:50:24.249667",
     "exception": false,
     "start_time": "2022-04-06T23:50:08.037506",
     "status": "completed"
    },
    "tags": []
   },
   "outputs": [
    {
     "data": {
      "text/html": [
       "<div>\n",
       "<style scoped>\n",
       "    .dataframe tbody tr th:only-of-type {\n",
       "        vertical-align: middle;\n",
       "    }\n",
       "\n",
       "    .dataframe tbody tr th {\n",
       "        vertical-align: top;\n",
       "    }\n",
       "\n",
       "    .dataframe thead th {\n",
       "        text-align: right;\n",
       "    }\n",
       "</style>\n",
       "<table border=\"1\" class=\"dataframe\">\n",
       "  <thead>\n",
       "    <tr style=\"text-align: right;\">\n",
       "      <th></th>\n",
       "      <th>id</th>\n",
       "      <th>user_name</th>\n",
       "      <th>user_location</th>\n",
       "      <th>user_description</th>\n",
       "      <th>user_created</th>\n",
       "      <th>user_followers</th>\n",
       "      <th>user_friends</th>\n",
       "      <th>user_favourites</th>\n",
       "      <th>user_verified</th>\n",
       "      <th>date</th>\n",
       "      <th>...</th>\n",
       "      <th>favorites</th>\n",
       "      <th>is_retweet</th>\n",
       "      <th>sentiments</th>\n",
       "      <th>Positive Sentiment</th>\n",
       "      <th>Neutral Sentiment</th>\n",
       "      <th>Negative Sentiment</th>\n",
       "      <th>Number_Of_Words</th>\n",
       "      <th>Mean_Word_Length</th>\n",
       "      <th>tokenized</th>\n",
       "      <th>lemmatized</th>\n",
       "    </tr>\n",
       "  </thead>\n",
       "  <tbody>\n",
       "    <tr>\n",
       "      <th>228202</th>\n",
       "      <td>1460170772299665408</td>\n",
       "      <td>VaxBLR</td>\n",
       "      <td>Bengaluru, India</td>\n",
       "      <td>Hourly updates on FREE and PAID 18+ and 45+ va...</td>\n",
       "      <td>2021-06-21 08:44:34</td>\n",
       "      <td>31</td>\n",
       "      <td>0</td>\n",
       "      <td>0</td>\n",
       "      <td>False</td>\n",
       "      <td>2021-11-15 09:00:15</td>\n",
       "      <td>...</td>\n",
       "      <td>0</td>\n",
       "      <td>False</td>\n",
       "      <td>{'neg': 0.0, 'neu': 0.784, 'pos': 0.216, 'comp...</td>\n",
       "      <td>0.216001</td>\n",
       "      <td>0.784001</td>\n",
       "      <td>0.000001</td>\n",
       "      <td>14</td>\n",
       "      <td>6.07</td>\n",
       "      <td>[45, urban, bengaluru, covidvaccine, availabil...</td>\n",
       "      <td>[45, urban, bengaluru, covidvaccine, availabil...</td>\n",
       "    </tr>\n",
       "    <tr>\n",
       "      <th>228203</th>\n",
       "      <td>1460163268262051841</td>\n",
       "      <td>VaxBLR</td>\n",
       "      <td>Bengaluru, India</td>\n",
       "      <td>Hourly updates on FREE and PAID 18+ and 45+ va...</td>\n",
       "      <td>2021-06-21 08:44:34</td>\n",
       "      <td>31</td>\n",
       "      <td>0</td>\n",
       "      <td>0</td>\n",
       "      <td>False</td>\n",
       "      <td>2021-11-15 08:30:26</td>\n",
       "      <td>...</td>\n",
       "      <td>1</td>\n",
       "      <td>False</td>\n",
       "      <td>{'neg': 0.0, 'neu': 0.769, 'pos': 0.231, 'comp...</td>\n",
       "      <td>0.231001</td>\n",
       "      <td>0.769001</td>\n",
       "      <td>0.000001</td>\n",
       "      <td>12</td>\n",
       "      <td>7.08</td>\n",
       "      <td>[1844, bbmp, bengaluru, covidvaccine, availabi...</td>\n",
       "      <td>[1844, bbmp, bengaluru, covidvaccine, availabi...</td>\n",
       "    </tr>\n",
       "    <tr>\n",
       "      <th>228204</th>\n",
       "      <td>1460163224221851655</td>\n",
       "      <td>VaxBLR</td>\n",
       "      <td>Bengaluru, India</td>\n",
       "      <td>Hourly updates on FREE and PAID 18+ and 45+ va...</td>\n",
       "      <td>2021-06-21 08:44:34</td>\n",
       "      <td>31</td>\n",
       "      <td>0</td>\n",
       "      <td>0</td>\n",
       "      <td>False</td>\n",
       "      <td>2021-11-15 08:30:15</td>\n",
       "      <td>...</td>\n",
       "      <td>0</td>\n",
       "      <td>False</td>\n",
       "      <td>{'neg': 0.0, 'neu': 0.784, 'pos': 0.216, 'comp...</td>\n",
       "      <td>0.216001</td>\n",
       "      <td>0.784001</td>\n",
       "      <td>0.000001</td>\n",
       "      <td>14</td>\n",
       "      <td>6.14</td>\n",
       "      <td>[1844, urban, bengaluru, covidvaccine, availab...</td>\n",
       "      <td>[1844, urban, bengaluru, covidvaccine, availab...</td>\n",
       "    </tr>\n",
       "    <tr>\n",
       "      <th>228205</th>\n",
       "      <td>1460156376995573765</td>\n",
       "      <td>Gatti Valentino🐾</td>\n",
       "      <td>Southern  Africa</td>\n",
       "      <td>Entrepreneur, self taught cook🍲🌮 @Chelsea @Fer...</td>\n",
       "      <td>2019-08-28 10:31:43</td>\n",
       "      <td>8103</td>\n",
       "      <td>3113</td>\n",
       "      <td>45726</td>\n",
       "      <td>False</td>\n",
       "      <td>2021-11-15 08:03:03</td>\n",
       "      <td>...</td>\n",
       "      <td>0</td>\n",
       "      <td>False</td>\n",
       "      <td>{'neg': 0.0, 'neu': 0.49, 'pos': 0.51, 'compou...</td>\n",
       "      <td>0.510001</td>\n",
       "      <td>0.490001</td>\n",
       "      <td>0.000001</td>\n",
       "      <td>7</td>\n",
       "      <td>7.29</td>\n",
       "      <td>[promote, vaccines, leaving, stronger, russia,...</td>\n",
       "      <td>[promote, vaccine, leaving, stronger, russia, ...</td>\n",
       "    </tr>\n",
       "    <tr>\n",
       "      <th>228206</th>\n",
       "      <td>1460155671140134912</td>\n",
       "      <td>VaxBLR</td>\n",
       "      <td>Bengaluru, India</td>\n",
       "      <td>Hourly updates on FREE and PAID 18+ and 45+ va...</td>\n",
       "      <td>2021-06-21 08:44:34</td>\n",
       "      <td>31</td>\n",
       "      <td>0</td>\n",
       "      <td>0</td>\n",
       "      <td>False</td>\n",
       "      <td>2021-11-15 08:00:15</td>\n",
       "      <td>...</td>\n",
       "      <td>0</td>\n",
       "      <td>False</td>\n",
       "      <td>{'neg': 0.0, 'neu': 0.784, 'pos': 0.216, 'comp...</td>\n",
       "      <td>0.216001</td>\n",
       "      <td>0.784001</td>\n",
       "      <td>0.000001</td>\n",
       "      <td>14</td>\n",
       "      <td>6.07</td>\n",
       "      <td>[45, urban, bengaluru, covidvaccine, availabil...</td>\n",
       "      <td>[45, urban, bengaluru, covidvaccine, availabil...</td>\n",
       "    </tr>\n",
       "  </tbody>\n",
       "</table>\n",
       "<p>5 rows × 24 columns</p>\n",
       "</div>"
      ],
      "text/plain": [
       "                         id         user_name      user_location  \\\n",
       "228202  1460170772299665408            VaxBLR   Bengaluru, India   \n",
       "228203  1460163268262051841            VaxBLR   Bengaluru, India   \n",
       "228204  1460163224221851655            VaxBLR   Bengaluru, India   \n",
       "228205  1460156376995573765  Gatti Valentino🐾  Southern  Africa    \n",
       "228206  1460155671140134912            VaxBLR   Bengaluru, India   \n",
       "\n",
       "                                         user_description  \\\n",
       "228202  Hourly updates on FREE and PAID 18+ and 45+ va...   \n",
       "228203  Hourly updates on FREE and PAID 18+ and 45+ va...   \n",
       "228204  Hourly updates on FREE and PAID 18+ and 45+ va...   \n",
       "228205  Entrepreneur, self taught cook🍲🌮 @Chelsea @Fer...   \n",
       "228206  Hourly updates on FREE and PAID 18+ and 45+ va...   \n",
       "\n",
       "               user_created  user_followers  user_friends  user_favourites  \\\n",
       "228202  2021-06-21 08:44:34              31             0                0   \n",
       "228203  2021-06-21 08:44:34              31             0                0   \n",
       "228204  2021-06-21 08:44:34              31             0                0   \n",
       "228205  2019-08-28 10:31:43            8103          3113            45726   \n",
       "228206  2021-06-21 08:44:34              31             0                0   \n",
       "\n",
       "        user_verified                 date  ... favorites is_retweet  \\\n",
       "228202          False  2021-11-15 09:00:15  ...         0      False   \n",
       "228203          False  2021-11-15 08:30:26  ...         1      False   \n",
       "228204          False  2021-11-15 08:30:15  ...         0      False   \n",
       "228205          False  2021-11-15 08:03:03  ...         0      False   \n",
       "228206          False  2021-11-15 08:00:15  ...         0      False   \n",
       "\n",
       "                                               sentiments  Positive Sentiment  \\\n",
       "228202  {'neg': 0.0, 'neu': 0.784, 'pos': 0.216, 'comp...            0.216001   \n",
       "228203  {'neg': 0.0, 'neu': 0.769, 'pos': 0.231, 'comp...            0.231001   \n",
       "228204  {'neg': 0.0, 'neu': 0.784, 'pos': 0.216, 'comp...            0.216001   \n",
       "228205  {'neg': 0.0, 'neu': 0.49, 'pos': 0.51, 'compou...            0.510001   \n",
       "228206  {'neg': 0.0, 'neu': 0.784, 'pos': 0.216, 'comp...            0.216001   \n",
       "\n",
       "        Neutral Sentiment  Negative Sentiment Number_Of_Words  \\\n",
       "228202           0.784001            0.000001              14   \n",
       "228203           0.769001            0.000001              12   \n",
       "228204           0.784001            0.000001              14   \n",
       "228205           0.490001            0.000001               7   \n",
       "228206           0.784001            0.000001              14   \n",
       "\n",
       "        Mean_Word_Length                                          tokenized  \\\n",
       "228202              6.07  [45, urban, bengaluru, covidvaccine, availabil...   \n",
       "228203              7.08  [1844, bbmp, bengaluru, covidvaccine, availabi...   \n",
       "228204              6.14  [1844, urban, bengaluru, covidvaccine, availab...   \n",
       "228205              7.29  [promote, vaccines, leaving, stronger, russia,...   \n",
       "228206              6.07  [45, urban, bengaluru, covidvaccine, availabil...   \n",
       "\n",
       "                                               lemmatized  \n",
       "228202  [45, urban, bengaluru, covidvaccine, availabil...  \n",
       "228203  [1844, bbmp, bengaluru, covidvaccine, availabi...  \n",
       "228204  [1844, urban, bengaluru, covidvaccine, availab...  \n",
       "228205  [promote, vaccine, leaving, stronger, russia, ...  \n",
       "228206  [45, urban, bengaluru, covidvaccine, availabil...  \n",
       "\n",
       "[5 rows x 24 columns]"
      ]
     },
     "execution_count": 20,
     "metadata": {},
     "output_type": "execute_result"
    }
   ],
   "source": [
    "# Tokenization and lemmatization\n",
    "def tokenization(text):\n",
    "    text = re.split('\\W+', text)\n",
    "    return text\n",
    "vaccine_data['tokenized'] = vaccine_data['text'].apply(lambda x: tokenization(x.lower()))\n",
    "wn = nltk.WordNetLemmatizer()\n",
    "def lemmatizer(text):\n",
    "    text = [wn.lemmatize(word) for word in text]\n",
    "    return text\n",
    "vaccine_data['lemmatized'] = vaccine_data['tokenized'].apply(lambda x: lemmatizer(x))\n",
    "vaccine_data.head()\n",
    "vaccine_data.tail()"
   ]
  },
  {
   "cell_type": "code",
   "execution_count": 21,
   "id": "0c11c805",
   "metadata": {
    "execution": {
     "iopub.execute_input": "2022-04-06T23:50:24.369154Z",
     "iopub.status.busy": "2022-04-06T23:50:24.359978Z",
     "iopub.status.idle": "2022-04-06T23:50:41.227267Z",
     "shell.execute_reply": "2022-04-06T23:50:41.227683Z",
     "shell.execute_reply.started": "2022-04-06T23:21:31.899368Z"
    },
    "papermill": {
     "duration": 16.94012,
     "end_time": "2022-04-06T23:50:41.227853",
     "exception": false,
     "start_time": "2022-04-06T23:50:24.287733",
     "status": "completed"
    },
    "tags": []
   },
   "outputs": [
    {
     "data": {
      "text/plain": [
       "(-0.5, 399.5, 199.5, -0.5)"
      ]
     },
     "execution_count": 21,
     "metadata": {},
     "output_type": "execute_result"
    },
    {
     "data": {
      "image/png": "[encoded data removed]",
      "text/plain": [
       "<Figure size 720x720 with 1 Axes>"
      ]
     },
     "metadata": {},
     "output_type": "display_data"
    }
   ],
   "source": [
    "# World Cloud\n",
    "tweet_All = \" \".join(review for review in vaccine_data[\"text\"])\n",
    "\n",
    "fig, ax = plt.subplots(1, 1, figsize  = (10,10))\n",
    "# Create and generate a word cloud image:\n",
    "wordcloud_ALL = WordCloud(max_font_size=50, max_words=100, background_color=\"white\").generate(tweet_All)\n",
    "\n",
    "# Display the generated image:\n",
    "ax.imshow(wordcloud_ALL, interpolation='bilinear')\n",
    "\n",
    "ax.axis('off')"
   ]
  },
  {
   "cell_type": "code",
   "execution_count": 22,
   "id": "f786188b",
   "metadata": {
    "execution": {
     "iopub.execute_input": "2022-04-06T23:50:41.345987Z",
     "iopub.status.busy": "2022-04-06T23:50:41.345000Z",
     "iopub.status.idle": "2022-04-06T23:50:44.766143Z",
     "shell.execute_reply": "2022-04-06T23:50:44.766561Z",
     "shell.execute_reply.started": "2022-04-06T23:21:50.433535Z"
    },
    "papermill": {
     "duration": 3.494303,
     "end_time": "2022-04-06T23:50:44.766707",
     "exception": false,
     "start_time": "2022-04-06T23:50:41.272404",
     "status": "completed"
    },
    "tags": []
   },
   "outputs": [
    {
     "name": "stdout",
     "output_type": "stream",
     "text": [
      "0.04476185308513761\n",
      "0.10550731225159615\n",
      "0.8497047075988028\n"
     ]
    },
    {
     "data": {
      "image/png": "[encoded data removed]",
      "text/plain": [
       "<Figure size 1224x936 with 2 Axes>"
      ]
     },
     "metadata": {},
     "output_type": "display_data"
    }
   ],
   "source": [
    "# Sentiment Distribution\n",
    "plt.subplot(2,1,1)\n",
    "plt.title('Distriubtion Of Sentiments Across Tweets',fontsize=19,fontweight='bold')\n",
    "sns.kdeplot(vaccine_data['Negative Sentiment'], color = 'blue')\n",
    "sns.kdeplot(vaccine_data['Positive Sentiment'], color = 'orange')\n",
    "sns.kdeplot(vaccine_data['Neutral Sentiment'], color = 'green')\n",
    "plt.xlabel(' ')\n",
    "plt.legend(['Negative Sentiment','Positive Sentiment','Neutral Sentiment'])\n",
    "plt.subplot(2,1,2)\n",
    "plt.title('Average Sentiments Across Tweets',fontsize=19,fontweight='bold')\n",
    "neg_total_avg = (vaccine_data['Negative Sentiment'].sum())/len(vaccine_data.index)\n",
    "print(neg_total_avg)\n",
    "pos_total_avg = (vaccine_data['Positive Sentiment'].sum())/len(vaccine_data.index)\n",
    "print(pos_total_avg)\n",
    "neu_total_avg = (vaccine_data['Neutral Sentiment'].sum())/len(vaccine_data.index)\n",
    "print(neu_total_avg)\n",
    "sentiment_type = ['Negative','Positive','Neutral']\n",
    "sentiment_total_avg = [neg_total_avg, pos_total_avg, neu_total_avg]\n",
    "plt.bar(sentiment_type, sentiment_total_avg, color = ['blue', 'orange', 'green'])\n",
    "plt.ylabel('Average Sentiment Per Tweet',fontsize=19)\n",
    "plt.xlabel('Sentiment Type',fontsize=19)\n",
    "plt.show()"
   ]
  },
  {
   "cell_type": "code",
   "execution_count": 23,
   "id": "79c470fc",
   "metadata": {
    "execution": {
     "iopub.execute_input": "2022-04-06T23:50:44.903788Z",
     "iopub.status.busy": "2022-04-06T23:50:44.898683Z",
     "iopub.status.idle": "2022-04-06T23:50:50.084904Z",
     "shell.execute_reply": "2022-04-06T23:50:50.085314Z",
     "shell.execute_reply.started": "2022-04-06T23:21:54.165056Z"
    },
    "papermill": {
     "duration": 5.271576,
     "end_time": "2022-04-06T23:50:50.085477",
     "exception": false,
     "start_time": "2022-04-06T23:50:44.813901",
     "status": "completed"
    },
    "tags": []
   },
   "outputs": [
    {
     "data": {
      "text/html": [
       "        <script type=\"text/javascript\">\n",
       "        window.PlotlyConfig = {MathJaxConfig: 'local'};\n",
       "        if (window.MathJax) {MathJax.Hub.Config({SVG: {font: \"STIX-Web\"}});}\n",
       "        if (typeof require !== 'undefined') {\n",
       "        require.undef(\"plotly\");\n",
       "        requirejs.config({\n",
       "            paths: {\n",
       "                'plotly': ['https://cdn.plot.ly/plotly-2.2.0.min']\n",
       "            }\n",
       "        });\n",
       "        require(['plotly'], function(Plotly) {\n",
       "            window._Plotly = Plotly;\n",
       "        });\n",
       "        }\n",
       "        </script>\n",
       "        "
      ]
     },
     "metadata": {},
     "output_type": "display_data"
    },
    {
     "data": {
      "text/html": [
       "<div>                            <div id=\"87f7d5ea-68d5-477c-b169-1a58f9e812d6\" class=\"plotly-graph-div\" style=\"height:525px; width:100%;\"></div>            <script type=\"text/javascript\">                require([\"plotly\"], function(Plotly) {                    window.PLOTLYENV=window.PLOTLYENV || {};                                    if (document.getElementById(\"87f7d5ea-68d5-477c-b169-1a58f9e812d6\")) {                    Plotly.newPlot(                        \"87f7d5ea-68d5-477c-b169-1a58f9e812d6\",                        [{\"branchvalues\":\"total\",\"domain\":{\"x\":[0.0,1.0],\"y\":[0.0,1.0]},\"hovertemplate\":\"labels=%{label}<br>count=%{value}<br>parent=%{parent}<br>id=%{id}<extra></extra>\",\"ids\":[\"\",\"1\",\"1410\",\"18\",\"2\",\"2021\",\"2nd\",\"45\",\"age\",\"amp\",\"availability\",\"bbmp\",\"bengaluru\",\"bharatbiotech\",\"covaxin\",\"covid\",\"covid19\",\"covidvaccine\",\"covishield\",\"date\",\"day\",\"dos\",\"dose\",\"dose2\",\"fee\",\"first\",\"free\",\"get\",\"got\",\"health\",\"hospital\",\"india\",\"moderna\",\"one\",\"people\",\"pfizer\",\"pfizerbiontech\",\"pincode\",\"s\",\"second\",\"shot\",\"sinopharm\",\"sinovac\",\"slot\",\"sputnikv\",\"today\",\"u\",\"vaccinated\",\"vaccination\",\"vaccine\"],\"labels\":[\"\",\"1\",\"1410\",\"18\",\"2\",\"2021\",\"2nd\",\"45\",\"age\",\"amp\",\"availability\",\"bbmp\",\"bengaluru\",\"bharatbiotech\",\"covaxin\",\"covid\",\"covid19\",\"covidvaccine\",\"covishield\",\"date\",\"day\",\"dos\",\"dose\",\"dose2\",\"fee\",\"first\",\"free\",\"get\",\"got\",\"health\",\"hospital\",\"india\",\"moderna\",\"one\",\"people\",\"pfizer\",\"pfizerbiontech\",\"pincode\",\"s\",\"second\",\"shot\",\"sinopharm\",\"sinovac\",\"slot\",\"sputnikv\",\"today\",\"u\",\"vaccinated\",\"vaccination\",\"vaccine\"],\"name\":\"\",\"parents\":[\"\",\"\",\"\",\"\",\"\",\"\",\"\",\"\",\"\",\"\",\"\",\"\",\"\",\"\",\"\",\"\",\"\",\"\",\"\",\"\",\"\",\"\",\"\",\"\",\"\",\"\",\"\",\"\",\"\",\"\",\"\",\"\",\"\",\"\",\"\",\"\",\"\",\"\",\"\",\"\",\"\",\"\",\"\",\"\",\"\",\"\",\"\",\"\",\"\",\"\"],\"type\":\"treemap\",\"values\":[159857,11423,7969,21814,11918,13565,7094,7679,34526,9181,7254,14206,7077,6753,75197,10461,31673,12768,12308,12148,6090,9242,32449,5854,11501,12721,8991,10451,10669,5623,11945,10756,49257,5697,6900,15272,7109,12356,11074,8200,11104,9111,11477,36020,14399,8764,5719,13598,9516,67778]}],                        {\"legend\":{\"tracegroupgap\":0},\"template\":{\"data\":{\"bar\":[{\"error_x\":{\"color\":\"#2a3f5f\"},\"error_y\":{\"color\":\"#2a3f5f\"},\"marker\":{\"line\":{\"color\":\"#E5ECF6\",\"width\":0.5},\"pattern\":{\"fillmode\":\"overlay\",\"size\":10,\"solidity\":0.2}},\"type\":\"bar\"}],\"barpolar\":[{\"marker\":{\"line\":{\"color\":\"#E5ECF6\",\"width\":0.5},\"pattern\":{\"fillmode\":\"overlay\",\"size\":10,\"solidity\":0.2}},\"type\":\"barpolar\"}],\"carpet\":[{\"aaxis\":{\"endlinecolor\":\"#2a3f5f\",\"gridcolor\":\"white\",\"linecolor\":\"white\",\"minorgridcolor\":\"white\",\"startlinecolor\":\"#2a3f5f\"},\"baxis\":{\"endlinecolor\":\"#2a3f5f\",\"gridcolor\":\"white\",\"linecolor\":\"white\",\"minorgridcolor\":\"white\",\"startlinecolor\":\"#2a3f5f\"},\"type\":\"carpet\"}],\"choropleth\":[{\"colorbar\":{\"outlinewidth\":0,\"ticks\":\"\"},\"type\":\"choropleth\"}],\"contour\":[{\"colorbar\":{\"outlinewidth\":0,\"ticks\":\"\"},\"colorscale\":[[0.0,\"#0d0887\"],[0.1111111111111111,\"#46039f\"],[0.2222222222222222,\"#7201a8\"],[0.3333333333333333,\"#9c179e\"],[0.4444444444444444,\"#bd3786\"],[0.5555555555555556,\"#d8576b\"],[0.6666666666666666,\"#ed7953\"],[0.7777777777777778,\"#fb9f3a\"],[0.8888888888888888,\"#fdca26\"],[1.0,\"#f0f921\"]],\"type\":\"contour\"}],\"contourcarpet\":[{\"colorbar\":{\"outlinewidth\":0,\"ticks\":\"\"},\"type\":\"contourcarpet\"}],\"heatmap\":[{\"colorbar\":{\"outlinewidth\":0,\"ticks\":\"\"},\"colorscale\":[[0.0,\"#0d0887\"],[0.1111111111111111,\"#46039f\"],[0.2222222222222222,\"#7201a8\"],[0.3333333333333333,\"#9c179e\"],[0.4444444444444444,\"#bd3786\"],[0.5555555555555556,\"#d8576b\"],[0.6666666666666666,\"#ed7953\"],[0.7777777777777778,\"#fb9f3a\"],[0.8888888888888888,\"#fdca26\"],[1.0,\"#f0f921\"]],\"type\":\"heatmap\"}],\"heatmapgl\":[{\"colorbar\":{\"outlinewidth\":0,\"ticks\":\"\"},\"colorscale\":[[0.0,\"#0d0887\"],[0.1111111111111111,\"#46039f\"],[0.2222222222222222,\"#7201a8\"],[0.3333333333333333,\"#9c179e\"],[0.4444444444444444,\"#bd3786\"],[0.5555555555555556,\"#d8576b\"],[0.6666666666666666,\"#ed7953\"],[0.7777777777777778,\"#fb9f3a\"],[0.8888888888888888,\"#fdca26\"],[1.0,\"#f0f921\"]],\"type\":\"heatmapgl\"}],\"histogram\":[{\"marker\":{\"pattern\":{\"fillmode\":\"overlay\",\"size\":10,\"solidity\":0.2}},\"type\":\"histogram\"}],\"histogram2d\":[{\"colorbar\":{\"outlinewidth\":0,\"ticks\":\"\"},\"colorscale\":[[0.0,\"#0d0887\"],[0.1111111111111111,\"#46039f\"],[0.2222222222222222,\"#7201a8\"],[0.3333333333333333,\"#9c179e\"],[0.4444444444444444,\"#bd3786\"],[0.5555555555555556,\"#d8576b\"],[0.6666666666666666,\"#ed7953\"],[0.7777777777777778,\"#fb9f3a\"],[0.8888888888888888,\"#fdca26\"],[1.0,\"#f0f921\"]],\"type\":\"histogram2d\"}],\"histogram2dcontour\":[{\"colorbar\":{\"outlinewidth\":0,\"ticks\":\"\"},\"colorscale\":[[0.0,\"#0d0887\"],[0.1111111111111111,\"#46039f\"],[0.2222222222222222,\"#7201a8\"],[0.3333333333333333,\"#9c179e\"],[0.4444444444444444,\"#bd3786\"],[0.5555555555555556,\"#d8576b\"],[0.6666666666666666,\"#ed7953\"],[0.7777777777777778,\"#fb9f3a\"],[0.8888888888888888,\"#fdca26\"],[1.0,\"#f0f921\"]],\"type\":\"histogram2dcontour\"}],\"mesh3d\":[{\"colorbar\":{\"outlinewidth\":0,\"ticks\":\"\"},\"type\":\"mesh3d\"}],\"parcoords\":[{\"line\":{\"colorbar\":{\"outlinewidth\":0,\"ticks\":\"\"}},\"type\":\"parcoords\"}],\"pie\":[{\"automargin\":true,\"type\":\"pie\"}],\"scatter\":[{\"marker\":{\"colorbar\":{\"outlinewidth\":0,\"ticks\":\"\"}},\"type\":\"scatter\"}],\"scatter3d\":[{\"line\":{\"colorbar\":{\"outlinewidth\":0,\"ticks\":\"\"}},\"marker\":{\"colorbar\":{\"outlinewidth\":0,\"ticks\":\"\"}},\"type\":\"scatter3d\"}],\"scattercarpet\":[{\"marker\":{\"colorbar\":{\"outlinewidth\":0,\"ticks\":\"\"}},\"type\":\"scattercarpet\"}],\"scattergeo\":[{\"marker\":{\"colorbar\":{\"outlinewidth\":0,\"ticks\":\"\"}},\"type\":\"scattergeo\"}],\"scattergl\":[{\"marker\":{\"colorbar\":{\"outlinewidth\":0,\"ticks\":\"\"}},\"type\":\"scattergl\"}],\"scattermapbox\":[{\"marker\":{\"colorbar\":{\"outlinewidth\":0,\"ticks\":\"\"}},\"type\":\"scattermapbox\"}],\"scatterpolar\":[{\"marker\":{\"colorbar\":{\"outlinewidth\":0,\"ticks\":\"\"}},\"type\":\"scatterpolar\"}],\"scatterpolargl\":[{\"marker\":{\"colorbar\":{\"outlinewidth\":0,\"ticks\":\"\"}},\"type\":\"scatterpolargl\"}],\"scatterternary\":[{\"marker\":{\"colorbar\":{\"outlinewidth\":0,\"ticks\":\"\"}},\"type\":\"scatterternary\"}],\"surface\":[{\"colorbar\":{\"outlinewidth\":0,\"ticks\":\"\"},\"colorscale\":[[0.0,\"#0d0887\"],[0.1111111111111111,\"#46039f\"],[0.2222222222222222,\"#7201a8\"],[0.3333333333333333,\"#9c179e\"],[0.4444444444444444,\"#bd3786\"],[0.5555555555555556,\"#d8576b\"],[0.6666666666666666,\"#ed7953\"],[0.7777777777777778,\"#fb9f3a\"],[0.8888888888888888,\"#fdca26\"],[1.0,\"#f0f921\"]],\"type\":\"surface\"}],\"table\":[{\"cells\":{\"fill\":{\"color\":\"#EBF0F8\"},\"line\":{\"color\":\"white\"}},\"header\":{\"fill\":{\"color\":\"#C8D4E3\"},\"line\":{\"color\":\"white\"}},\"type\":\"table\"}]},\"layout\":{\"annotationdefaults\":{\"arrowcolor\":\"#2a3f5f\",\"arrowhead\":0,\"arrowwidth\":1},\"autotypenumbers\":\"strict\",\"coloraxis\":{\"colorbar\":{\"outlinewidth\":0,\"ticks\":\"\"}},\"colorscale\":{\"diverging\":[[0,\"#8e0152\"],[0.1,\"#c51b7d\"],[0.2,\"#de77ae\"],[0.3,\"#f1b6da\"],[0.4,\"#fde0ef\"],[0.5,\"#f7f7f7\"],[0.6,\"#e6f5d0\"],[0.7,\"#b8e186\"],[0.8,\"#7fbc41\"],[0.9,\"#4d9221\"],[1,\"#276419\"]],\"sequential\":[[0.0,\"#0d0887\"],[0.1111111111111111,\"#46039f\"],[0.2222222222222222,\"#7201a8\"],[0.3333333333333333,\"#9c179e\"],[0.4444444444444444,\"#bd3786\"],[0.5555555555555556,\"#d8576b\"],[0.6666666666666666,\"#ed7953\"],[0.7777777777777778,\"#fb9f3a\"],[0.8888888888888888,\"#fdca26\"],[1.0,\"#f0f921\"]],\"sequentialminus\":[[0.0,\"#0d0887\"],[0.1111111111111111,\"#46039f\"],[0.2222222222222222,\"#7201a8\"],[0.3333333333333333,\"#9c179e\"],[0.4444444444444444,\"#bd3786\"],[0.5555555555555556,\"#d8576b\"],[0.6666666666666666,\"#ed7953\"],[0.7777777777777778,\"#fb9f3a\"],[0.8888888888888888,\"#fdca26\"],[1.0,\"#f0f921\"]]},\"colorway\":[\"#636efa\",\"#EF553B\",\"#00cc96\",\"#ab63fa\",\"#FFA15A\",\"#19d3f3\",\"#FF6692\",\"#B6E880\",\"#FF97FF\",\"#FECB52\"],\"font\":{\"color\":\"#2a3f5f\"},\"geo\":{\"bgcolor\":\"white\",\"lakecolor\":\"white\",\"landcolor\":\"#E5ECF6\",\"showlakes\":true,\"showland\":true,\"subunitcolor\":\"white\"},\"hoverlabel\":{\"align\":\"left\"},\"hovermode\":\"closest\",\"mapbox\":{\"style\":\"light\"},\"paper_bgcolor\":\"white\",\"plot_bgcolor\":\"#E5ECF6\",\"polar\":{\"angularaxis\":{\"gridcolor\":\"white\",\"linecolor\":\"white\",\"ticks\":\"\"},\"bgcolor\":\"#E5ECF6\",\"radialaxis\":{\"gridcolor\":\"white\",\"linecolor\":\"white\",\"ticks\":\"\"}},\"scene\":{\"xaxis\":{\"backgroundcolor\":\"#E5ECF6\",\"gridcolor\":\"white\",\"gridwidth\":2,\"linecolor\":\"white\",\"showbackground\":true,\"ticks\":\"\",\"zerolinecolor\":\"white\"},\"yaxis\":{\"backgroundcolor\":\"#E5ECF6\",\"gridcolor\":\"white\",\"gridwidth\":2,\"linecolor\":\"white\",\"showbackground\":true,\"ticks\":\"\",\"zerolinecolor\":\"white\"},\"zaxis\":{\"backgroundcolor\":\"#E5ECF6\",\"gridcolor\":\"white\",\"gridwidth\":2,\"linecolor\":\"white\",\"showbackground\":true,\"ticks\":\"\",\"zerolinecolor\":\"white\"}},\"shapedefaults\":{\"line\":{\"color\":\"#2a3f5f\"}},\"ternary\":{\"aaxis\":{\"gridcolor\":\"white\",\"linecolor\":\"white\",\"ticks\":\"\"},\"baxis\":{\"gridcolor\":\"white\",\"linecolor\":\"white\",\"ticks\":\"\"},\"bgcolor\":\"#E5ECF6\",\"caxis\":{\"gridcolor\":\"white\",\"linecolor\":\"white\",\"ticks\":\"\"}},\"title\":{\"x\":0.05},\"xaxis\":{\"automargin\":true,\"gridcolor\":\"white\",\"linecolor\":\"white\",\"ticks\":\"\",\"title\":{\"standoff\":15},\"zerolinecolor\":\"white\",\"zerolinewidth\":2},\"yaxis\":{\"automargin\":true,\"gridcolor\":\"white\",\"linecolor\":\"white\",\"ticks\":\"\",\"title\":{\"standoff\":15},\"zerolinecolor\":\"white\",\"zerolinewidth\":2}}},\"title\":{\"text\":\"50 Most Common Words In Tweets\"}},                        {\"responsive\": true}                    ).then(function(){\n",
       "                            \n",
       "var gd = document.getElementById('87f7d5ea-68d5-477c-b169-1a58f9e812d6');\n",
       "var x = new MutationObserver(function (mutations, observer) {{\n",
       "        var display = window.getComputedStyle(gd).display;\n",
       "        if (!display || display === 'none') {{\n",
       "            console.log([gd, 'removed!']);\n",
       "            Plotly.purge(gd);\n",
       "            observer.disconnect();\n",
       "        }}\n",
       "}});\n",
       "\n",
       "// Listen for the removal of the full notebook cells\n",
       "var notebookContainer = gd.closest('#notebook-container');\n",
       "if (notebookContainer) {{\n",
       "    x.observe(notebookContainer, {childList: true});\n",
       "}}\n",
       "\n",
       "// Listen for the clearing of the current output cell\n",
       "var outputEl = gd.closest('.output');\n",
       "if (outputEl) {{\n",
       "    x.observe(outputEl, {childList: true});\n",
       "}}\n",
       "\n",
       "                        })                };                });            </script>        </div>"
      ]
     },
     "metadata": {},
     "output_type": "display_data"
    }
   ],
   "source": [
    "# 50 most common words\n",
    "all_words=[]\n",
    "for i in range(len(vaccine_data['lemmatized'])):\n",
    "    a=vaccine_data['lemmatized'][i]\n",
    "    for i in a:\n",
    "        all_words.append(i)\n",
    "all_words=pd.Series(np.array(all_words))\n",
    "\n",
    "common_words=all_words.value_counts()[:50].rename_axis('Common Words').reset_index(name='count')\n",
    "\n",
    "fig = ex.treemap(common_words, path=['Common Words'], values='count',title='50 Most Common Words In Tweets')\n",
    "fig.show()"
   ]
  },
  {
   "cell_type": "code",
   "execution_count": 24,
   "id": "cc1c4bcb",
   "metadata": {
    "execution": {
     "iopub.execute_input": "2022-04-06T23:50:50.196105Z",
     "iopub.status.busy": "2022-04-06T23:50:50.194991Z",
     "iopub.status.idle": "2022-04-06T23:50:50.963649Z",
     "shell.execute_reply": "2022-04-06T23:50:50.964282Z",
     "shell.execute_reply.started": "2022-04-06T23:22:00.034154Z"
    },
    "papermill": {
     "duration": 0.830073,
     "end_time": "2022-04-06T23:50:50.964464",
     "exception": false,
     "start_time": "2022-04-06T23:50:50.134391",
     "status": "completed"
    },
    "tags": []
   },
   "outputs": [
    {
     "data": {
      "text/html": [
       "<div>                            <div id=\"69b7cdd4-9735-4207-a67e-e7bb0c34e35e\" class=\"plotly-graph-div\" style=\"height:525px; width:1000px;\"></div>            <script type=\"text/javascript\">                require([\"plotly\"], function(Plotly) {                    window.PLOTLYENV=window.PLOTLYENV || {};                                    if (document.getElementById(\"69b7cdd4-9735-4207-a67e-e7bb0c34e35e\")) {                    Plotly.newPlot(                        \"69b7cdd4-9735-4207-a67e-e7bb0c34e35e\",                        [{\"hovertemplate\":\"date=%{x}<br>Tweets Per Day=%{y}<extra></extra>\",\"legendgroup\":\"\",\"line\":{\"color\":\"#636efa\",\"dash\":\"solid\"},\"mode\":\"markers+lines\",\"name\":\"\",\"orientation\":\"v\",\"showlegend\":false,\"type\":\"scatter\",\"x\":[\"2020-12-12\",\"2020-12-13\",\"2020-12-14\",\"2020-12-15\",\"2020-12-16\",\"2020-12-17\",\"2020-12-18\",\"2020-12-19\",\"2020-12-20\",\"2020-12-21\",\"2020-12-22\",\"2020-12-23\",\"2020-12-24\",\"2020-12-25\",\"2020-12-26\",\"2020-12-27\",\"2020-12-28\",\"2020-12-29\",\"2020-12-30\",\"2020-12-31\",\"2021-01-01\",\"2021-01-02\",\"2021-01-03\",\"2021-01-04\",\"2021-01-05\",\"2021-01-06\",\"2021-01-07\",\"2021-01-08\",\"2021-01-09\",\"2021-01-10\",\"2021-01-11\",\"2021-01-12\",\"2021-01-13\",\"2021-01-14\",\"2021-01-15\",\"2021-01-16\",\"2021-01-17\",\"2021-01-18\",\"2021-01-19\",\"2021-01-20\",\"2021-01-21\",\"2021-01-22\",\"2021-01-23\",\"2021-01-24\",\"2021-01-25\",\"2021-01-26\",\"2021-01-27\",\"2021-01-28\",\"2021-01-29\",\"2021-01-30\",\"2021-01-31\",\"2021-02-01\",\"2021-02-02\",\"2021-02-03\",\"2021-02-04\",\"2021-02-05\",\"2021-02-06\",\"2021-02-07\",\"2021-02-08\",\"2021-02-09\",\"2021-02-10\",\"2021-02-11\",\"2021-02-12\",\"2021-02-13\",\"2021-02-14\",\"2021-02-15\",\"2021-02-16\",\"2021-02-17\",\"2021-02-18\",\"2021-02-19\",\"2021-02-20\",\"2021-02-21\",\"2021-02-22\",\"2021-02-23\",\"2021-02-24\",\"2021-02-25\",\"2021-02-26\",\"2021-02-27\",\"2021-02-28\",\"2021-03-01\",\"2021-03-02\",\"2021-03-03\",\"2021-03-04\",\"2021-03-05\",\"2021-03-06\",\"2021-03-07\",\"2021-03-08\",\"2021-03-09\",\"2021-03-10\",\"2021-03-11\",\"2021-03-12\",\"2021-03-13\",\"2021-03-14\",\"2021-03-15\",\"2021-03-16\",\"2021-03-17\",\"2021-03-18\",\"2021-03-19\",\"2021-03-20\",\"2021-03-21\",\"2021-03-22\",\"2021-03-23\",\"2021-03-24\",\"2021-03-25\",\"2021-03-26\",\"2021-03-27\",\"2021-03-28\",\"2021-03-29\",\"2021-03-30\",\"2021-03-31\",\"2021-04-01\",\"2021-04-02\",\"2021-04-03\",\"2021-04-04\",\"2021-04-05\",\"2021-04-06\",\"2021-04-07\",\"2021-04-08\",\"2021-04-09\",\"2021-04-10\",\"2021-04-11\",\"2021-04-12\",\"2021-04-13\",\"2021-04-14\",\"2021-04-15\",\"2021-04-16\",\"2021-04-17\",\"2021-04-18\",\"2021-04-19\",\"2021-04-20\",\"2021-04-21\",\"2021-04-22\",\"2021-05-13\",\"2021-05-14\",\"2021-05-15\",\"2021-05-16\",\"2021-05-17\",\"2021-05-18\",\"2021-05-19\",\"2021-05-20\",\"2021-05-21\",\"2021-05-22\",\"2021-05-23\",\"2021-05-24\",\"2021-05-25\",\"2021-05-26\",\"2021-05-27\",\"2021-05-28\",\"2021-05-29\",\"2021-05-30\",\"2021-05-31\",\"2021-06-01\",\"2021-06-02\",\"2021-06-03\",\"2021-06-04\",\"2021-06-05\",\"2021-06-06\",\"2021-06-07\",\"2021-06-08\",\"2021-06-09\",\"2021-06-10\",\"2021-06-11\",\"2021-06-12\",\"2021-06-13\",\"2021-06-14\",\"2021-06-15\",\"2021-06-16\",\"2021-06-17\",\"2021-06-18\",\"2021-06-19\",\"2021-06-20\",\"2021-06-21\",\"2021-06-22\",\"2021-06-23\",\"2021-06-24\",\"2021-06-25\",\"2021-06-26\",\"2021-06-27\",\"2021-06-28\",\"2021-06-29\",\"2021-06-30\",\"2021-07-01\",\"2021-07-07\",\"2021-07-08\",\"2021-07-09\",\"2021-07-10\",\"2021-07-11\",\"2021-07-12\",\"2021-07-13\",\"2021-07-14\",\"2021-07-15\",\"2021-07-16\",\"2021-07-17\",\"2021-07-18\",\"2021-07-19\",\"2021-07-20\",\"2021-07-21\",\"2021-07-22\",\"2021-07-23\",\"2021-07-24\",\"2021-07-25\",\"2021-07-26\",\"2021-07-27\",\"2021-07-28\",\"2021-07-29\",\"2021-07-30\",\"2021-07-31\",\"2021-08-01\",\"2021-08-02\",\"2021-08-03\",\"2021-08-04\",\"2021-08-05\",\"2021-08-06\",\"2021-08-07\",\"2021-08-08\",\"2021-08-09\",\"2021-08-10\",\"2021-08-11\",\"2021-08-12\",\"2021-08-13\",\"2021-08-14\",\"2021-08-15\",\"2021-08-16\",\"2021-08-17\",\"2021-08-18\",\"2021-08-19\",\"2021-08-20\",\"2021-08-21\",\"2021-08-22\",\"2021-08-23\",\"2021-08-24\",\"2021-08-25\",\"2021-08-26\",\"2021-08-27\",\"2021-08-28\",\"2021-08-29\",\"2021-08-30\",\"2021-08-31\",\"2021-09-01\",\"2021-09-02\",\"2021-09-03\",\"2021-09-04\",\"2021-09-05\",\"2021-09-06\",\"2021-09-07\",\"2021-09-08\",\"2021-09-09\",\"2021-09-10\",\"2021-09-11\",\"2021-09-12\",\"2021-09-13\",\"2021-09-14\",\"2021-09-15\",\"2021-09-16\",\"2021-09-17\",\"2021-09-18\",\"2021-09-19\",\"2021-09-20\",\"2021-09-21\",\"2021-09-22\",\"2021-09-23\",\"2021-09-24\",\"2021-09-25\",\"2021-09-26\",\"2021-09-27\",\"2021-09-28\",\"2021-09-29\",\"2021-09-30\",\"2021-10-01\",\"2021-10-02\",\"2021-10-03\",\"2021-10-04\",\"2021-10-05\",\"2021-10-06\",\"2021-10-07\",\"2021-10-08\",\"2021-10-09\",\"2021-10-10\",\"2021-10-11\",\"2021-10-12\",\"2021-10-13\",\"2021-10-14\",\"2021-10-15\",\"2021-10-16\",\"2021-10-17\",\"2021-10-18\",\"2021-10-19\",\"2021-10-20\",\"2021-10-21\",\"2021-10-22\",\"2021-10-23\",\"2021-10-24\",\"2021-10-28\",\"2021-10-29\",\"2021-10-30\",\"2021-10-31\",\"2021-11-01\",\"2021-11-02\",\"2021-11-03\",\"2021-11-04\",\"2021-11-05\",\"2021-11-06\",\"2021-11-07\",\"2021-11-08\",\"2021-11-09\",\"2021-11-10\",\"2021-11-11\",\"2021-11-12\",\"2021-11-13\",\"2021-11-14\",\"2021-11-15\",\"2021-11-16\",\"2021-11-17\",\"2021-11-18\",\"2021-11-19\",\"2021-11-20\",\"2021-11-21\",\"2021-11-22\",\"2021-11-23\"],\"xaxis\":\"x\",\"y\":[63,98,137,150,144,139,112,110,68,102,157,123,114,40,47,59,53,85,107,72,95,83,56,72,111,112,76,210,170,118,93,106,111,106,148,129,99,66,100,104,145,65,65,53,77,91,89,80,96,73,30,31,53,37,69,70,39,339,511,459,504,448,497,391,259,343,421,499,562,517,393,269,480,406,658,622,677,462,508,2911,859,1349,1015,817,557,387,546,708,760,911,853,538,447,958,1415,981,969,972,995,620,919,803,874,723,629,556,448,773,1014,1259,948,710,809,481,604,846,1597,1981,1233,985,882,2049,1917,1467,1450,1444,1041,771,1086,1055,2423,840,472,1374,787,1240,1151,1120,1089,1097,274,491,805,1337,1418,1082,1152,1216,1024,685,887,1083,669,487,387,536,392,1370,1739,1496,1213,1559,1291,848,540,547,626,1662,1508,1112,364,589,2153,2225,1588,2024,1029,470,957,2626,2414,1983,84,392,466,407,521,843,1797,1435,1504,1802,1000,361,2482,1302,572,731,2372,1349,320,466,537,1309,1308,1411,1299,1156,1410,1007,947,1228,973,706,721,1093,1139,1748,935,1771,880,402,493,654,847,723,716,590,645,1196,860,852,1021,928,764,741,771,708,957,567,632,642,472,485,456,412,266,535,384,464,864,780,605,734,844,774,491,704,603,115,379,430,208,356,537,668,805,641,459,292,404,555,686,727,735,513,440,286,354,2040,724,780,646,645,480,801,692,662,1098,727,490,335,106,262,200,157,251,309,2160,1121,625,519,301,515,826,711,611,785,421,264,355,433,462,507,846,765,629,612,472],\"yaxis\":\"y\"}],                        {\"annotations\":[{\"arrowhead\":3,\"bordercolor\":\"#c7c7c7\",\"showarrow\":true,\"text\":\"J&J authorization\",\"x\":\"2021-03-01T00:00:00\",\"y\":2911},{\"arrowhead\":3,\"bordercolor\":\"#c7c7c7\",\"showarrow\":true,\"text\":\"Fear of supply outstripping demand & CDC discussion of J&J bloodclots\",\"x\":\"2021-04-21T00:00:00\",\"y\":2423,\"yshift\":5},{\"arrowhead\":3,\"ay\":-30,\"bordercolor\":\"#c7c7c7\",\"showarrow\":true,\"text\":\"Discussion of vaccine protection against delta variant\",\"x\":\"2021-06-29T00:00:00\",\"y\":2626,\"yshift\":5}],\"hovermode\":\"x unified\",\"legend\":{\"tracegroupgap\":0},\"margin\":{\"t\":60},\"shapes\":[{\"line\":{\"color\":\"Red\",\"dash\":\"dashdot\",\"width\":2},\"name\":\"Mean\",\"type\":\"line\",\"x0\":\"2020-12-12\",\"x1\":\"2021-11-23\",\"y0\":715.3824451410659,\"y1\":715.3824451410659}],\"template\":{\"data\":{\"bar\":[{\"error_x\":{\"color\":\"#2a3f5f\"},\"error_y\":{\"color\":\"#2a3f5f\"},\"marker\":{\"line\":{\"color\":\"#E5ECF6\",\"width\":0.5},\"pattern\":{\"fillmode\":\"overlay\",\"size\":10,\"solidity\":0.2}},\"type\":\"bar\"}],\"barpolar\":[{\"marker\":{\"line\":{\"color\":\"#E5ECF6\",\"width\":0.5},\"pattern\":{\"fillmode\":\"overlay\",\"size\":10,\"solidity\":0.2}},\"type\":\"barpolar\"}],\"carpet\":[{\"aaxis\":{\"endlinecolor\":\"#2a3f5f\",\"gridcolor\":\"white\",\"linecolor\":\"white\",\"minorgridcolor\":\"white\",\"startlinecolor\":\"#2a3f5f\"},\"baxis\":{\"endlinecolor\":\"#2a3f5f\",\"gridcolor\":\"white\",\"linecolor\":\"white\",\"minorgridcolor\":\"white\",\"startlinecolor\":\"#2a3f5f\"},\"type\":\"carpet\"}],\"choropleth\":[{\"colorbar\":{\"outlinewidth\":0,\"ticks\":\"\"},\"type\":\"choropleth\"}],\"contour\":[{\"colorbar\":{\"outlinewidth\":0,\"ticks\":\"\"},\"colorscale\":[[0.0,\"#0d0887\"],[0.1111111111111111,\"#46039f\"],[0.2222222222222222,\"#7201a8\"],[0.3333333333333333,\"#9c179e\"],[0.4444444444444444,\"#bd3786\"],[0.5555555555555556,\"#d8576b\"],[0.6666666666666666,\"#ed7953\"],[0.7777777777777778,\"#fb9f3a\"],[0.8888888888888888,\"#fdca26\"],[1.0,\"#f0f921\"]],\"type\":\"contour\"}],\"contourcarpet\":[{\"colorbar\":{\"outlinewidth\":0,\"ticks\":\"\"},\"type\":\"contourcarpet\"}],\"heatmap\":[{\"colorbar\":{\"outlinewidth\":0,\"ticks\":\"\"},\"colorscale\":[[0.0,\"#0d0887\"],[0.1111111111111111,\"#46039f\"],[0.2222222222222222,\"#7201a8\"],[0.3333333333333333,\"#9c179e\"],[0.4444444444444444,\"#bd3786\"],[0.5555555555555556,\"#d8576b\"],[0.6666666666666666,\"#ed7953\"],[0.7777777777777778,\"#fb9f3a\"],[0.8888888888888888,\"#fdca26\"],[1.0,\"#f0f921\"]],\"type\":\"heatmap\"}],\"heatmapgl\":[{\"colorbar\":{\"outlinewidth\":0,\"ticks\":\"\"},\"colorscale\":[[0.0,\"#0d0887\"],[0.1111111111111111,\"#46039f\"],[0.2222222222222222,\"#7201a8\"],[0.3333333333333333,\"#9c179e\"],[0.4444444444444444,\"#bd3786\"],[0.5555555555555556,\"#d8576b\"],[0.6666666666666666,\"#ed7953\"],[0.7777777777777778,\"#fb9f3a\"],[0.8888888888888888,\"#fdca26\"],[1.0,\"#f0f921\"]],\"type\":\"heatmapgl\"}],\"histogram\":[{\"marker\":{\"pattern\":{\"fillmode\":\"overlay\",\"size\":10,\"solidity\":0.2}},\"type\":\"histogram\"}],\"histogram2d\":[{\"colorbar\":{\"outlinewidth\":0,\"ticks\":\"\"},\"colorscale\":[[0.0,\"#0d0887\"],[0.1111111111111111,\"#46039f\"],[0.2222222222222222,\"#7201a8\"],[0.3333333333333333,\"#9c179e\"],[0.4444444444444444,\"#bd3786\"],[0.5555555555555556,\"#d8576b\"],[0.6666666666666666,\"#ed7953\"],[0.7777777777777778,\"#fb9f3a\"],[0.8888888888888888,\"#fdca26\"],[1.0,\"#f0f921\"]],\"type\":\"histogram2d\"}],\"histogram2dcontour\":[{\"colorbar\":{\"outlinewidth\":0,\"ticks\":\"\"},\"colorscale\":[[0.0,\"#0d0887\"],[0.1111111111111111,\"#46039f\"],[0.2222222222222222,\"#7201a8\"],[0.3333333333333333,\"#9c179e\"],[0.4444444444444444,\"#bd3786\"],[0.5555555555555556,\"#d8576b\"],[0.6666666666666666,\"#ed7953\"],[0.7777777777777778,\"#fb9f3a\"],[0.8888888888888888,\"#fdca26\"],[1.0,\"#f0f921\"]],\"type\":\"histogram2dcontour\"}],\"mesh3d\":[{\"colorbar\":{\"outlinewidth\":0,\"ticks\":\"\"},\"type\":\"mesh3d\"}],\"parcoords\":[{\"line\":{\"colorbar\":{\"outlinewidth\":0,\"ticks\":\"\"}},\"type\":\"parcoords\"}],\"pie\":[{\"automargin\":true,\"type\":\"pie\"}],\"scatter\":[{\"marker\":{\"colorbar\":{\"outlinewidth\":0,\"ticks\":\"\"}},\"type\":\"scatter\"}],\"scatter3d\":[{\"line\":{\"colorbar\":{\"outlinewidth\":0,\"ticks\":\"\"}},\"marker\":{\"colorbar\":{\"outlinewidth\":0,\"ticks\":\"\"}},\"type\":\"scatter3d\"}],\"scattercarpet\":[{\"marker\":{\"colorbar\":{\"outlinewidth\":0,\"ticks\":\"\"}},\"type\":\"scattercarpet\"}],\"scattergeo\":[{\"marker\":{\"colorbar\":{\"outlinewidth\":0,\"ticks\":\"\"}},\"type\":\"scattergeo\"}],\"scattergl\":[{\"marker\":{\"colorbar\":{\"outlinewidth\":0,\"ticks\":\"\"}},\"type\":\"scattergl\"}],\"scattermapbox\":[{\"marker\":{\"colorbar\":{\"outlinewidth\":0,\"ticks\":\"\"}},\"type\":\"scattermapbox\"}],\"scatterpolar\":[{\"marker\":{\"colorbar\":{\"outlinewidth\":0,\"ticks\":\"\"}},\"type\":\"scatterpolar\"}],\"scatterpolargl\":[{\"marker\":{\"colorbar\":{\"outlinewidth\":0,\"ticks\":\"\"}},\"type\":\"scatterpolargl\"}],\"scatterternary\":[{\"marker\":{\"colorbar\":{\"outlinewidth\":0,\"ticks\":\"\"}},\"type\":\"scatterternary\"}],\"surface\":[{\"colorbar\":{\"outlinewidth\":0,\"ticks\":\"\"},\"colorscale\":[[0.0,\"#0d0887\"],[0.1111111111111111,\"#46039f\"],[0.2222222222222222,\"#7201a8\"],[0.3333333333333333,\"#9c179e\"],[0.4444444444444444,\"#bd3786\"],[0.5555555555555556,\"#d8576b\"],[0.6666666666666666,\"#ed7953\"],[0.7777777777777778,\"#fb9f3a\"],[0.8888888888888888,\"#fdca26\"],[1.0,\"#f0f921\"]],\"type\":\"surface\"}],\"table\":[{\"cells\":{\"fill\":{\"color\":\"#EBF0F8\"},\"line\":{\"color\":\"white\"}},\"header\":{\"fill\":{\"color\":\"#C8D4E3\"},\"line\":{\"color\":\"white\"}},\"type\":\"table\"}]},\"layout\":{\"annotationdefaults\":{\"arrowcolor\":\"#2a3f5f\",\"arrowhead\":0,\"arrowwidth\":1},\"autotypenumbers\":\"strict\",\"coloraxis\":{\"colorbar\":{\"outlinewidth\":0,\"ticks\":\"\"}},\"colorscale\":{\"diverging\":[[0,\"#8e0152\"],[0.1,\"#c51b7d\"],[0.2,\"#de77ae\"],[0.3,\"#f1b6da\"],[0.4,\"#fde0ef\"],[0.5,\"#f7f7f7\"],[0.6,\"#e6f5d0\"],[0.7,\"#b8e186\"],[0.8,\"#7fbc41\"],[0.9,\"#4d9221\"],[1,\"#276419\"]],\"sequential\":[[0.0,\"#0d0887\"],[0.1111111111111111,\"#46039f\"],[0.2222222222222222,\"#7201a8\"],[0.3333333333333333,\"#9c179e\"],[0.4444444444444444,\"#bd3786\"],[0.5555555555555556,\"#d8576b\"],[0.6666666666666666,\"#ed7953\"],[0.7777777777777778,\"#fb9f3a\"],[0.8888888888888888,\"#fdca26\"],[1.0,\"#f0f921\"]],\"sequentialminus\":[[0.0,\"#0d0887\"],[0.1111111111111111,\"#46039f\"],[0.2222222222222222,\"#7201a8\"],[0.3333333333333333,\"#9c179e\"],[0.4444444444444444,\"#bd3786\"],[0.5555555555555556,\"#d8576b\"],[0.6666666666666666,\"#ed7953\"],[0.7777777777777778,\"#fb9f3a\"],[0.8888888888888888,\"#fdca26\"],[1.0,\"#f0f921\"]]},\"colorway\":[\"#636efa\",\"#EF553B\",\"#00cc96\",\"#ab63fa\",\"#FFA15A\",\"#19d3f3\",\"#FF6692\",\"#B6E880\",\"#FF97FF\",\"#FECB52\"],\"font\":{\"color\":\"#2a3f5f\"},\"geo\":{\"bgcolor\":\"white\",\"lakecolor\":\"white\",\"landcolor\":\"#E5ECF6\",\"showlakes\":true,\"showland\":true,\"subunitcolor\":\"white\"},\"hoverlabel\":{\"align\":\"left\"},\"hovermode\":\"closest\",\"mapbox\":{\"style\":\"light\"},\"paper_bgcolor\":\"white\",\"plot_bgcolor\":\"#E5ECF6\",\"polar\":{\"angularaxis\":{\"gridcolor\":\"white\",\"linecolor\":\"white\",\"ticks\":\"\"},\"bgcolor\":\"#E5ECF6\",\"radialaxis\":{\"gridcolor\":\"white\",\"linecolor\":\"white\",\"ticks\":\"\"}},\"scene\":{\"xaxis\":{\"backgroundcolor\":\"#E5ECF6\",\"gridcolor\":\"white\",\"gridwidth\":2,\"linecolor\":\"white\",\"showbackground\":true,\"ticks\":\"\",\"zerolinecolor\":\"white\"},\"yaxis\":{\"backgroundcolor\":\"#E5ECF6\",\"gridcolor\":\"white\",\"gridwidth\":2,\"linecolor\":\"white\",\"showbackground\":true,\"ticks\":\"\",\"zerolinecolor\":\"white\"},\"zaxis\":{\"backgroundcolor\":\"#E5ECF6\",\"gridcolor\":\"white\",\"gridwidth\":2,\"linecolor\":\"white\",\"showbackground\":true,\"ticks\":\"\",\"zerolinecolor\":\"white\"}},\"shapedefaults\":{\"line\":{\"color\":\"#2a3f5f\"}},\"ternary\":{\"aaxis\":{\"gridcolor\":\"white\",\"linecolor\":\"white\",\"ticks\":\"\"},\"baxis\":{\"gridcolor\":\"white\",\"linecolor\":\"white\",\"ticks\":\"\"},\"bgcolor\":\"#E5ECF6\",\"caxis\":{\"gridcolor\":\"white\",\"linecolor\":\"white\",\"ticks\":\"\"}},\"title\":{\"x\":0.05},\"xaxis\":{\"automargin\":true,\"gridcolor\":\"white\",\"linecolor\":\"white\",\"ticks\":\"\",\"title\":{\"standoff\":15},\"zerolinecolor\":\"white\",\"zerolinewidth\":2},\"yaxis\":{\"automargin\":true,\"gridcolor\":\"white\",\"linecolor\":\"white\",\"ticks\":\"\",\"title\":{\"standoff\":15},\"zerolinecolor\":\"white\",\"zerolinewidth\":2}}},\"title\":{\"text\":\"<b>Daily Tweets<b>\"},\"width\":1000,\"xaxis\":{\"anchor\":\"y\",\"domain\":[0.0,1.0],\"title\":{\"text\":\"date\"}},\"yaxis\":{\"anchor\":\"x\",\"domain\":[0.0,1.0],\"title\":{\"text\":\"Tweets Per Day\"}}},                        {\"responsive\": true}                    ).then(function(){\n",
       "                            \n",
       "var gd = document.getElementById('69b7cdd4-9735-4207-a67e-e7bb0c34e35e');\n",
       "var x = new MutationObserver(function (mutations, observer) {{\n",
       "        var display = window.getComputedStyle(gd).display;\n",
       "        if (!display || display === 'none') {{\n",
       "            console.log([gd, 'removed!']);\n",
       "            Plotly.purge(gd);\n",
       "            observer.disconnect();\n",
       "        }}\n",
       "}});\n",
       "\n",
       "// Listen for the removal of the full notebook cells\n",
       "var notebookContainer = gd.closest('#notebook-container');\n",
       "if (notebookContainer) {{\n",
       "    x.observe(notebookContainer, {childList: true});\n",
       "}}\n",
       "\n",
       "// Listen for the clearing of the current output cell\n",
       "var outputEl = gd.closest('.output');\n",
       "if (outputEl) {{\n",
       "    x.observe(outputEl, {childList: true});\n",
       "}}\n",
       "\n",
       "                        })                };                });            </script>        </div>"
      ]
     },
     "metadata": {},
     "output_type": "display_data"
    }
   ],
   "source": [
    "# Change variables\n",
    "ft_data = vaccine_data.copy()\n",
    "ft_data['date'] = pd.to_datetime(vaccine_data['date']).dt.date\n",
    "ft_data['year'] = pd.DatetimeIndex(ft_data['date']).year\n",
    "b_date_count = ft_data.groupby(by='date').count().reset_index()\n",
    "b_date_count = b_date_count.rename(columns={'id':'Tweets Per Day'})\n",
    "fig = ex.line(b_date_count,x='date',y='Tweets Per Day')\n",
    "\n",
    "fig.add_shape(type=\"line\",\n",
    "    x0=b_date_count['date'].values[0], y0=b_date_count['Negative Sentiment'].mean(), x1=b_date_count['date'].values[-1], y1=b_date_count['Negative Sentiment'].mean(),\n",
    "    line=dict(\n",
    "        color=\"Red\",\n",
    "        width=2,\n",
    "        dash=\"dashdot\",\n",
    "    ),\n",
    "        name='Mean',\n",
    ")\n",
    "\n",
    "fig.update_traces(mode=\"markers+lines\")\n",
    "fig.update_layout(hovermode=\"x unified\")\n",
    "\n",
    "\n",
    "# ###annots\n",
    "b_date_count.date = pd.to_datetime(b_date_count.date)\n",
    "b_date_count_dt = b_date_count.set_index('date')\n",
    "\n",
    "fig.add_annotation(x=datetime.datetime(2021,3,1), y=b_date_count_dt.loc[pd.Timestamp('2021-03-1'),'year'],\n",
    "            text=r\"J&J authorization\",\n",
    "            showarrow=True,\n",
    "            arrowhead= 3,\n",
    "            bordercolor=\"#c7c7c7\")\n",
    "\n",
    "fig.add_annotation(x=datetime.datetime(2021,4,21), y=b_date_count_dt.loc[pd.Timestamp('2021-04-21'),'year'],\n",
    "            text=r\"Fear of supply outstripping demand & CDC discussion of J&J bloodclots\",\n",
    "            showarrow=True,\n",
    "            arrowhead=3,\n",
    "            yshift=5,bordercolor=\"#c7c7c7\")\n",
    "\n",
    "fig.add_annotation(x=datetime.datetime(2021,6,29), y=b_date_count_dt.loc[pd.Timestamp('2021-06-29'),'year'],\n",
    "            text=r\"Discussion of vaccine protection against delta variant\",\n",
    "            showarrow=True,\n",
    "            arrowhead=3,\n",
    "            yshift=5,ay=-30,bordercolor=\"#c7c7c7\")\n",
    "\n",
    "fig.update_layout(title='<b>Daily Tweets<b>',width=1000)\n",
    "fig.show()"
   ]
  },
  {
   "cell_type": "code",
   "execution_count": 25,
   "id": "be01e6fd",
   "metadata": {
    "execution": {
     "iopub.execute_input": "2022-04-06T23:50:51.071314Z",
     "iopub.status.busy": "2022-04-06T23:50:51.069677Z",
     "iopub.status.idle": "2022-04-06T23:50:51.267285Z",
     "shell.execute_reply": "2022-04-06T23:50:51.266368Z",
     "shell.execute_reply.started": "2022-04-06T23:22:00.867225Z"
    },
    "papermill": {
     "duration": 0.252333,
     "end_time": "2022-04-06T23:50:51.267432",
     "exception": false,
     "start_time": "2022-04-06T23:50:51.015099",
     "status": "completed"
    },
    "tags": []
   },
   "outputs": [],
   "source": [
    "# Assigning sentiment \n",
    "Positive_tweet = vaccine_data[vaccine_data['Positive Sentiment'] >= 0.5].reset_index()\n",
    "Negative_tweet = vaccine_data[vaccine_data['Negative Sentiment']>= 0.5].reset_index()\n",
    "Neutral_tweet = vaccine_data[vaccine_data['Neutral Sentiment']>= 0.5].reset_index()"
   ]
  },
  {
   "cell_type": "code",
   "execution_count": 26,
   "id": "f805d10c",
   "metadata": {
    "execution": {
     "iopub.execute_input": "2022-04-06T23:50:51.409798Z",
     "iopub.status.busy": "2022-04-06T23:50:51.409061Z",
     "iopub.status.idle": "2022-04-06T23:50:51.574994Z",
     "shell.execute_reply": "2022-04-06T23:50:51.576328Z",
     "shell.execute_reply.started": "2022-04-06T23:22:01.083256Z"
    },
    "papermill": {
     "duration": 0.259113,
     "end_time": "2022-04-06T23:50:51.576560",
     "exception": false,
     "start_time": "2022-04-06T23:50:51.317447",
     "status": "completed"
    },
    "tags": []
   },
   "outputs": [
    {
     "data": {
      "text/html": [
       "<div>                            <div id=\"f08d2aa4-7c96-4c4d-aba7-76c82d3f176d\" class=\"plotly-graph-div\" style=\"height:525px; width:100%;\"></div>            <script type=\"text/javascript\">                require([\"plotly\"], function(Plotly) {                    window.PLOTLYENV=window.PLOTLYENV || {};                                    if (document.getElementById(\"f08d2aa4-7c96-4c4d-aba7-76c82d3f176d\")) {                    Plotly.newPlot(                        \"f08d2aa4-7c96-4c4d-aba7-76c82d3f176d\",                        [{\"branchvalues\":\"total\",\"domain\":{\"x\":[0.0,1.0],\"y\":[0.0,1.0]},\"hovertemplate\":\"labels=%{label}<br>count=%{value}<br>parent=%{parent}<br>id=%{id}<extra></extra>\",\"ids\":[\"\",\"amp\",\"approval\",\"approved\",\"best\",\"bharatbiotech\",\"congratulation\",\"covaxin\",\"covid\",\"covid19\",\"dose\",\"effective\",\"feeling\",\"first\",\"get\",\"good\",\"got\",\"grateful\",\"great\",\"happy\",\"help\",\"hope\",\"i\",\"india\",\"like\",\"love\",\"m\",\"moderna\",\"news\",\"ocgn\",\"one\",\"oxfordastrazeneca\",\"people\",\"pfizer\",\"pfizerbiontech\",\"please\",\"proud\",\"s\",\"safe\",\"sinovac\",\"sputnikv\",\"t\",\"thank\",\"thanks\",\"today\",\"u\",\"vaccinated\",\"vaccination\",\"vaccine\",\"well\"],\"labels\":[\"\",\"amp\",\"approval\",\"approved\",\"best\",\"bharatbiotech\",\"congratulation\",\"covaxin\",\"covid\",\"covid19\",\"dose\",\"effective\",\"feeling\",\"first\",\"get\",\"good\",\"got\",\"grateful\",\"great\",\"happy\",\"help\",\"hope\",\"i\",\"india\",\"like\",\"love\",\"m\",\"moderna\",\"news\",\"ocgn\",\"one\",\"oxfordastrazeneca\",\"people\",\"pfizer\",\"pfizerbiontech\",\"please\",\"proud\",\"s\",\"safe\",\"sinovac\",\"sputnikv\",\"t\",\"thank\",\"thanks\",\"today\",\"u\",\"vaccinated\",\"vaccination\",\"vaccine\",\"well\"],\"name\":\"\",\"parents\":[\"\",\"\",\"\",\"\",\"\",\"\",\"\",\"\",\"\",\"\",\"\",\"\",\"\",\"\",\"\",\"\",\"\",\"\",\"\",\"\",\"\",\"\",\"\",\"\",\"\",\"\",\"\",\"\",\"\",\"\",\"\",\"\",\"\",\"\",\"\",\"\",\"\",\"\",\"\",\"\",\"\",\"\",\"\",\"\",\"\",\"\",\"\",\"\",\"\",\"\"],\"type\":\"treemap\",\"values\":[2539,152,465,326,364,258,229,1405,136,258,211,283,212,179,270,313,188,203,376,252,150,145,171,217,212,123,116,1020,208,119,119,118,123,138,203,271,126,160,296,216,298,117,490,366,195,121,306,158,974,172]}],                        {\"legend\":{\"tracegroupgap\":0},\"template\":{\"data\":{\"bar\":[{\"error_x\":{\"color\":\"#2a3f5f\"},\"error_y\":{\"color\":\"#2a3f5f\"},\"marker\":{\"line\":{\"color\":\"#E5ECF6\",\"width\":0.5},\"pattern\":{\"fillmode\":\"overlay\",\"size\":10,\"solidity\":0.2}},\"type\":\"bar\"}],\"barpolar\":[{\"marker\":{\"line\":{\"color\":\"#E5ECF6\",\"width\":0.5},\"pattern\":{\"fillmode\":\"overlay\",\"size\":10,\"solidity\":0.2}},\"type\":\"barpolar\"}],\"carpet\":[{\"aaxis\":{\"endlinecolor\":\"#2a3f5f\",\"gridcolor\":\"white\",\"linecolor\":\"white\",\"minorgridcolor\":\"white\",\"startlinecolor\":\"#2a3f5f\"},\"baxis\":{\"endlinecolor\":\"#2a3f5f\",\"gridcolor\":\"white\",\"linecolor\":\"white\",\"minorgridcolor\":\"white\",\"startlinecolor\":\"#2a3f5f\"},\"type\":\"carpet\"}],\"choropleth\":[{\"colorbar\":{\"outlinewidth\":0,\"ticks\":\"\"},\"type\":\"choropleth\"}],\"contour\":[{\"colorbar\":{\"outlinewidth\":0,\"ticks\":\"\"},\"colorscale\":[[0.0,\"#0d0887\"],[0.1111111111111111,\"#46039f\"],[0.2222222222222222,\"#7201a8\"],[0.3333333333333333,\"#9c179e\"],[0.4444444444444444,\"#bd3786\"],[0.5555555555555556,\"#d8576b\"],[0.6666666666666666,\"#ed7953\"],[0.7777777777777778,\"#fb9f3a\"],[0.8888888888888888,\"#fdca26\"],[1.0,\"#f0f921\"]],\"type\":\"contour\"}],\"contourcarpet\":[{\"colorbar\":{\"outlinewidth\":0,\"ticks\":\"\"},\"type\":\"contourcarpet\"}],\"heatmap\":[{\"colorbar\":{\"outlinewidth\":0,\"ticks\":\"\"},\"colorscale\":[[0.0,\"#0d0887\"],[0.1111111111111111,\"#46039f\"],[0.2222222222222222,\"#7201a8\"],[0.3333333333333333,\"#9c179e\"],[0.4444444444444444,\"#bd3786\"],[0.5555555555555556,\"#d8576b\"],[0.6666666666666666,\"#ed7953\"],[0.7777777777777778,\"#fb9f3a\"],[0.8888888888888888,\"#fdca26\"],[1.0,\"#f0f921\"]],\"type\":\"heatmap\"}],\"heatmapgl\":[{\"colorbar\":{\"outlinewidth\":0,\"ticks\":\"\"},\"colorscale\":[[0.0,\"#0d0887\"],[0.1111111111111111,\"#46039f\"],[0.2222222222222222,\"#7201a8\"],[0.3333333333333333,\"#9c179e\"],[0.4444444444444444,\"#bd3786\"],[0.5555555555555556,\"#d8576b\"],[0.6666666666666666,\"#ed7953\"],[0.7777777777777778,\"#fb9f3a\"],[0.8888888888888888,\"#fdca26\"],[1.0,\"#f0f921\"]],\"type\":\"heatmapgl\"}],\"histogram\":[{\"marker\":{\"pattern\":{\"fillmode\":\"overlay\",\"size\":10,\"solidity\":0.2}},\"type\":\"histogram\"}],\"histogram2d\":[{\"colorbar\":{\"outlinewidth\":0,\"ticks\":\"\"},\"colorscale\":[[0.0,\"#0d0887\"],[0.1111111111111111,\"#46039f\"],[0.2222222222222222,\"#7201a8\"],[0.3333333333333333,\"#9c179e\"],[0.4444444444444444,\"#bd3786\"],[0.5555555555555556,\"#d8576b\"],[0.6666666666666666,\"#ed7953\"],[0.7777777777777778,\"#fb9f3a\"],[0.8888888888888888,\"#fdca26\"],[1.0,\"#f0f921\"]],\"type\":\"histogram2d\"}],\"histogram2dcontour\":[{\"colorbar\":{\"outlinewidth\":0,\"ticks\":\"\"},\"colorscale\":[[0.0,\"#0d0887\"],[0.1111111111111111,\"#46039f\"],[0.2222222222222222,\"#7201a8\"],[0.3333333333333333,\"#9c179e\"],[0.4444444444444444,\"#bd3786\"],[0.5555555555555556,\"#d8576b\"],[0.6666666666666666,\"#ed7953\"],[0.7777777777777778,\"#fb9f3a\"],[0.8888888888888888,\"#fdca26\"],[1.0,\"#f0f921\"]],\"type\":\"histogram2dcontour\"}],\"mesh3d\":[{\"colorbar\":{\"outlinewidth\":0,\"ticks\":\"\"},\"type\":\"mesh3d\"}],\"parcoords\":[{\"line\":{\"colorbar\":{\"outlinewidth\":0,\"ticks\":\"\"}},\"type\":\"parcoords\"}],\"pie\":[{\"automargin\":true,\"type\":\"pie\"}],\"scatter\":[{\"marker\":{\"colorbar\":{\"outlinewidth\":0,\"ticks\":\"\"}},\"type\":\"scatter\"}],\"scatter3d\":[{\"line\":{\"colorbar\":{\"outlinewidth\":0,\"ticks\":\"\"}},\"marker\":{\"colorbar\":{\"outlinewidth\":0,\"ticks\":\"\"}},\"type\":\"scatter3d\"}],\"scattercarpet\":[{\"marker\":{\"colorbar\":{\"outlinewidth\":0,\"ticks\":\"\"}},\"type\":\"scattercarpet\"}],\"scattergeo\":[{\"marker\":{\"colorbar\":{\"outlinewidth\":0,\"ticks\":\"\"}},\"type\":\"scattergeo\"}],\"scattergl\":[{\"marker\":{\"colorbar\":{\"outlinewidth\":0,\"ticks\":\"\"}},\"type\":\"scattergl\"}],\"scattermapbox\":[{\"marker\":{\"colorbar\":{\"outlinewidth\":0,\"ticks\":\"\"}},\"type\":\"scattermapbox\"}],\"scatterpolar\":[{\"marker\":{\"colorbar\":{\"outlinewidth\":0,\"ticks\":\"\"}},\"type\":\"scatterpolar\"}],\"scatterpolargl\":[{\"marker\":{\"colorbar\":{\"outlinewidth\":0,\"ticks\":\"\"}},\"type\":\"scatterpolargl\"}],\"scatterternary\":[{\"marker\":{\"colorbar\":{\"outlinewidth\":0,\"ticks\":\"\"}},\"type\":\"scatterternary\"}],\"surface\":[{\"colorbar\":{\"outlinewidth\":0,\"ticks\":\"\"},\"colorscale\":[[0.0,\"#0d0887\"],[0.1111111111111111,\"#46039f\"],[0.2222222222222222,\"#7201a8\"],[0.3333333333333333,\"#9c179e\"],[0.4444444444444444,\"#bd3786\"],[0.5555555555555556,\"#d8576b\"],[0.6666666666666666,\"#ed7953\"],[0.7777777777777778,\"#fb9f3a\"],[0.8888888888888888,\"#fdca26\"],[1.0,\"#f0f921\"]],\"type\":\"surface\"}],\"table\":[{\"cells\":{\"fill\":{\"color\":\"#EBF0F8\"},\"line\":{\"color\":\"white\"}},\"header\":{\"fill\":{\"color\":\"#C8D4E3\"},\"line\":{\"color\":\"white\"}},\"type\":\"table\"}]},\"layout\":{\"annotationdefaults\":{\"arrowcolor\":\"#2a3f5f\",\"arrowhead\":0,\"arrowwidth\":1},\"autotypenumbers\":\"strict\",\"coloraxis\":{\"colorbar\":{\"outlinewidth\":0,\"ticks\":\"\"}},\"colorscale\":{\"diverging\":[[0,\"#8e0152\"],[0.1,\"#c51b7d\"],[0.2,\"#de77ae\"],[0.3,\"#f1b6da\"],[0.4,\"#fde0ef\"],[0.5,\"#f7f7f7\"],[0.6,\"#e6f5d0\"],[0.7,\"#b8e186\"],[0.8,\"#7fbc41\"],[0.9,\"#4d9221\"],[1,\"#276419\"]],\"sequential\":[[0.0,\"#0d0887\"],[0.1111111111111111,\"#46039f\"],[0.2222222222222222,\"#7201a8\"],[0.3333333333333333,\"#9c179e\"],[0.4444444444444444,\"#bd3786\"],[0.5555555555555556,\"#d8576b\"],[0.6666666666666666,\"#ed7953\"],[0.7777777777777778,\"#fb9f3a\"],[0.8888888888888888,\"#fdca26\"],[1.0,\"#f0f921\"]],\"sequentialminus\":[[0.0,\"#0d0887\"],[0.1111111111111111,\"#46039f\"],[0.2222222222222222,\"#7201a8\"],[0.3333333333333333,\"#9c179e\"],[0.4444444444444444,\"#bd3786\"],[0.5555555555555556,\"#d8576b\"],[0.6666666666666666,\"#ed7953\"],[0.7777777777777778,\"#fb9f3a\"],[0.8888888888888888,\"#fdca26\"],[1.0,\"#f0f921\"]]},\"colorway\":[\"#636efa\",\"#EF553B\",\"#00cc96\",\"#ab63fa\",\"#FFA15A\",\"#19d3f3\",\"#FF6692\",\"#B6E880\",\"#FF97FF\",\"#FECB52\"],\"font\":{\"color\":\"#2a3f5f\"},\"geo\":{\"bgcolor\":\"white\",\"lakecolor\":\"white\",\"landcolor\":\"#E5ECF6\",\"showlakes\":true,\"showland\":true,\"subunitcolor\":\"white\"},\"hoverlabel\":{\"align\":\"left\"},\"hovermode\":\"closest\",\"mapbox\":{\"style\":\"light\"},\"paper_bgcolor\":\"white\",\"plot_bgcolor\":\"#E5ECF6\",\"polar\":{\"angularaxis\":{\"gridcolor\":\"white\",\"linecolor\":\"white\",\"ticks\":\"\"},\"bgcolor\":\"#E5ECF6\",\"radialaxis\":{\"gridcolor\":\"white\",\"linecolor\":\"white\",\"ticks\":\"\"}},\"scene\":{\"xaxis\":{\"backgroundcolor\":\"#E5ECF6\",\"gridcolor\":\"white\",\"gridwidth\":2,\"linecolor\":\"white\",\"showbackground\":true,\"ticks\":\"\",\"zerolinecolor\":\"white\"},\"yaxis\":{\"backgroundcolor\":\"#E5ECF6\",\"gridcolor\":\"white\",\"gridwidth\":2,\"linecolor\":\"white\",\"showbackground\":true,\"ticks\":\"\",\"zerolinecolor\":\"white\"},\"zaxis\":{\"backgroundcolor\":\"#E5ECF6\",\"gridcolor\":\"white\",\"gridwidth\":2,\"linecolor\":\"white\",\"showbackground\":true,\"ticks\":\"\",\"zerolinecolor\":\"white\"}},\"shapedefaults\":{\"line\":{\"color\":\"#2a3f5f\"}},\"ternary\":{\"aaxis\":{\"gridcolor\":\"white\",\"linecolor\":\"white\",\"ticks\":\"\"},\"baxis\":{\"gridcolor\":\"white\",\"linecolor\":\"white\",\"ticks\":\"\"},\"bgcolor\":\"#E5ECF6\",\"caxis\":{\"gridcolor\":\"white\",\"linecolor\":\"white\",\"ticks\":\"\"}},\"title\":{\"x\":0.05},\"xaxis\":{\"automargin\":true,\"gridcolor\":\"white\",\"linecolor\":\"white\",\"ticks\":\"\",\"title\":{\"standoff\":15},\"zerolinecolor\":\"white\",\"zerolinewidth\":2},\"yaxis\":{\"automargin\":true,\"gridcolor\":\"white\",\"linecolor\":\"white\",\"ticks\":\"\",\"title\":{\"standoff\":15},\"zerolinecolor\":\"white\",\"zerolinewidth\":2}}},\"title\":{\"text\":\"50 Most Common Words In Positive Tweets\"}},                        {\"responsive\": true}                    ).then(function(){\n",
       "                            \n",
       "var gd = document.getElementById('f08d2aa4-7c96-4c4d-aba7-76c82d3f176d');\n",
       "var x = new MutationObserver(function (mutations, observer) {{\n",
       "        var display = window.getComputedStyle(gd).display;\n",
       "        if (!display || display === 'none') {{\n",
       "            console.log([gd, 'removed!']);\n",
       "            Plotly.purge(gd);\n",
       "            observer.disconnect();\n",
       "        }}\n",
       "}});\n",
       "\n",
       "// Listen for the removal of the full notebook cells\n",
       "var notebookContainer = gd.closest('#notebook-container');\n",
       "if (notebookContainer) {{\n",
       "    x.observe(notebookContainer, {childList: true});\n",
       "}}\n",
       "\n",
       "// Listen for the clearing of the current output cell\n",
       "var outputEl = gd.closest('.output');\n",
       "if (outputEl) {{\n",
       "    x.observe(outputEl, {childList: true});\n",
       "}}\n",
       "\n",
       "                        })                };                });            </script>        </div>"
      ]
     },
     "metadata": {},
     "output_type": "display_data"
    }
   ],
   "source": [
    "# 50 most common positive words\n",
    "\n",
    "all_positive_words=[]\n",
    "for i in range(len(Positive_tweet['lemmatized'])):\n",
    "    a=Positive_tweet['lemmatized'][i]\n",
    "    for i in a:\n",
    "        all_positive_words.append(i)\n",
    "all_positive_words=pd.Series(np.array(all_positive_words))\n",
    "common_words=all_positive_words.value_counts()[:50].rename_axis('Common Positive Words').reset_index(name='count')\n",
    "fig = ex.treemap(common_words, path=['Common Positive Words'], values='count',title='50 Most Common Words In Positive Tweets')\n",
    "fig.show()\n"
   ]
  },
  {
   "cell_type": "code",
   "execution_count": 27,
   "id": "0f265109",
   "metadata": {
    "execution": {
     "iopub.execute_input": "2022-04-06T23:50:51.748601Z",
     "iopub.status.busy": "2022-04-06T23:50:51.747790Z",
     "iopub.status.idle": "2022-04-06T23:50:51.867365Z",
     "shell.execute_reply": "2022-04-06T23:50:51.868092Z",
     "shell.execute_reply.started": "2022-04-06T23:22:01.242774Z"
    },
    "papermill": {
     "duration": 0.208929,
     "end_time": "2022-04-06T23:50:51.868300",
     "exception": false,
     "start_time": "2022-04-06T23:50:51.659371",
     "status": "completed"
    },
    "tags": []
   },
   "outputs": [
    {
     "data": {
      "text/html": [
       "<div>                            <div id=\"8d3fec10-88e3-4cc4-beab-b93da64c3dfc\" class=\"plotly-graph-div\" style=\"height:525px; width:100%;\"></div>            <script type=\"text/javascript\">                require([\"plotly\"], function(Plotly) {                    window.PLOTLYENV=window.PLOTLYENV || {};                                    if (document.getElementById(\"8d3fec10-88e3-4cc4-beab-b93da64c3dfc\")) {                    Plotly.newPlot(                        \"8d3fec10-88e3-4cc4-beab-b93da64c3dfc\",                        [{\"branchvalues\":\"total\",\"domain\":{\"x\":[0.0,1.0],\"y\":[0.0,1.0]},\"hovertemplate\":\"labels=%{label}<br>count=%{value}<br>parent=%{parent}<br>id=%{id}<extra></extra>\",\"ids\":[\"\",\"2\",\"alone\",\"amp\",\"arm\",\"bad\",\"canada\",\"covaxin\",\"covid\",\"covid19\",\"day\",\"dead\",\"death\",\"die\",\"dose\",\"drug\",\"eating\",\"embarrassing\",\"fake\",\"forced\",\"ford\",\"fuck\",\"get\",\"hell\",\"home\",\"hurt\",\"i\",\"india\",\"lie\",\"lockdown\",\"m\",\"moderna\",\"muslim\",\"oil\",\"ontario\",\"oxfordastrazeneca\",\"pain\",\"people\",\"pfizer\",\"second\",\"severe\",\"shot\",\"sinovac\",\"sputnikv\",\"stay\",\"stealing\",\"stop\",\"trudeau\",\"vaccinated\",\"vaccine\"],\"labels\":[\"\",\"2\",\"alone\",\"amp\",\"arm\",\"bad\",\"canada\",\"covaxin\",\"covid\",\"covid19\",\"day\",\"dead\",\"death\",\"die\",\"dose\",\"drug\",\"eating\",\"embarrassing\",\"fake\",\"forced\",\"ford\",\"fuck\",\"get\",\"hell\",\"home\",\"hurt\",\"i\",\"india\",\"lie\",\"lockdown\",\"m\",\"moderna\",\"muslim\",\"oil\",\"ontario\",\"oxfordastrazeneca\",\"pain\",\"people\",\"pfizer\",\"second\",\"severe\",\"shot\",\"sinovac\",\"sputnikv\",\"stay\",\"stealing\",\"stop\",\"trudeau\",\"vaccinated\",\"vaccine\"],\"name\":\"\",\"parents\":[\"\",\"\",\"\",\"\",\"\",\"\",\"\",\"\",\"\",\"\",\"\",\"\",\"\",\"\",\"\",\"\",\"\",\"\",\"\",\"\",\"\",\"\",\"\",\"\",\"\",\"\",\"\",\"\",\"\",\"\",\"\",\"\",\"\",\"\",\"\",\"\",\"\",\"\",\"\",\"\",\"\",\"\",\"\",\"\",\"\",\"\",\"\",\"\",\"\",\"\"],\"type\":\"treemap\",\"values\":[617,34,95,31,40,39,104,118,46,65,30,23,61,32,25,23,88,91,34,97,22,39,26,47,70,22,32,28,22,27,25,290,52,88,31,25,44,60,58,23,23,40,44,64,69,90,44,60,27,180]}],                        {\"legend\":{\"tracegroupgap\":0},\"template\":{\"data\":{\"bar\":[{\"error_x\":{\"color\":\"#2a3f5f\"},\"error_y\":{\"color\":\"#2a3f5f\"},\"marker\":{\"line\":{\"color\":\"#E5ECF6\",\"width\":0.5},\"pattern\":{\"fillmode\":\"overlay\",\"size\":10,\"solidity\":0.2}},\"type\":\"bar\"}],\"barpolar\":[{\"marker\":{\"line\":{\"color\":\"#E5ECF6\",\"width\":0.5},\"pattern\":{\"fillmode\":\"overlay\",\"size\":10,\"solidity\":0.2}},\"type\":\"barpolar\"}],\"carpet\":[{\"aaxis\":{\"endlinecolor\":\"#2a3f5f\",\"gridcolor\":\"white\",\"linecolor\":\"white\",\"minorgridcolor\":\"white\",\"startlinecolor\":\"#2a3f5f\"},\"baxis\":{\"endlinecolor\":\"#2a3f5f\",\"gridcolor\":\"white\",\"linecolor\":\"white\",\"minorgridcolor\":\"white\",\"startlinecolor\":\"#2a3f5f\"},\"type\":\"carpet\"}],\"choropleth\":[{\"colorbar\":{\"outlinewidth\":0,\"ticks\":\"\"},\"type\":\"choropleth\"}],\"contour\":[{\"colorbar\":{\"outlinewidth\":0,\"ticks\":\"\"},\"colorscale\":[[0.0,\"#0d0887\"],[0.1111111111111111,\"#46039f\"],[0.2222222222222222,\"#7201a8\"],[0.3333333333333333,\"#9c179e\"],[0.4444444444444444,\"#bd3786\"],[0.5555555555555556,\"#d8576b\"],[0.6666666666666666,\"#ed7953\"],[0.7777777777777778,\"#fb9f3a\"],[0.8888888888888888,\"#fdca26\"],[1.0,\"#f0f921\"]],\"type\":\"contour\"}],\"contourcarpet\":[{\"colorbar\":{\"outlinewidth\":0,\"ticks\":\"\"},\"type\":\"contourcarpet\"}],\"heatmap\":[{\"colorbar\":{\"outlinewidth\":0,\"ticks\":\"\"},\"colorscale\":[[0.0,\"#0d0887\"],[0.1111111111111111,\"#46039f\"],[0.2222222222222222,\"#7201a8\"],[0.3333333333333333,\"#9c179e\"],[0.4444444444444444,\"#bd3786\"],[0.5555555555555556,\"#d8576b\"],[0.6666666666666666,\"#ed7953\"],[0.7777777777777778,\"#fb9f3a\"],[0.8888888888888888,\"#fdca26\"],[1.0,\"#f0f921\"]],\"type\":\"heatmap\"}],\"heatmapgl\":[{\"colorbar\":{\"outlinewidth\":0,\"ticks\":\"\"},\"colorscale\":[[0.0,\"#0d0887\"],[0.1111111111111111,\"#46039f\"],[0.2222222222222222,\"#7201a8\"],[0.3333333333333333,\"#9c179e\"],[0.4444444444444444,\"#bd3786\"],[0.5555555555555556,\"#d8576b\"],[0.6666666666666666,\"#ed7953\"],[0.7777777777777778,\"#fb9f3a\"],[0.8888888888888888,\"#fdca26\"],[1.0,\"#f0f921\"]],\"type\":\"heatmapgl\"}],\"histogram\":[{\"marker\":{\"pattern\":{\"fillmode\":\"overlay\",\"size\":10,\"solidity\":0.2}},\"type\":\"histogram\"}],\"histogram2d\":[{\"colorbar\":{\"outlinewidth\":0,\"ticks\":\"\"},\"colorscale\":[[0.0,\"#0d0887\"],[0.1111111111111111,\"#46039f\"],[0.2222222222222222,\"#7201a8\"],[0.3333333333333333,\"#9c179e\"],[0.4444444444444444,\"#bd3786\"],[0.5555555555555556,\"#d8576b\"],[0.6666666666666666,\"#ed7953\"],[0.7777777777777778,\"#fb9f3a\"],[0.8888888888888888,\"#fdca26\"],[1.0,\"#f0f921\"]],\"type\":\"histogram2d\"}],\"histogram2dcontour\":[{\"colorbar\":{\"outlinewidth\":0,\"ticks\":\"\"},\"colorscale\":[[0.0,\"#0d0887\"],[0.1111111111111111,\"#46039f\"],[0.2222222222222222,\"#7201a8\"],[0.3333333333333333,\"#9c179e\"],[0.4444444444444444,\"#bd3786\"],[0.5555555555555556,\"#d8576b\"],[0.6666666666666666,\"#ed7953\"],[0.7777777777777778,\"#fb9f3a\"],[0.8888888888888888,\"#fdca26\"],[1.0,\"#f0f921\"]],\"type\":\"histogram2dcontour\"}],\"mesh3d\":[{\"colorbar\":{\"outlinewidth\":0,\"ticks\":\"\"},\"type\":\"mesh3d\"}],\"parcoords\":[{\"line\":{\"colorbar\":{\"outlinewidth\":0,\"ticks\":\"\"}},\"type\":\"parcoords\"}],\"pie\":[{\"automargin\":true,\"type\":\"pie\"}],\"scatter\":[{\"marker\":{\"colorbar\":{\"outlinewidth\":0,\"ticks\":\"\"}},\"type\":\"scatter\"}],\"scatter3d\":[{\"line\":{\"colorbar\":{\"outlinewidth\":0,\"ticks\":\"\"}},\"marker\":{\"colorbar\":{\"outlinewidth\":0,\"ticks\":\"\"}},\"type\":\"scatter3d\"}],\"scattercarpet\":[{\"marker\":{\"colorbar\":{\"outlinewidth\":0,\"ticks\":\"\"}},\"type\":\"scattercarpet\"}],\"scattergeo\":[{\"marker\":{\"colorbar\":{\"outlinewidth\":0,\"ticks\":\"\"}},\"type\":\"scattergeo\"}],\"scattergl\":[{\"marker\":{\"colorbar\":{\"outlinewidth\":0,\"ticks\":\"\"}},\"type\":\"scattergl\"}],\"scattermapbox\":[{\"marker\":{\"colorbar\":{\"outlinewidth\":0,\"ticks\":\"\"}},\"type\":\"scattermapbox\"}],\"scatterpolar\":[{\"marker\":{\"colorbar\":{\"outlinewidth\":0,\"ticks\":\"\"}},\"type\":\"scatterpolar\"}],\"scatterpolargl\":[{\"marker\":{\"colorbar\":{\"outlinewidth\":0,\"ticks\":\"\"}},\"type\":\"scatterpolargl\"}],\"scatterternary\":[{\"marker\":{\"colorbar\":{\"outlinewidth\":0,\"ticks\":\"\"}},\"type\":\"scatterternary\"}],\"surface\":[{\"colorbar\":{\"outlinewidth\":0,\"ticks\":\"\"},\"colorscale\":[[0.0,\"#0d0887\"],[0.1111111111111111,\"#46039f\"],[0.2222222222222222,\"#7201a8\"],[0.3333333333333333,\"#9c179e\"],[0.4444444444444444,\"#bd3786\"],[0.5555555555555556,\"#d8576b\"],[0.6666666666666666,\"#ed7953\"],[0.7777777777777778,\"#fb9f3a\"],[0.8888888888888888,\"#fdca26\"],[1.0,\"#f0f921\"]],\"type\":\"surface\"}],\"table\":[{\"cells\":{\"fill\":{\"color\":\"#EBF0F8\"},\"line\":{\"color\":\"white\"}},\"header\":{\"fill\":{\"color\":\"#C8D4E3\"},\"line\":{\"color\":\"white\"}},\"type\":\"table\"}]},\"layout\":{\"annotationdefaults\":{\"arrowcolor\":\"#2a3f5f\",\"arrowhead\":0,\"arrowwidth\":1},\"autotypenumbers\":\"strict\",\"coloraxis\":{\"colorbar\":{\"outlinewidth\":0,\"ticks\":\"\"}},\"colorscale\":{\"diverging\":[[0,\"#8e0152\"],[0.1,\"#c51b7d\"],[0.2,\"#de77ae\"],[0.3,\"#f1b6da\"],[0.4,\"#fde0ef\"],[0.5,\"#f7f7f7\"],[0.6,\"#e6f5d0\"],[0.7,\"#b8e186\"],[0.8,\"#7fbc41\"],[0.9,\"#4d9221\"],[1,\"#276419\"]],\"sequential\":[[0.0,\"#0d0887\"],[0.1111111111111111,\"#46039f\"],[0.2222222222222222,\"#7201a8\"],[0.3333333333333333,\"#9c179e\"],[0.4444444444444444,\"#bd3786\"],[0.5555555555555556,\"#d8576b\"],[0.6666666666666666,\"#ed7953\"],[0.7777777777777778,\"#fb9f3a\"],[0.8888888888888888,\"#fdca26\"],[1.0,\"#f0f921\"]],\"sequentialminus\":[[0.0,\"#0d0887\"],[0.1111111111111111,\"#46039f\"],[0.2222222222222222,\"#7201a8\"],[0.3333333333333333,\"#9c179e\"],[0.4444444444444444,\"#bd3786\"],[0.5555555555555556,\"#d8576b\"],[0.6666666666666666,\"#ed7953\"],[0.7777777777777778,\"#fb9f3a\"],[0.8888888888888888,\"#fdca26\"],[1.0,\"#f0f921\"]]},\"colorway\":[\"#636efa\",\"#EF553B\",\"#00cc96\",\"#ab63fa\",\"#FFA15A\",\"#19d3f3\",\"#FF6692\",\"#B6E880\",\"#FF97FF\",\"#FECB52\"],\"font\":{\"color\":\"#2a3f5f\"},\"geo\":{\"bgcolor\":\"white\",\"lakecolor\":\"white\",\"landcolor\":\"#E5ECF6\",\"showlakes\":true,\"showland\":true,\"subunitcolor\":\"white\"},\"hoverlabel\":{\"align\":\"left\"},\"hovermode\":\"closest\",\"mapbox\":{\"style\":\"light\"},\"paper_bgcolor\":\"white\",\"plot_bgcolor\":\"#E5ECF6\",\"polar\":{\"angularaxis\":{\"gridcolor\":\"white\",\"linecolor\":\"white\",\"ticks\":\"\"},\"bgcolor\":\"#E5ECF6\",\"radialaxis\":{\"gridcolor\":\"white\",\"linecolor\":\"white\",\"ticks\":\"\"}},\"scene\":{\"xaxis\":{\"backgroundcolor\":\"#E5ECF6\",\"gridcolor\":\"white\",\"gridwidth\":2,\"linecolor\":\"white\",\"showbackground\":true,\"ticks\":\"\",\"zerolinecolor\":\"white\"},\"yaxis\":{\"backgroundcolor\":\"#E5ECF6\",\"gridcolor\":\"white\",\"gridwidth\":2,\"linecolor\":\"white\",\"showbackground\":true,\"ticks\":\"\",\"zerolinecolor\":\"white\"},\"zaxis\":{\"backgroundcolor\":\"#E5ECF6\",\"gridcolor\":\"white\",\"gridwidth\":2,\"linecolor\":\"white\",\"showbackground\":true,\"ticks\":\"\",\"zerolinecolor\":\"white\"}},\"shapedefaults\":{\"line\":{\"color\":\"#2a3f5f\"}},\"ternary\":{\"aaxis\":{\"gridcolor\":\"white\",\"linecolor\":\"white\",\"ticks\":\"\"},\"baxis\":{\"gridcolor\":\"white\",\"linecolor\":\"white\",\"ticks\":\"\"},\"bgcolor\":\"#E5ECF6\",\"caxis\":{\"gridcolor\":\"white\",\"linecolor\":\"white\",\"ticks\":\"\"}},\"title\":{\"x\":0.05},\"xaxis\":{\"automargin\":true,\"gridcolor\":\"white\",\"linecolor\":\"white\",\"ticks\":\"\",\"title\":{\"standoff\":15},\"zerolinecolor\":\"white\",\"zerolinewidth\":2},\"yaxis\":{\"automargin\":true,\"gridcolor\":\"white\",\"linecolor\":\"white\",\"ticks\":\"\",\"title\":{\"standoff\":15},\"zerolinecolor\":\"white\",\"zerolinewidth\":2}}},\"title\":{\"text\":\"50 Most Common Words In Negative Tweets\"}},                        {\"responsive\": true}                    ).then(function(){\n",
       "                            \n",
       "var gd = document.getElementById('8d3fec10-88e3-4cc4-beab-b93da64c3dfc');\n",
       "var x = new MutationObserver(function (mutations, observer) {{\n",
       "        var display = window.getComputedStyle(gd).display;\n",
       "        if (!display || display === 'none') {{\n",
       "            console.log([gd, 'removed!']);\n",
       "            Plotly.purge(gd);\n",
       "            observer.disconnect();\n",
       "        }}\n",
       "}});\n",
       "\n",
       "// Listen for the removal of the full notebook cells\n",
       "var notebookContainer = gd.closest('#notebook-container');\n",
       "if (notebookContainer) {{\n",
       "    x.observe(notebookContainer, {childList: true});\n",
       "}}\n",
       "\n",
       "// Listen for the clearing of the current output cell\n",
       "var outputEl = gd.closest('.output');\n",
       "if (outputEl) {{\n",
       "    x.observe(outputEl, {childList: true});\n",
       "}}\n",
       "\n",
       "                        })                };                });            </script>        </div>"
      ]
     },
     "metadata": {},
     "output_type": "display_data"
    }
   ],
   "source": [
    "# 50 most common negative words\n",
    "\n",
    "all_negative_words=[]\n",
    "for i in range(len(Negative_tweet['lemmatized'])):\n",
    "    a=Negative_tweet['lemmatized'][i]\n",
    "    for i in a:\n",
    "        all_negative_words.append(i)\n",
    "all_negative_words=pd.Series(np.array(all_negative_words))\n",
    "common_words=all_negative_words.value_counts()[:50].rename_axis('Common Negative Words').reset_index(name='count')\n",
    "fig = ex.treemap(common_words, path=['Common Negative Words'], values='count',title='50 Most Common Words In Negative Tweets')\n",
    "fig.show()"
   ]
  },
  {
   "cell_type": "code",
   "execution_count": 28,
   "id": "1a7f649c",
   "metadata": {
    "execution": {
     "iopub.execute_input": "2022-04-06T23:50:52.042361Z",
     "iopub.status.busy": "2022-04-06T23:50:52.041435Z",
     "iopub.status.idle": "2022-04-06T23:50:52.044237Z",
     "shell.execute_reply": "2022-04-06T23:50:52.043761Z",
     "shell.execute_reply.started": "2022-04-06T23:22:01.337327Z"
    },
    "papermill": {
     "duration": 0.093587,
     "end_time": "2022-04-06T23:50:52.044370",
     "exception": false,
     "start_time": "2022-04-06T23:50:51.950783",
     "status": "completed"
    },
    "tags": []
   },
   "outputs": [],
   "source": [
    "import numpy as np\n",
    "import pandas as pd"
   ]
  },
  {
   "cell_type": "code",
   "execution_count": 29,
   "id": "7c5c09b1",
   "metadata": {
    "execution": {
     "iopub.execute_input": "2022-04-06T23:50:52.160881Z",
     "iopub.status.busy": "2022-04-06T23:50:52.160051Z",
     "iopub.status.idle": "2022-04-06T23:50:55.462963Z",
     "shell.execute_reply": "2022-04-06T23:50:55.462497Z",
     "shell.execute_reply.started": "2022-04-06T23:22:01.343367Z"
    },
    "papermill": {
     "duration": 3.363618,
     "end_time": "2022-04-06T23:50:55.463127",
     "exception": false,
     "start_time": "2022-04-06T23:50:52.099509",
     "status": "completed"
    },
    "tags": []
   },
   "outputs": [],
   "source": [
    "data = '../input/setdata/new5_data (2).csv'\n",
    "\n",
    "df = pd.read_csv(data, header=None)"
   ]
  },
  {
   "cell_type": "code",
   "execution_count": 30,
   "id": "2479247a",
   "metadata": {
    "execution": {
     "iopub.execute_input": "2022-04-06T23:50:55.575343Z",
     "iopub.status.busy": "2022-04-06T23:50:55.574280Z",
     "iopub.status.idle": "2022-04-06T23:50:57.420751Z",
     "shell.execute_reply": "2022-04-06T23:50:57.420038Z",
     "shell.execute_reply.started": "2022-04-06T23:22:05.166028Z"
    },
    "papermill": {
     "duration": 1.904646,
     "end_time": "2022-04-06T23:50:57.420895",
     "exception": false,
     "start_time": "2022-04-06T23:50:55.516249",
     "status": "completed"
    },
    "tags": []
   },
   "outputs": [
    {
     "data": {
      "text/html": [
       "<div>\n",
       "<style scoped>\n",
       "    .dataframe tbody tr th:only-of-type {\n",
       "        vertical-align: middle;\n",
       "    }\n",
       "\n",
       "    .dataframe tbody tr th {\n",
       "        vertical-align: top;\n",
       "    }\n",
       "\n",
       "    .dataframe thead th {\n",
       "        text-align: right;\n",
       "    }\n",
       "</style>\n",
       "<table border=\"1\" class=\"dataframe\">\n",
       "  <thead>\n",
       "    <tr style=\"text-align: right;\">\n",
       "      <th></th>\n",
       "      <th>No.</th>\n",
       "      <th>user_name</th>\n",
       "      <th>user_location</th>\n",
       "      <th>user_description</th>\n",
       "      <th>user_created</th>\n",
       "      <th>user_followers</th>\n",
       "      <th>user_friends</th>\n",
       "      <th>user_favourites</th>\n",
       "      <th>user_verified</th>\n",
       "      <th>date</th>\n",
       "      <th>text</th>\n",
       "      <th>hashtags</th>\n",
       "      <th>source</th>\n",
       "      <th>is_retweet</th>\n",
       "      <th>Positive</th>\n",
       "      <th>Negative</th>\n",
       "      <th>Neutral</th>\n",
       "      <th>Compound</th>\n",
       "      <th>Sentiment</th>\n",
       "    </tr>\n",
       "  </thead>\n",
       "  <tbody>\n",
       "    <tr>\n",
       "      <th>0</th>\n",
       "      <td>0</td>\n",
       "      <td>MyNewsNE</td>\n",
       "      <td>Assam</td>\n",
       "      <td>MyNewsNE a dedicated multi-lingual media house...</td>\n",
       "      <td>24-05-2020 10:18</td>\n",
       "      <td>64</td>\n",
       "      <td>11</td>\n",
       "      <td>110</td>\n",
       "      <td>False</td>\n",
       "      <td>18-08-2020 12:55</td>\n",
       "      <td>Australia to Manufacture Covid-19 Vaccine and ...</td>\n",
       "      <td>['CovidVaccine']</td>\n",
       "      <td>Twitter Web App</td>\n",
       "      <td>False</td>\n",
       "      <td>0.148</td>\n",
       "      <td>0.000</td>\n",
       "      <td>0.852</td>\n",
       "      <td>0.5106</td>\n",
       "      <td>1</td>\n",
       "    </tr>\n",
       "    <tr>\n",
       "      <th>1</th>\n",
       "      <td>7</td>\n",
       "      <td>AKisASocialisolationist wash yer damn hands</td>\n",
       "      <td>The Great Pacific Northwest</td>\n",
       "      <td>Iconoclast, cat person, soccer fan, textile &amp; ...</td>\n",
       "      <td>07-02-2015 07:24</td>\n",
       "      <td>2321</td>\n",
       "      <td>3236</td>\n",
       "      <td>264351</td>\n",
       "      <td>False</td>\n",
       "      <td>18-08-2020 12:30</td>\n",
       "      <td>@MSNBC Well, let’s qualify that: would anyone ...</td>\n",
       "      <td>['CovidVaccine']</td>\n",
       "      <td>Twitter for iPhone</td>\n",
       "      <td>False</td>\n",
       "      <td>0.202</td>\n",
       "      <td>0.000</td>\n",
       "      <td>0.798</td>\n",
       "      <td>0.5859</td>\n",
       "      <td>1</td>\n",
       "    </tr>\n",
       "    <tr>\n",
       "      <th>2</th>\n",
       "      <td>8</td>\n",
       "      <td>Dr. Joseph Santoro</td>\n",
       "      <td>Washington, DC 20009</td>\n",
       "      <td>Neuro PhD, #Innovator, #Technologist, #Startup...</td>\n",
       "      <td>17-01-2009 21:10</td>\n",
       "      <td>19091</td>\n",
       "      <td>20986</td>\n",
       "      <td>128119</td>\n",
       "      <td>False</td>\n",
       "      <td>18-08-2020 12:15</td>\n",
       "      <td>Most countries, without the ability to make #V...</td>\n",
       "      <td>['Vaccines']</td>\n",
       "      <td>Hootsuite Inc.</td>\n",
       "      <td>False</td>\n",
       "      <td>0.098</td>\n",
       "      <td>0.195</td>\n",
       "      <td>0.707</td>\n",
       "      <td>-0.3532</td>\n",
       "      <td>-1</td>\n",
       "    </tr>\n",
       "    <tr>\n",
       "      <th>3</th>\n",
       "      <td>9</td>\n",
       "      <td>VUMC OAP</td>\n",
       "      <td>Nashville, TN</td>\n",
       "      <td>Office of Advanced Practice, Vanderbilt Univer...</td>\n",
       "      <td>16-03-2017 20:22</td>\n",
       "      <td>282</td>\n",
       "      <td>96</td>\n",
       "      <td>788</td>\n",
       "      <td>False</td>\n",
       "      <td>18-08-2020 11:57</td>\n",
       "      <td>#DNA  zooms up charts in 1st week; hear #vacci...</td>\n",
       "      <td>['DNA', 'vaccines', 'pandemic', 'COVID19', 'Co...</td>\n",
       "      <td>Twitter Web App</td>\n",
       "      <td>False</td>\n",
       "      <td>0.000</td>\n",
       "      <td>0.000</td>\n",
       "      <td>1.000</td>\n",
       "      <td>0.0000</td>\n",
       "      <td>0</td>\n",
       "    </tr>\n",
       "    <tr>\n",
       "      <th>4</th>\n",
       "      <td>11</td>\n",
       "      <td>Mohammadali Naseri</td>\n",
       "      <td>TEHRAN</td>\n",
       "      <td>MSc in Numerical Analysis from the Kharazmi Un...</td>\n",
       "      <td>02-02-2018 17:20</td>\n",
       "      <td>4</td>\n",
       "      <td>88</td>\n",
       "      <td>90</td>\n",
       "      <td>False</td>\n",
       "      <td>18-08-2020 11:04</td>\n",
       "      <td>it’s over?!\\n\\n#Covid19Millionares #covid19 \\n...</td>\n",
       "      <td>['Covid19Millionares', 'covid19', 'corona', 'C...</td>\n",
       "      <td>Twitter for iPhone</td>\n",
       "      <td>False</td>\n",
       "      <td>0.000</td>\n",
       "      <td>0.000</td>\n",
       "      <td>1.000</td>\n",
       "      <td>0.0000</td>\n",
       "      <td>0</td>\n",
       "    </tr>\n",
       "  </tbody>\n",
       "</table>\n",
       "</div>"
      ],
      "text/plain": [
       "   No.                                    user_name  \\\n",
       "0    0                                     MyNewsNE   \n",
       "1    7  AKisASocialisolationist wash yer damn hands   \n",
       "2    8                           Dr. Joseph Santoro   \n",
       "3    9                                     VUMC OAP   \n",
       "4   11                           Mohammadali Naseri   \n",
       "\n",
       "                 user_location  \\\n",
       "0                        Assam   \n",
       "1  The Great Pacific Northwest   \n",
       "2         Washington, DC 20009   \n",
       "3                Nashville, TN   \n",
       "4                       TEHRAN   \n",
       "\n",
       "                                    user_description      user_created  \\\n",
       "0  MyNewsNE a dedicated multi-lingual media house...  24-05-2020 10:18   \n",
       "1  Iconoclast, cat person, soccer fan, textile & ...  07-02-2015 07:24   \n",
       "2  Neuro PhD, #Innovator, #Technologist, #Startup...  17-01-2009 21:10   \n",
       "3  Office of Advanced Practice, Vanderbilt Univer...  16-03-2017 20:22   \n",
       "4  MSc in Numerical Analysis from the Kharazmi Un...  02-02-2018 17:20   \n",
       "\n",
       "   user_followers  user_friends  user_favourites  user_verified  \\\n",
       "0              64            11              110          False   \n",
       "1            2321          3236           264351          False   \n",
       "2           19091         20986           128119          False   \n",
       "3             282            96              788          False   \n",
       "4               4            88               90          False   \n",
       "\n",
       "               date                                               text  \\\n",
       "0  18-08-2020 12:55  Australia to Manufacture Covid-19 Vaccine and ...   \n",
       "1  18-08-2020 12:30  @MSNBC Well, let’s qualify that: would anyone ...   \n",
       "2  18-08-2020 12:15  Most countries, without the ability to make #V...   \n",
       "3  18-08-2020 11:57  #DNA  zooms up charts in 1st week; hear #vacci...   \n",
       "4  18-08-2020 11:04  it’s over?!\\n\\n#Covid19Millionares #covid19 \\n...   \n",
       "\n",
       "                                            hashtags              source  \\\n",
       "0                                   ['CovidVaccine']     Twitter Web App   \n",
       "1                                   ['CovidVaccine']  Twitter for iPhone   \n",
       "2                                       ['Vaccines']      Hootsuite Inc.   \n",
       "3  ['DNA', 'vaccines', 'pandemic', 'COVID19', 'Co...     Twitter Web App   \n",
       "4  ['Covid19Millionares', 'covid19', 'corona', 'C...  Twitter for iPhone   \n",
       "\n",
       "   is_retweet  Positive  Negative  Neutral  Compound  Sentiment  \n",
       "0       False     0.148     0.000    0.852    0.5106          1  \n",
       "1       False     0.202     0.000    0.798    0.5859          1  \n",
       "2       False     0.098     0.195    0.707   -0.3532         -1  \n",
       "3       False     0.000     0.000    1.000    0.0000          0  \n",
       "4       False     0.000     0.000    1.000    0.0000          0  "
      ]
     },
     "execution_count": 30,
     "metadata": {},
     "output_type": "execute_result"
    }
   ],
   "source": [
    "#load csv file\n",
    "Train = pd.read_csv('../input/setdata/new5_data (2).csv')\n",
    "data=Train\n",
    "data.head()\n"
   ]
  },
  {
   "cell_type": "code",
   "execution_count": 31,
   "id": "add97876",
   "metadata": {
    "execution": {
     "iopub.execute_input": "2022-04-06T23:50:57.528764Z",
     "iopub.status.busy": "2022-04-06T23:50:57.527947Z",
     "iopub.status.idle": "2022-04-06T23:50:57.535775Z",
     "shell.execute_reply": "2022-04-06T23:50:57.535373Z",
     "shell.execute_reply.started": "2022-04-06T23:22:08.214666Z"
    },
    "papermill": {
     "duration": 0.06308,
     "end_time": "2022-04-06T23:50:57.535887",
     "exception": false,
     "start_time": "2022-04-06T23:50:57.472807",
     "status": "completed"
    },
    "tags": []
   },
   "outputs": [
    {
     "data": {
      "text/plain": [
       " 1    112009\n",
       " 0     82320\n",
       "-1     49696\n",
       "Name: Sentiment, dtype: int64"
      ]
     },
     "execution_count": 31,
     "metadata": {},
     "output_type": "execute_result"
    }
   ],
   "source": [
    "data['Sentiment'].value_counts()"
   ]
  },
  {
   "cell_type": "code",
   "execution_count": 32,
   "id": "42a854a5",
   "metadata": {
    "execution": {
     "iopub.execute_input": "2022-04-06T23:50:57.646142Z",
     "iopub.status.busy": "2022-04-06T23:50:57.645242Z",
     "iopub.status.idle": "2022-04-06T23:50:57.820044Z",
     "shell.execute_reply": "2022-04-06T23:50:57.820479Z",
     "shell.execute_reply.started": "2022-04-06T23:22:08.230235Z"
    },
    "papermill": {
     "duration": 0.233877,
     "end_time": "2022-04-06T23:50:57.820627",
     "exception": false,
     "start_time": "2022-04-06T23:50:57.586750",
     "status": "completed"
    },
    "tags": []
   },
   "outputs": [
    {
     "data": {
      "image/png": "[encoded data removed]",
      "text/plain": [
       "<Figure size 1224x936 with 1 Axes>"
      ]
     },
     "metadata": {},
     "output_type": "display_data"
    }
   ],
   "source": [
    "import seaborn as sns\n",
    "ax=sns.countplot(data.Sentiment)"
   ]
  },
  {
   "cell_type": "code",
   "execution_count": 33,
   "id": "1cc4d931",
   "metadata": {
    "execution": {
     "iopub.execute_input": "2022-04-06T23:50:57.945211Z",
     "iopub.status.busy": "2022-04-06T23:50:57.944286Z",
     "iopub.status.idle": "2022-04-06T23:50:57.948245Z",
     "shell.execute_reply": "2022-04-06T23:50:57.947822Z",
     "shell.execute_reply.started": "2022-04-06T23:22:08.426179Z"
    },
    "papermill": {
     "duration": 0.074927,
     "end_time": "2022-04-06T23:50:57.948358",
     "exception": false,
     "start_time": "2022-04-06T23:50:57.873431",
     "status": "completed"
    },
    "tags": []
   },
   "outputs": [
    {
     "data": {
      "text/html": [
       "<div>\n",
       "<style scoped>\n",
       "    .dataframe tbody tr th:only-of-type {\n",
       "        vertical-align: middle;\n",
       "    }\n",
       "\n",
       "    .dataframe tbody tr th {\n",
       "        vertical-align: top;\n",
       "    }\n",
       "\n",
       "    .dataframe thead th {\n",
       "        text-align: right;\n",
       "    }\n",
       "</style>\n",
       "<table border=\"1\" class=\"dataframe\">\n",
       "  <thead>\n",
       "    <tr style=\"text-align: right;\">\n",
       "      <th></th>\n",
       "      <th>No.</th>\n",
       "      <th>user_name</th>\n",
       "      <th>user_location</th>\n",
       "      <th>user_description</th>\n",
       "      <th>user_created</th>\n",
       "      <th>user_followers</th>\n",
       "      <th>user_friends</th>\n",
       "      <th>user_favourites</th>\n",
       "      <th>user_verified</th>\n",
       "      <th>date</th>\n",
       "      <th>text</th>\n",
       "      <th>hashtags</th>\n",
       "      <th>source</th>\n",
       "      <th>is_retweet</th>\n",
       "      <th>Positive</th>\n",
       "      <th>Negative</th>\n",
       "      <th>Neutral</th>\n",
       "      <th>Compound</th>\n",
       "      <th>Sentiment</th>\n",
       "    </tr>\n",
       "  </thead>\n",
       "  <tbody>\n",
       "    <tr>\n",
       "      <th>0</th>\n",
       "      <td>0</td>\n",
       "      <td>MyNewsNE</td>\n",
       "      <td>Assam</td>\n",
       "      <td>MyNewsNE a dedicated multi-lingual media house...</td>\n",
       "      <td>24-05-2020 10:18</td>\n",
       "      <td>64</td>\n",
       "      <td>11</td>\n",
       "      <td>110</td>\n",
       "      <td>False</td>\n",
       "      <td>18-08-2020 12:55</td>\n",
       "      <td>Australia to Manufacture Covid-19 Vaccine and ...</td>\n",
       "      <td>['CovidVaccine']</td>\n",
       "      <td>Twitter Web App</td>\n",
       "      <td>False</td>\n",
       "      <td>0.148</td>\n",
       "      <td>0.000</td>\n",
       "      <td>0.852</td>\n",
       "      <td>0.5106</td>\n",
       "      <td>1</td>\n",
       "    </tr>\n",
       "    <tr>\n",
       "      <th>1</th>\n",
       "      <td>7</td>\n",
       "      <td>AKisASocialisolationist wash yer damn hands</td>\n",
       "      <td>The Great Pacific Northwest</td>\n",
       "      <td>Iconoclast, cat person, soccer fan, textile &amp; ...</td>\n",
       "      <td>07-02-2015 07:24</td>\n",
       "      <td>2321</td>\n",
       "      <td>3236</td>\n",
       "      <td>264351</td>\n",
       "      <td>False</td>\n",
       "      <td>18-08-2020 12:30</td>\n",
       "      <td>@MSNBC Well, let’s qualify that: would anyone ...</td>\n",
       "      <td>['CovidVaccine']</td>\n",
       "      <td>Twitter for iPhone</td>\n",
       "      <td>False</td>\n",
       "      <td>0.202</td>\n",
       "      <td>0.000</td>\n",
       "      <td>0.798</td>\n",
       "      <td>0.5859</td>\n",
       "      <td>1</td>\n",
       "    </tr>\n",
       "    <tr>\n",
       "      <th>2</th>\n",
       "      <td>8</td>\n",
       "      <td>Dr. Joseph Santoro</td>\n",
       "      <td>Washington, DC 20009</td>\n",
       "      <td>Neuro PhD, #Innovator, #Technologist, #Startup...</td>\n",
       "      <td>17-01-2009 21:10</td>\n",
       "      <td>19091</td>\n",
       "      <td>20986</td>\n",
       "      <td>128119</td>\n",
       "      <td>False</td>\n",
       "      <td>18-08-2020 12:15</td>\n",
       "      <td>Most countries, without the ability to make #V...</td>\n",
       "      <td>['Vaccines']</td>\n",
       "      <td>Hootsuite Inc.</td>\n",
       "      <td>False</td>\n",
       "      <td>0.098</td>\n",
       "      <td>0.195</td>\n",
       "      <td>0.707</td>\n",
       "      <td>-0.3532</td>\n",
       "      <td>-1</td>\n",
       "    </tr>\n",
       "    <tr>\n",
       "      <th>3</th>\n",
       "      <td>9</td>\n",
       "      <td>VUMC OAP</td>\n",
       "      <td>Nashville, TN</td>\n",
       "      <td>Office of Advanced Practice, Vanderbilt Univer...</td>\n",
       "      <td>16-03-2017 20:22</td>\n",
       "      <td>282</td>\n",
       "      <td>96</td>\n",
       "      <td>788</td>\n",
       "      <td>False</td>\n",
       "      <td>18-08-2020 11:57</td>\n",
       "      <td>#DNA  zooms up charts in 1st week; hear #vacci...</td>\n",
       "      <td>['DNA', 'vaccines', 'pandemic', 'COVID19', 'Co...</td>\n",
       "      <td>Twitter Web App</td>\n",
       "      <td>False</td>\n",
       "      <td>0.000</td>\n",
       "      <td>0.000</td>\n",
       "      <td>1.000</td>\n",
       "      <td>0.0000</td>\n",
       "      <td>0</td>\n",
       "    </tr>\n",
       "    <tr>\n",
       "      <th>4</th>\n",
       "      <td>11</td>\n",
       "      <td>Mohammadali Naseri</td>\n",
       "      <td>TEHRAN</td>\n",
       "      <td>MSc in Numerical Analysis from the Kharazmi Un...</td>\n",
       "      <td>02-02-2018 17:20</td>\n",
       "      <td>4</td>\n",
       "      <td>88</td>\n",
       "      <td>90</td>\n",
       "      <td>False</td>\n",
       "      <td>18-08-2020 11:04</td>\n",
       "      <td>it’s over?!\\n\\n#Covid19Millionares #covid19 \\n...</td>\n",
       "      <td>['Covid19Millionares', 'covid19', 'corona', 'C...</td>\n",
       "      <td>Twitter for iPhone</td>\n",
       "      <td>False</td>\n",
       "      <td>0.000</td>\n",
       "      <td>0.000</td>\n",
       "      <td>1.000</td>\n",
       "      <td>0.0000</td>\n",
       "      <td>0</td>\n",
       "    </tr>\n",
       "  </tbody>\n",
       "</table>\n",
       "</div>"
      ],
      "text/plain": [
       "   No.                                    user_name  \\\n",
       "0    0                                     MyNewsNE   \n",
       "1    7  AKisASocialisolationist wash yer damn hands   \n",
       "2    8                           Dr. Joseph Santoro   \n",
       "3    9                                     VUMC OAP   \n",
       "4   11                           Mohammadali Naseri   \n",
       "\n",
       "                 user_location  \\\n",
       "0                        Assam   \n",
       "1  The Great Pacific Northwest   \n",
       "2         Washington, DC 20009   \n",
       "3                Nashville, TN   \n",
       "4                       TEHRAN   \n",
       "\n",
       "                                    user_description      user_created  \\\n",
       "0  MyNewsNE a dedicated multi-lingual media house...  24-05-2020 10:18   \n",
       "1  Iconoclast, cat person, soccer fan, textile & ...  07-02-2015 07:24   \n",
       "2  Neuro PhD, #Innovator, #Technologist, #Startup...  17-01-2009 21:10   \n",
       "3  Office of Advanced Practice, Vanderbilt Univer...  16-03-2017 20:22   \n",
       "4  MSc in Numerical Analysis from the Kharazmi Un...  02-02-2018 17:20   \n",
       "\n",
       "   user_followers  user_friends  user_favourites  user_verified  \\\n",
       "0              64            11              110          False   \n",
       "1            2321          3236           264351          False   \n",
       "2           19091         20986           128119          False   \n",
       "3             282            96              788          False   \n",
       "4               4            88               90          False   \n",
       "\n",
       "               date                                               text  \\\n",
       "0  18-08-2020 12:55  Australia to Manufacture Covid-19 Vaccine and ...   \n",
       "1  18-08-2020 12:30  @MSNBC Well, let’s qualify that: would anyone ...   \n",
       "2  18-08-2020 12:15  Most countries, without the ability to make #V...   \n",
       "3  18-08-2020 11:57  #DNA  zooms up charts in 1st week; hear #vacci...   \n",
       "4  18-08-2020 11:04  it’s over?!\\n\\n#Covid19Millionares #covid19 \\n...   \n",
       "\n",
       "                                            hashtags              source  \\\n",
       "0                                   ['CovidVaccine']     Twitter Web App   \n",
       "1                                   ['CovidVaccine']  Twitter for iPhone   \n",
       "2                                       ['Vaccines']      Hootsuite Inc.   \n",
       "3  ['DNA', 'vaccines', 'pandemic', 'COVID19', 'Co...     Twitter Web App   \n",
       "4  ['Covid19Millionares', 'covid19', 'corona', 'C...  Twitter for iPhone   \n",
       "\n",
       "   is_retweet  Positive  Negative  Neutral  Compound  Sentiment  \n",
       "0       False     0.148     0.000    0.852    0.5106          1  \n",
       "1       False     0.202     0.000    0.798    0.5859          1  \n",
       "2       False     0.098     0.195    0.707   -0.3532         -1  \n",
       "3       False     0.000     0.000    1.000    0.0000          0  \n",
       "4       False     0.000     0.000    1.000    0.0000          0  "
      ]
     },
     "execution_count": 33,
     "metadata": {},
     "output_type": "execute_result"
    }
   ],
   "source": [
    "data.head()"
   ]
  },
  {
   "cell_type": "code",
   "execution_count": 34,
   "id": "30aa4d04",
   "metadata": {
    "execution": {
     "iopub.execute_input": "2022-04-06T23:50:58.061335Z",
     "iopub.status.busy": "2022-04-06T23:50:58.060585Z",
     "iopub.status.idle": "2022-04-06T23:50:58.074177Z",
     "shell.execute_reply": "2022-04-06T23:50:58.074606Z",
     "shell.execute_reply.started": "2022-04-06T23:22:08.453743Z"
    },
    "papermill": {
     "duration": 0.072886,
     "end_time": "2022-04-06T23:50:58.074753",
     "exception": false,
     "start_time": "2022-04-06T23:50:58.001867",
     "status": "completed"
    },
    "tags": []
   },
   "outputs": [
    {
     "data": {
      "text/html": [
       "<div>\n",
       "<style scoped>\n",
       "    .dataframe tbody tr th:only-of-type {\n",
       "        vertical-align: middle;\n",
       "    }\n",
       "\n",
       "    .dataframe tbody tr th {\n",
       "        vertical-align: top;\n",
       "    }\n",
       "\n",
       "    .dataframe thead th {\n",
       "        text-align: right;\n",
       "    }\n",
       "</style>\n",
       "<table border=\"1\" class=\"dataframe\">\n",
       "  <thead>\n",
       "    <tr style=\"text-align: right;\">\n",
       "      <th></th>\n",
       "      <th>text</th>\n",
       "      <th>Sentiment</th>\n",
       "    </tr>\n",
       "  </thead>\n",
       "  <tbody>\n",
       "    <tr>\n",
       "      <th>0</th>\n",
       "      <td>Australia to Manufacture Covid-19 Vaccine and ...</td>\n",
       "      <td>1</td>\n",
       "    </tr>\n",
       "    <tr>\n",
       "      <th>1</th>\n",
       "      <td>@MSNBC Well, let’s qualify that: would anyone ...</td>\n",
       "      <td>1</td>\n",
       "    </tr>\n",
       "    <tr>\n",
       "      <th>2</th>\n",
       "      <td>Most countries, without the ability to make #V...</td>\n",
       "      <td>-1</td>\n",
       "    </tr>\n",
       "    <tr>\n",
       "      <th>3</th>\n",
       "      <td>#DNA  zooms up charts in 1st week; hear #vacci...</td>\n",
       "      <td>0</td>\n",
       "    </tr>\n",
       "    <tr>\n",
       "      <th>4</th>\n",
       "      <td>it’s over?!\\n\\n#Covid19Millionares #covid19 \\n...</td>\n",
       "      <td>0</td>\n",
       "    </tr>\n",
       "  </tbody>\n",
       "</table>\n",
       "</div>"
      ],
      "text/plain": [
       "                                                text  Sentiment\n",
       "0  Australia to Manufacture Covid-19 Vaccine and ...          1\n",
       "1  @MSNBC Well, let’s qualify that: would anyone ...          1\n",
       "2  Most countries, without the ability to make #V...         -1\n",
       "3  #DNA  zooms up charts in 1st week; hear #vacci...          0\n",
       "4  it’s over?!\\n\\n#Covid19Millionares #covid19 \\n...          0"
      ]
     },
     "execution_count": 34,
     "metadata": {},
     "output_type": "execute_result"
    }
   ],
   "source": [
    "data.drop([\"No.\",\"user_name\", \"user_location\", \n",
    "                                \"user_description\", \"user_created\", \n",
    "                                \"user_followers\", \"user_friends\", \n",
    "                                \"user_favourites\", \"user_verified\",\"date\",\"hashtags\", \n",
    "                                \"source\", \"is_retweet\" ,\"Positive\",\"Negative\",\"Neutral\",\"Compound\"],axis=1,inplace=True)\n",
    "data.head()"
   ]
  },
  {
   "cell_type": "code",
   "execution_count": 35,
   "id": "e5019818",
   "metadata": {
    "execution": {
     "iopub.execute_input": "2022-04-06T23:50:58.188069Z",
     "iopub.status.busy": "2022-04-06T23:50:58.187346Z",
     "iopub.status.idle": "2022-04-06T23:50:58.226467Z",
     "shell.execute_reply": "2022-04-06T23:50:58.225984Z",
     "shell.execute_reply.started": "2022-04-06T23:22:08.480007Z"
    },
    "papermill": {
     "duration": 0.098474,
     "end_time": "2022-04-06T23:50:58.226597",
     "exception": false,
     "start_time": "2022-04-06T23:50:58.128123",
     "status": "completed"
    },
    "tags": []
   },
   "outputs": [
    {
     "name": "stdout",
     "output_type": "stream",
     "text": [
      "training set : (195220,) (195220,)\n",
      "testing set : (48805,) (48805,)\n"
     ]
    }
   ],
   "source": [
    "#Split data into training and testing sets \n",
    "from sklearn.feature_extraction.text import CountVectorizer\n",
    "from sklearn.model_selection import train_test_split\n",
    "x_train, x_test, y_train, y_test = train_test_split(data[\"text\"], \n",
    "                                                    data[\"Sentiment\"], test_size = 0.2, random_state = 42)\n",
    "\n",
    "print(\"training set :\",x_train.shape,y_train.shape)\n",
    "print(\"testing set :\",x_test.shape,y_test.shape)"
   ]
  },
  {
   "cell_type": "code",
   "execution_count": 36,
   "id": "73b8f287",
   "metadata": {
    "execution": {
     "iopub.execute_input": "2022-04-06T23:50:58.337693Z",
     "iopub.status.busy": "2022-04-06T23:50:58.337149Z",
     "iopub.status.idle": "2022-04-06T23:50:58.340829Z",
     "shell.execute_reply": "2022-04-06T23:50:58.341342Z",
     "shell.execute_reply.started": "2022-04-06T23:22:08.532316Z"
    },
    "papermill": {
     "duration": 0.061406,
     "end_time": "2022-04-06T23:50:58.341495",
     "exception": false,
     "start_time": "2022-04-06T23:50:58.280089",
     "status": "completed"
    },
    "tags": []
   },
   "outputs": [],
   "source": [
    "from sklearn.feature_extraction.text import CountVectorizer, TfidfTransformer\n",
    "count_vect = CountVectorizer(stop_words='english')\n",
    "transformer = TfidfTransformer(norm='l2',sublinear_tf=True)\n"
   ]
  },
  {
   "cell_type": "code",
   "execution_count": 37,
   "id": "07d82759",
   "metadata": {
    "execution": {
     "iopub.execute_input": "2022-04-06T23:50:58.486533Z",
     "iopub.status.busy": "2022-04-06T23:50:58.481479Z",
     "iopub.status.idle": "2022-04-06T23:51:05.917176Z",
     "shell.execute_reply": "2022-04-06T23:51:05.916365Z",
     "shell.execute_reply.started": "2022-04-06T23:22:08.539745Z"
    },
    "papermill": {
     "duration": 7.522295,
     "end_time": "2022-04-06T23:51:05.917310",
     "exception": false,
     "start_time": "2022-04-06T23:50:58.395015",
     "status": "completed"
    },
    "tags": []
   },
   "outputs": [
    {
     "name": "stdout",
     "output_type": "stream",
     "text": [
      "(195220, 297738)\n",
      "(195220, 297738)\n"
     ]
    }
   ],
   "source": [
    "x_train_counts = count_vect.fit_transform(x_train)\n",
    "x_train_tfidf = transformer.fit_transform(x_train_counts)\n",
    "\n",
    "print(x_train_counts.shape)\n",
    "print(x_train_tfidf.shape)"
   ]
  },
  {
   "cell_type": "code",
   "execution_count": 38,
   "id": "1d2b62f6",
   "metadata": {
    "execution": {
     "iopub.execute_input": "2022-04-06T23:51:06.083971Z",
     "iopub.status.busy": "2022-04-06T23:51:06.063491Z",
     "iopub.status.idle": "2022-04-06T23:51:07.441910Z",
     "shell.execute_reply": "2022-04-06T23:51:07.441487Z",
     "shell.execute_reply.started": "2022-04-06T23:22:16.156646Z"
    },
    "papermill": {
     "duration": 1.470976,
     "end_time": "2022-04-06T23:51:07.442053",
     "exception": false,
     "start_time": "2022-04-06T23:51:05.971077",
     "status": "completed"
    },
    "tags": []
   },
   "outputs": [
    {
     "name": "stdout",
     "output_type": "stream",
     "text": [
      "(48805, 297738)\n",
      "(48805, 297738)\n"
     ]
    }
   ],
   "source": [
    "x_test_counts = count_vect.transform(x_test)\n",
    "x_test_tfidf = transformer.transform(x_test_counts)\n",
    "\n",
    "print(x_test_counts.shape)\n",
    "print(x_test_tfidf.shape)"
   ]
  },
  {
   "cell_type": "code",
   "execution_count": 39,
   "id": "d0bf7247",
   "metadata": {
    "execution": {
     "iopub.execute_input": "2022-04-06T23:51:07.556396Z",
     "iopub.status.busy": "2022-04-06T23:51:07.555368Z",
     "iopub.status.idle": "2022-04-06T23:55:34.504201Z",
     "shell.execute_reply": "2022-04-06T23:55:34.504652Z",
     "shell.execute_reply.started": "2022-04-06T23:42:03.128392Z"
    },
    "papermill": {
     "duration": 267.008162,
     "end_time": "2022-04-06T23:55:34.504801",
     "exception": false,
     "start_time": "2022-04-06T23:51:07.496639",
     "status": "completed"
    },
    "tags": []
   },
   "outputs": [
    {
     "data": {
      "text/plain": [
       "RandomForestClassifier(n_estimators=10)"
      ]
     },
     "execution_count": 39,
     "metadata": {},
     "output_type": "execute_result"
    }
   ],
   "source": [
    "from sklearn.ensemble import RandomForestClassifier\n",
    "model = RandomForestClassifier(n_estimators=10)\n",
    "model.fit(x_train_tfidf,y_train)"
   ]
  },
  {
   "cell_type": "code",
   "execution_count": 40,
   "id": "9ecf5b17",
   "metadata": {
    "execution": {
     "iopub.execute_input": "2022-04-06T23:55:34.616005Z",
     "iopub.status.busy": "2022-04-06T23:55:34.615277Z",
     "iopub.status.idle": "2022-04-06T23:55:35.563582Z",
     "shell.execute_reply": "2022-04-06T23:55:35.563977Z",
     "shell.execute_reply.started": "2022-04-06T23:46:30.548627Z"
    },
    "papermill": {
     "duration": 1.006018,
     "end_time": "2022-04-06T23:55:35.564151",
     "exception": false,
     "start_time": "2022-04-06T23:55:34.558133",
     "status": "completed"
    },
    "tags": []
   },
   "outputs": [
    {
     "data": {
      "text/plain": [
       "76.24218830037906"
      ]
     },
     "execution_count": 40,
     "metadata": {},
     "output_type": "execute_result"
    }
   ],
   "source": [
    "predictions = model.predict(x_test_tfidf)\n",
    "#Accuracy_score\n",
    "from sklearn.metrics import accuracy_score\n",
    "accuracy_score(y_test,predictions)*100"
   ]
  },
  {
   "cell_type": "code",
   "execution_count": 41,
   "id": "93ae32b8",
   "metadata": {
    "execution": {
     "iopub.execute_input": "2022-04-06T23:55:35.678048Z",
     "iopub.status.busy": "2022-04-06T23:55:35.677189Z",
     "iopub.status.idle": "2022-04-06T23:55:35.740589Z",
     "shell.execute_reply": "2022-04-06T23:55:35.740985Z",
     "shell.execute_reply.started": "2022-04-06T23:46:44.324522Z"
    },
    "papermill": {
     "duration": 0.122286,
     "end_time": "2022-04-06T23:55:35.741155",
     "exception": false,
     "start_time": "2022-04-06T23:55:35.618869",
     "status": "completed"
    },
    "tags": []
   },
   "outputs": [
    {
     "data": {
      "text/plain": [
       "array([[ 5347,  2548,  2036],\n",
       "       [  637, 14505,  1333],\n",
       "       [ 1177,  3864, 17358]])"
      ]
     },
     "execution_count": 41,
     "metadata": {},
     "output_type": "execute_result"
    }
   ],
   "source": [
    "from sklearn.metrics import confusion_matrix,f1_score\n",
    "\n",
    "from sklearn.metrics import plot_confusion_matrix\n",
    "confusion_matrix(y_test,predictions)\n",
    "\n"
   ]
  },
  {
   "cell_type": "code",
   "execution_count": 42,
   "id": "e3be0950",
   "metadata": {
    "execution": {
     "iopub.execute_input": "2022-04-06T23:55:35.871879Z",
     "iopub.status.busy": "2022-04-06T23:55:35.871064Z",
     "iopub.status.idle": "2022-04-06T23:55:36.101082Z",
     "shell.execute_reply": "2022-04-06T23:55:36.100401Z",
     "shell.execute_reply.started": "2022-04-06T23:46:47.573651Z"
    },
    "papermill": {
     "duration": 0.304872,
     "end_time": "2022-04-06T23:55:36.101210",
     "exception": false,
     "start_time": "2022-04-06T23:55:35.796338",
     "status": "completed"
    },
    "tags": []
   },
   "outputs": [
    {
     "data": {
      "text/plain": [
       "<AxesSubplot:>"
      ]
     },
     "execution_count": 42,
     "metadata": {},
     "output_type": "execute_result"
    },
    {
     "data": {
      "image/png": "[encoded data removed]",
      "text/plain": [
       "<Figure size 720x504 with 2 Axes>"
      ]
     },
     "metadata": {},
     "output_type": "display_data"
    }
   ],
   "source": [
    "import seaborn as sn\n",
    "import pandas as pd\n",
    "import matplotlib.pyplot as plt\n",
    "array=[[ 5949,  3338],[ 815, 19895 ]]\n",
    "df_cm = pd.DataFrame(array, index = [i for i in \"AB\"],\n",
    "                  columns = [i for i in \"AB\"])\n",
    "plt.figure(figsize = (10,7))\n",
    "sn.heatmap(df_cm, annot=True)"
   ]
  },
  {
   "cell_type": "code",
   "execution_count": 43,
   "id": "d0be14d1",
   "metadata": {
    "execution": {
     "iopub.execute_input": "2022-04-06T23:55:36.216145Z",
     "iopub.status.busy": "2022-04-06T23:55:36.215321Z",
     "iopub.status.idle": "2022-04-06T23:55:36.471922Z",
     "shell.execute_reply": "2022-04-06T23:55:36.471259Z"
    },
    "papermill": {
     "duration": 0.315069,
     "end_time": "2022-04-06T23:55:36.472196",
     "exception": true,
     "start_time": "2022-04-06T23:55:36.157127",
     "status": "failed"
    },
    "tags": []
   },
   "outputs": [
    {
     "ename": "ValueError",
     "evalue": "Target is multiclass but average='binary'. Please choose another average setting, one of [None, 'micro', 'macro', 'weighted'].",
     "output_type": "error",
     "traceback": [
      "\u001b[0;31m---------------------------------------------------------------------------\u001b[0m",
      "\u001b[0;31mValueError\u001b[0m                                Traceback (most recent call last)",
      "\u001b[0;32m<ipython-input-43-f7fa5dd70418>\u001b[0m in \u001b[0;36m<module>\u001b[0;34m\u001b[0m\n\u001b[1;32m      1\u001b[0m \u001b[0;31m#f1-score\u001b[0m\u001b[0;34m\u001b[0m\u001b[0;34m\u001b[0m\u001b[0;34m\u001b[0m\u001b[0m\n\u001b[0;32m----> 2\u001b[0;31m \u001b[0mf1_score\u001b[0m\u001b[0;34m(\u001b[0m\u001b[0my_test\u001b[0m\u001b[0;34m,\u001b[0m\u001b[0mpredictions\u001b[0m\u001b[0;34m)\u001b[0m\u001b[0;34m\u001b[0m\u001b[0;34m\u001b[0m\u001b[0m\n\u001b[0m",
      "\u001b[0;32m/opt/conda/lib/python3.7/site-packages/sklearn/utils/validation.py\u001b[0m in \u001b[0;36minner_f\u001b[0;34m(*args, **kwargs)\u001b[0m\n\u001b[1;32m     70\u001b[0m                           FutureWarning)\n\u001b[1;32m     71\u001b[0m         \u001b[0mkwargs\u001b[0m\u001b[0;34m.\u001b[0m\u001b[0mupdate\u001b[0m\u001b[0;34m(\u001b[0m\u001b[0;34m{\u001b[0m\u001b[0mk\u001b[0m\u001b[0;34m:\u001b[0m \u001b[0marg\u001b[0m \u001b[0;32mfor\u001b[0m \u001b[0mk\u001b[0m\u001b[0;34m,\u001b[0m \u001b[0marg\u001b[0m \u001b[0;32min\u001b[0m \u001b[0mzip\u001b[0m\u001b[0;34m(\u001b[0m\u001b[0msig\u001b[0m\u001b[0;34m.\u001b[0m\u001b[0mparameters\u001b[0m\u001b[0;34m,\u001b[0m \u001b[0margs\u001b[0m\u001b[0;34m)\u001b[0m\u001b[0;34m}\u001b[0m\u001b[0;34m)\u001b[0m\u001b[0;34m\u001b[0m\u001b[0;34m\u001b[0m\u001b[0m\n\u001b[0;32m---> 72\u001b[0;31m         \u001b[0;32mreturn\u001b[0m \u001b[0mf\u001b[0m\u001b[0;34m(\u001b[0m\u001b[0;34m**\u001b[0m\u001b[0mkwargs\u001b[0m\u001b[0;34m)\u001b[0m\u001b[0;34m\u001b[0m\u001b[0;34m\u001b[0m\u001b[0m\n\u001b[0m\u001b[1;32m     73\u001b[0m     \u001b[0;32mreturn\u001b[0m \u001b[0minner_f\u001b[0m\u001b[0;34m\u001b[0m\u001b[0;34m\u001b[0m\u001b[0m\n\u001b[1;32m     74\u001b[0m \u001b[0;34m\u001b[0m\u001b[0m\n",
      "\u001b[0;32m/opt/conda/lib/python3.7/site-packages/sklearn/metrics/_classification.py\u001b[0m in \u001b[0;36mf1_score\u001b[0;34m(y_true, y_pred, labels, pos_label, average, sample_weight, zero_division)\u001b[0m\n\u001b[1;32m   1045\u001b[0m                        \u001b[0mpos_label\u001b[0m\u001b[0;34m=\u001b[0m\u001b[0mpos_label\u001b[0m\u001b[0;34m,\u001b[0m \u001b[0maverage\u001b[0m\u001b[0;34m=\u001b[0m\u001b[0maverage\u001b[0m\u001b[0;34m,\u001b[0m\u001b[0;34m\u001b[0m\u001b[0;34m\u001b[0m\u001b[0m\n\u001b[1;32m   1046\u001b[0m                        \u001b[0msample_weight\u001b[0m\u001b[0;34m=\u001b[0m\u001b[0msample_weight\u001b[0m\u001b[0;34m,\u001b[0m\u001b[0;34m\u001b[0m\u001b[0;34m\u001b[0m\u001b[0m\n\u001b[0;32m-> 1047\u001b[0;31m                        zero_division=zero_division)\n\u001b[0m\u001b[1;32m   1048\u001b[0m \u001b[0;34m\u001b[0m\u001b[0m\n\u001b[1;32m   1049\u001b[0m \u001b[0;34m\u001b[0m\u001b[0m\n",
      "\u001b[0;32m/opt/conda/lib/python3.7/site-packages/sklearn/utils/validation.py\u001b[0m in \u001b[0;36minner_f\u001b[0;34m(*args, **kwargs)\u001b[0m\n\u001b[1;32m     70\u001b[0m                           FutureWarning)\n\u001b[1;32m     71\u001b[0m         \u001b[0mkwargs\u001b[0m\u001b[0;34m.\u001b[0m\u001b[0mupdate\u001b[0m\u001b[0;34m(\u001b[0m\u001b[0;34m{\u001b[0m\u001b[0mk\u001b[0m\u001b[0;34m:\u001b[0m \u001b[0marg\u001b[0m \u001b[0;32mfor\u001b[0m \u001b[0mk\u001b[0m\u001b[0;34m,\u001b[0m \u001b[0marg\u001b[0m \u001b[0;32min\u001b[0m \u001b[0mzip\u001b[0m\u001b[0;34m(\u001b[0m\u001b[0msig\u001b[0m\u001b[0;34m.\u001b[0m\u001b[0mparameters\u001b[0m\u001b[0;34m,\u001b[0m \u001b[0margs\u001b[0m\u001b[0;34m)\u001b[0m\u001b[0;34m}\u001b[0m\u001b[0;34m)\u001b[0m\u001b[0;34m\u001b[0m\u001b[0;34m\u001b[0m\u001b[0m\n\u001b[0;32m---> 72\u001b[0;31m         \u001b[0;32mreturn\u001b[0m \u001b[0mf\u001b[0m\u001b[0;34m(\u001b[0m\u001b[0;34m**\u001b[0m\u001b[0mkwargs\u001b[0m\u001b[0;34m)\u001b[0m\u001b[0;34m\u001b[0m\u001b[0;34m\u001b[0m\u001b[0m\n\u001b[0m\u001b[1;32m     73\u001b[0m     \u001b[0;32mreturn\u001b[0m \u001b[0minner_f\u001b[0m\u001b[0;34m\u001b[0m\u001b[0;34m\u001b[0m\u001b[0m\n\u001b[1;32m     74\u001b[0m \u001b[0;34m\u001b[0m\u001b[0m\n",
      "\u001b[0;32m/opt/conda/lib/python3.7/site-packages/sklearn/metrics/_classification.py\u001b[0m in \u001b[0;36mfbeta_score\u001b[0;34m(y_true, y_pred, beta, labels, pos_label, average, sample_weight, zero_division)\u001b[0m\n\u001b[1;32m   1173\u001b[0m                                                  \u001b[0mwarn_for\u001b[0m\u001b[0;34m=\u001b[0m\u001b[0;34m(\u001b[0m\u001b[0;34m'f-score'\u001b[0m\u001b[0;34m,\u001b[0m\u001b[0;34m)\u001b[0m\u001b[0;34m,\u001b[0m\u001b[0;34m\u001b[0m\u001b[0;34m\u001b[0m\u001b[0m\n\u001b[1;32m   1174\u001b[0m                                                  \u001b[0msample_weight\u001b[0m\u001b[0;34m=\u001b[0m\u001b[0msample_weight\u001b[0m\u001b[0;34m,\u001b[0m\u001b[0;34m\u001b[0m\u001b[0;34m\u001b[0m\u001b[0m\n\u001b[0;32m-> 1175\u001b[0;31m                                                  zero_division=zero_division)\n\u001b[0m\u001b[1;32m   1176\u001b[0m     \u001b[0;32mreturn\u001b[0m \u001b[0mf\u001b[0m\u001b[0;34m\u001b[0m\u001b[0;34m\u001b[0m\u001b[0m\n\u001b[1;32m   1177\u001b[0m \u001b[0;34m\u001b[0m\u001b[0m\n",
      "\u001b[0;32m/opt/conda/lib/python3.7/site-packages/sklearn/utils/validation.py\u001b[0m in \u001b[0;36minner_f\u001b[0;34m(*args, **kwargs)\u001b[0m\n\u001b[1;32m     70\u001b[0m                           FutureWarning)\n\u001b[1;32m     71\u001b[0m         \u001b[0mkwargs\u001b[0m\u001b[0;34m.\u001b[0m\u001b[0mupdate\u001b[0m\u001b[0;34m(\u001b[0m\u001b[0;34m{\u001b[0m\u001b[0mk\u001b[0m\u001b[0;34m:\u001b[0m \u001b[0marg\u001b[0m \u001b[0;32mfor\u001b[0m \u001b[0mk\u001b[0m\u001b[0;34m,\u001b[0m \u001b[0marg\u001b[0m \u001b[0;32min\u001b[0m \u001b[0mzip\u001b[0m\u001b[0;34m(\u001b[0m\u001b[0msig\u001b[0m\u001b[0;34m.\u001b[0m\u001b[0mparameters\u001b[0m\u001b[0;34m,\u001b[0m \u001b[0margs\u001b[0m\u001b[0;34m)\u001b[0m\u001b[0;34m}\u001b[0m\u001b[0;34m)\u001b[0m\u001b[0;34m\u001b[0m\u001b[0;34m\u001b[0m\u001b[0m\n\u001b[0;32m---> 72\u001b[0;31m         \u001b[0;32mreturn\u001b[0m \u001b[0mf\u001b[0m\u001b[0;34m(\u001b[0m\u001b[0;34m**\u001b[0m\u001b[0mkwargs\u001b[0m\u001b[0;34m)\u001b[0m\u001b[0;34m\u001b[0m\u001b[0;34m\u001b[0m\u001b[0m\n\u001b[0m\u001b[1;32m     73\u001b[0m     \u001b[0;32mreturn\u001b[0m \u001b[0minner_f\u001b[0m\u001b[0;34m\u001b[0m\u001b[0;34m\u001b[0m\u001b[0m\n\u001b[1;32m     74\u001b[0m \u001b[0;34m\u001b[0m\u001b[0m\n",
      "\u001b[0;32m/opt/conda/lib/python3.7/site-packages/sklearn/metrics/_classification.py\u001b[0m in \u001b[0;36mprecision_recall_fscore_support\u001b[0;34m(y_true, y_pred, beta, labels, pos_label, average, warn_for, sample_weight, zero_division)\u001b[0m\n\u001b[1;32m   1432\u001b[0m         \u001b[0;32mraise\u001b[0m \u001b[0mValueError\u001b[0m\u001b[0;34m(\u001b[0m\u001b[0;34m\"beta should be >=0 in the F-beta score\"\u001b[0m\u001b[0;34m)\u001b[0m\u001b[0;34m\u001b[0m\u001b[0;34m\u001b[0m\u001b[0m\n\u001b[1;32m   1433\u001b[0m     labels = _check_set_wise_labels(y_true, y_pred, average, labels,\n\u001b[0;32m-> 1434\u001b[0;31m                                     pos_label)\n\u001b[0m\u001b[1;32m   1435\u001b[0m \u001b[0;34m\u001b[0m\u001b[0m\n\u001b[1;32m   1436\u001b[0m     \u001b[0;31m# Calculate tp_sum, pred_sum, true_sum ###\u001b[0m\u001b[0;34m\u001b[0m\u001b[0;34m\u001b[0m\u001b[0;34m\u001b[0m\u001b[0m\n",
      "\u001b[0;32m/opt/conda/lib/python3.7/site-packages/sklearn/metrics/_classification.py\u001b[0m in \u001b[0;36m_check_set_wise_labels\u001b[0;34m(y_true, y_pred, average, labels, pos_label)\u001b[0m\n\u001b[1;32m   1263\u001b[0m             raise ValueError(\"Target is %s but average='binary'. Please \"\n\u001b[1;32m   1264\u001b[0m                              \u001b[0;34m\"choose another average setting, one of %r.\"\u001b[0m\u001b[0;34m\u001b[0m\u001b[0;34m\u001b[0m\u001b[0m\n\u001b[0;32m-> 1265\u001b[0;31m                              % (y_type, average_options))\n\u001b[0m\u001b[1;32m   1266\u001b[0m     \u001b[0;32melif\u001b[0m \u001b[0mpos_label\u001b[0m \u001b[0;32mnot\u001b[0m \u001b[0;32min\u001b[0m \u001b[0;34m(\u001b[0m\u001b[0;32mNone\u001b[0m\u001b[0;34m,\u001b[0m \u001b[0;36m1\u001b[0m\u001b[0;34m)\u001b[0m\u001b[0;34m:\u001b[0m\u001b[0;34m\u001b[0m\u001b[0;34m\u001b[0m\u001b[0m\n\u001b[1;32m   1267\u001b[0m         warnings.warn(\"Note that pos_label (set to %r) is ignored when \"\n",
      "\u001b[0;31mValueError\u001b[0m: Target is multiclass but average='binary'. Please choose another average setting, one of [None, 'micro', 'macro', 'weighted']."
     ]
    }
   ],
   "source": [
    "#f1-score\n",
    "f1_score(y_test,predictions)"
   ]
  },
  {
   "cell_type": "code",
   "execution_count": null,
   "id": "f9045c1f",
   "metadata": {
    "execution": {
     "iopub.status.busy": "2022-04-06T23:41:51.161980Z",
     "iopub.status.idle": "2022-04-06T23:41:51.162653Z"
    },
    "papermill": {
     "duration": null,
     "end_time": null,
     "exception": null,
     "start_time": null,
     "status": "pending"
    },
    "tags": []
   },
   "outputs": [],
   "source": [
    "from sklearn.metrics import classification_report"
   ]
  },
  {
   "cell_type": "code",
   "execution_count": null,
   "id": "841d9b8d",
   "metadata": {
    "execution": {
     "iopub.status.busy": "2022-04-06T23:41:51.163681Z",
     "iopub.status.idle": "2022-04-06T23:41:51.164380Z"
    },
    "papermill": {
     "duration": null,
     "end_time": null,
     "exception": null,
     "start_time": null,
     "status": "pending"
    },
    "tags": []
   },
   "outputs": [],
   "source": [
    "from sklearn.metrics import accuracy_score\n",
    "accuracy_score(y_test,predictions)*100"
   ]
  },
  {
   "cell_type": "code",
   "execution_count": null,
   "id": "0dc40225",
   "metadata": {
    "execution": {
     "iopub.status.busy": "2022-04-06T23:41:51.165402Z",
     "iopub.status.idle": "2022-04-06T23:41:51.166098Z"
    },
    "papermill": {
     "duration": null,
     "end_time": null,
     "exception": null,
     "start_time": null,
     "status": "pending"
    },
    "tags": []
   },
   "outputs": [],
   "source": [
    "print(\"Classification Report : \")\n",
    "print(classification_report(y_test,predictions))"
   ]
  }
 ],
 "metadata": {
  "kernelspec": {
   "display_name": "Python 3",
   "language": "python",
   "name": "python3"
  },
  "language_info": {
   "codemirror_mode": {
    "name": "ipython",
    "version": 3
   },
   "file_extension": ".py",
   "mimetype": "text/x-python",
   "name": "python",
   "nbconvert_exporter": "python",
   "pygments_lexer": "ipython3",
   "version": "3.7.10"
  },
  "papermill": {
   "default_parameters": {},
   "duration": 406.829051,
   "end_time": "2022-04-06T23:55:39.261588",
   "environment_variables": {},
   "exception": true,
   "input_path": "__notebook__.ipynb",
   "output_path": "__notebook__.ipynb",
   "parameters": {},
   "start_time": "2022-04-06T23:48:52.432537",
   "version": "2.3.3"
  }
 },
 "nbformat": 4,
 "nbformat_minor": 5
}
